{
 "cells": [
  {
   "cell_type": "markdown",
   "metadata": {
    "application/vnd.databricks.v1+cell": {
     "cellMetadata": {},
     "inputWidgets": {},
     "nuid": "09f18eb4-27b2-4349-a741-d06d7d9c4016",
     "showTitle": false,
     "title": ""
    }
   },
   "source": [
    "Consumindo o contéudo de um tópico do Kafka com Spark Streaming"
   ]
  },
  {
   "cell_type": "code",
   "execution_count": 0,
   "metadata": {
    "application/vnd.databricks.v1+cell": {
     "cellMetadata": {
      "byteLimit": 2048000,
      "rowLimit": 10000
     },
     "inputWidgets": {},
     "nuid": "815bea21-0874-4612-bf3b-3a4b323eb48b",
     "showTitle": false,
     "title": ""
    }
   },
   "outputs": [
    {
     "output_type": "display_data",
     "data": {
      "text/html": [
       "<style scoped>\n",
       "  .table-result-container {\n",
       "    max-height: 300px;\n",
       "    overflow: auto;\n",
       "  }\n",
       "  table, th, td {\n",
       "    border: 1px solid black;\n",
       "    border-collapse: collapse;\n",
       "  }\n",
       "  th, td {\n",
       "    padding: 5px;\n",
       "  }\n",
       "  th {\n",
       "    text-align: left;\n",
       "  }\n",
       "</style><div class='table-result-container'><table class='table-result'><thead style='background-color: white'><tr><th>key</th><th>value</th><th>topic</th><th>partition</th><th>offset</th><th>timestamp</th><th>timestampType</th></tr></thead><tbody><tr><td>null</td><td>eyJpZCI6IDEsICJub21lIjogIk1hdGhldXMiLCAiaWRhZGUiOiAyN30=</td><td>primeiro_topico</td><td>0</td><td>0</td><td>2023-10-04T00:15:11.192+0000</td><td>0</td></tr><tr><td>null</td><td>eyJpZCI6IDEsICJub21lIjogIk1hdGhldXMiLCAiaWRhZGUiOiAzMH0=</td><td>primeiro_topico</td><td>0</td><td>1</td><td>2023-10-04T00:16:20.777+0000</td><td>0</td></tr><tr><td>null</td><td>eyJpZCI6IDEsICJub21lIjogIk1hdGhldXMiLCAiaWRhZGUiOiAzMH0=</td><td>primeiro_topico</td><td>0</td><td>2</td><td>2023-10-04T00:22:44.013+0000</td><td>0</td></tr><tr><td>null</td><td>eyJpZCI6IDEsICJub21lIjogIk1hdGhldXMiLCAiaWRhZGUiOiAxMH0=</td><td>primeiro_topico</td><td>0</td><td>3</td><td>2023-10-04T00:55:43.096+0000</td><td>0</td></tr><tr><td>null</td><td>eyJpZCI6IDEsICJub21lIjogIkRhbmlsbyIsICJpZGFkZSI6IDEwfQ==</td><td>primeiro_topico</td><td>0</td><td>4</td><td>2023-10-04T01:03:40.677+0000</td><td>0</td></tr><tr><td>null</td><td>WyJ7XCJpZFwiOlwiSmVzc2ljYSBGcmVlYm9yblwiLFwibmFtZVwiOlwiU2hvcnQgYnVyc3RzIG9mIGV4ZXJjaXNlIG1heSBsb3dlciB0aGUgcmlzayBvZiBoZWFydCBhdHRhY2sgYW5kIHN0cm9rZVwiLFwiYXV0aG9yXCI6XCI= (truncated)</td><td>primeiro_topico</td><td>0</td><td>5</td><td>2023-10-04T01:42:16.044+0000</td><td>0</td></tr><tr><td>null</td><td>WyJ7XCJpZFwiOlwiSmVzc2ljYSBGcmVlYm9yblwiLFwibmFtZVwiOlwiU2hvcnQgYnVyc3RzIG9mIGV4ZXJjaXNlIG1heSBsb3dlciB0aGUgcmlzayBvZiBoZWFydCBhdHRhY2sgYW5kIHN0cm9rZVwiLFwiYXV0aG9yXCI6XCI= (truncated)</td><td>primeiro_topico</td><td>0</td><td>6</td><td>2023-10-04T01:46:06.741+0000</td><td>0</td></tr><tr><td>null</td><td>WyJ7XCJpZFwiOlwiSmVzc2ljYSBGcmVlYm9yblwiLFwibmFtZVwiOlwiU2hvcnQgYnVyc3RzIG9mIGV4ZXJjaXNlIG1heSBsb3dlciB0aGUgcmlzayBvZiBoZWFydCBhdHRhY2sgYW5kIHN0cm9rZVwiLFwiYXV0aG9yXCI6XCI= (truncated)</td><td>primeiro_topico</td><td>0</td><td>7</td><td>2023-10-04T01:47:11.613+0000</td><td>0</td></tr><tr><td>null</td><td>WyJ7XCJpZFwiOlwiSmVzc2ljYSBGcmVlYm9yblwiLFwibmFtZVwiOlwiU2hvcnQgYnVyc3RzIG9mIGV4ZXJjaXNlIG1heSBsb3dlciB0aGUgcmlzayBvZiBoZWFydCBhdHRhY2sgYW5kIHN0cm9rZVwiLFwiYXV0aG9yXCI6XCI= (truncated)</td><td>primeiro_topico</td><td>0</td><td>8</td><td>2023-10-04T01:49:28.779+0000</td><td>0</td></tr><tr><td>null</td><td>IntcImlkXCI6XCJKZXNzaWNhIEZyZWVib3JuXCIsXCJuYW1lXCI6XCJTaG9ydCBidXJzdHMgb2YgZXhlcmNpc2UgbWF5IGxvd2VyIHRoZSByaXNrIG9mIGhlYXJ0IGF0dGFjayBhbmQgc3Ryb2tlXCIsXCJhdXRob3JcIjpcIkE= (truncated)</td><td>primeiro_topico</td><td>0</td><td>9</td><td>2023-10-04T01:52:14.473+0000</td><td>0</td></tr><tr><td>null</td><td>IntcImlkXCI6XCJKZXNzaWNhIEZyZWVib3JuXCIsXCJuYW1lXCI6XCJTaG9ydCBidXJzdHMgb2YgZXhlcmNpc2UgbWF5IGxvd2VyIHRoZSByaXNrIG9mIGhlYXJ0IGF0dGFjayBhbmQgc3Ryb2tlXCIsXCJhdXRob3JcIjpcIkE= (truncated)</td><td>primeiro_topico</td><td>0</td><td>10</td><td>2023-10-04T01:53:16.880+0000</td><td>0</td></tr></tbody></table></div>"
      ]
     },
     "metadata": {
      "application/vnd.databricks.v1+output": {
       "addedWidgets": {},
       "aggData": [],
       "aggError": "",
       "aggOverflow": false,
       "aggSchema": [],
       "aggSeriesLimitReached": false,
       "aggType": "",
       "arguments": {},
       "columnCustomDisplayInfos": {},
       "data": [
        [
         null,
         "eyJpZCI6IDEsICJub21lIjogIk1hdGhldXMiLCAiaWRhZGUiOiAyN30=",
         "primeiro_topico",
         0,
         0,
         "2023-10-04T00:15:11.192+0000",
         0
        ],
        [
         null,
         "eyJpZCI6IDEsICJub21lIjogIk1hdGhldXMiLCAiaWRhZGUiOiAzMH0=",
         "primeiro_topico",
         0,
         1,
         "2023-10-04T00:16:20.777+0000",
         0
        ],
        [
         null,
         "eyJpZCI6IDEsICJub21lIjogIk1hdGhldXMiLCAiaWRhZGUiOiAzMH0=",
         "primeiro_topico",
         0,
         2,
         "2023-10-04T00:22:44.013+0000",
         0
        ],
        [
         null,
         "eyJpZCI6IDEsICJub21lIjogIk1hdGhldXMiLCAiaWRhZGUiOiAxMH0=",
         "primeiro_topico",
         0,
         3,
         "2023-10-04T00:55:43.096+0000",
         0
        ],
        [
         null,
         "eyJpZCI6IDEsICJub21lIjogIkRhbmlsbyIsICJpZGFkZSI6IDEwfQ==",
         "primeiro_topico",
         0,
         4,
         "2023-10-04T01:03:40.677+0000",
         0
        ],
        [
         null,
         "WyJ7XCJpZFwiOlwiSmVzc2ljYSBGcmVlYm9yblwiLFwibmFtZVwiOlwiU2hvcnQgYnVyc3RzIG9mIGV4ZXJjaXNlIG1heSBsb3dlciB0aGUgcmlzayBvZiBoZWFydCBhdHRhY2sgYW5kIHN0cm9rZVwiLFwiYXV0aG9yXCI6XCI= (truncated)",
         "primeiro_topico",
         0,
         5,
         "2023-10-04T01:42:16.044+0000",
         0
        ],
        [
         null,
         "WyJ7XCJpZFwiOlwiSmVzc2ljYSBGcmVlYm9yblwiLFwibmFtZVwiOlwiU2hvcnQgYnVyc3RzIG9mIGV4ZXJjaXNlIG1heSBsb3dlciB0aGUgcmlzayBvZiBoZWFydCBhdHRhY2sgYW5kIHN0cm9rZVwiLFwiYXV0aG9yXCI6XCI= (truncated)",
         "primeiro_topico",
         0,
         6,
         "2023-10-04T01:46:06.741+0000",
         0
        ],
        [
         null,
         "WyJ7XCJpZFwiOlwiSmVzc2ljYSBGcmVlYm9yblwiLFwibmFtZVwiOlwiU2hvcnQgYnVyc3RzIG9mIGV4ZXJjaXNlIG1heSBsb3dlciB0aGUgcmlzayBvZiBoZWFydCBhdHRhY2sgYW5kIHN0cm9rZVwiLFwiYXV0aG9yXCI6XCI= (truncated)",
         "primeiro_topico",
         0,
         7,
         "2023-10-04T01:47:11.613+0000",
         0
        ],
        [
         null,
         "WyJ7XCJpZFwiOlwiSmVzc2ljYSBGcmVlYm9yblwiLFwibmFtZVwiOlwiU2hvcnQgYnVyc3RzIG9mIGV4ZXJjaXNlIG1heSBsb3dlciB0aGUgcmlzayBvZiBoZWFydCBhdHRhY2sgYW5kIHN0cm9rZVwiLFwiYXV0aG9yXCI6XCI= (truncated)",
         "primeiro_topico",
         0,
         8,
         "2023-10-04T01:49:28.779+0000",
         0
        ],
        [
         null,
         "IntcImlkXCI6XCJKZXNzaWNhIEZyZWVib3JuXCIsXCJuYW1lXCI6XCJTaG9ydCBidXJzdHMgb2YgZXhlcmNpc2UgbWF5IGxvd2VyIHRoZSByaXNrIG9mIGhlYXJ0IGF0dGFjayBhbmQgc3Ryb2tlXCIsXCJhdXRob3JcIjpcIkE= (truncated)",
         "primeiro_topico",
         0,
         9,
         "2023-10-04T01:52:14.473+0000",
         0
        ],
        [
         null,
         "IntcImlkXCI6XCJKZXNzaWNhIEZyZWVib3JuXCIsXCJuYW1lXCI6XCJTaG9ydCBidXJzdHMgb2YgZXhlcmNpc2UgbWF5IGxvd2VyIHRoZSByaXNrIG9mIGhlYXJ0IGF0dGFjayBhbmQgc3Ryb2tlXCIsXCJhdXRob3JcIjpcIkE= (truncated)",
         "primeiro_topico",
         0,
         10,
         "2023-10-04T01:53:16.880+0000",
         0
        ]
       ],
       "datasetInfos": [],
       "dbfsResultPath": null,
       "isJsonSchema": true,
       "metadata": {
        "isDbfsCommandResult": false
       },
       "overflow": false,
       "plotOptions": {
        "customPlotOptions": {},
        "displayType": "table",
        "pivotAggregation": null,
        "pivotColumns": null,
        "xColumns": null,
        "yColumns": null
       },
       "removedWidgets": [],
       "schema": [
        {
         "metadata": "{}",
         "name": "key",
         "type": "\"binary\""
        },
        {
         "metadata": "{}",
         "name": "value",
         "type": "\"binary\""
        },
        {
         "metadata": "{}",
         "name": "topic",
         "type": "\"string\""
        },
        {
         "metadata": "{}",
         "name": "partition",
         "type": "\"integer\""
        },
        {
         "metadata": "{}",
         "name": "offset",
         "type": "\"long\""
        },
        {
         "metadata": "{}",
         "name": "timestamp",
         "type": "\"timestamp\""
        },
        {
         "metadata": "{}",
         "name": "timestampType",
         "type": "\"integer\""
        }
       ],
       "type": "table"
      }
     },
     "output_type": "display_data"
    }
   ],
   "source": [
    "df = spark.readStream.format(\"kafka\") \\\n",
    "        .option(\"kafka.bootstrap.servers\", \"localhost:9092\") \\\n",
    "        .option(\"subscribe\", \"primeiro_topico\") \\\n",
    "        .option(\"startingOffsets\", \"earliest\") \\\n",
    "        .load()\n",
    "\n",
    "display(df)"
   ]
  },
  {
   "cell_type": "markdown",
   "metadata": {
    "application/vnd.databricks.v1+cell": {
     "cellMetadata": {},
     "inputWidgets": {},
     "nuid": "e9ea1b95-bb96-47a9-82cc-b454a2a8e865",
     "showTitle": false,
     "title": ""
    }
   },
   "source": [
    "Consumindo e transformando o contéudo de um tópico do Kafka com o Spark Streaming"
   ]
  },
  {
   "cell_type": "code",
   "execution_count": 0,
   "metadata": {
    "application/vnd.databricks.v1+cell": {
     "cellMetadata": {
      "byteLimit": 2048000,
      "rowLimit": 10000
     },
     "inputWidgets": {},
     "nuid": "398e7857-ab21-447e-a32f-e4c0f6afbe65",
     "showTitle": false,
     "title": ""
    }
   },
   "outputs": [],
   "source": [
    "from pyspark.sql.functions import col, from_json\n",
    "from pyspark.sql.types import IntegerType, StringType, StructType, StructField\n",
    "\n",
    "df = spark.readStream.format(\"kafka\") \\\n",
    "        .option(\"kafka.bootstrap.servers\", \"localhost:9092\") \\\n",
    "        .option(\"subscribe\", \"primeiro_topico\") \\\n",
    "        .option(\"startingOffsets\", \"earliest\") \\\n",
    "        .load()\n",
    "\n",
    "schema = StructType([\n",
    "    StructField(\"id\", StringType(), True),\n",
    "    StructField(\"name\", StringType(), True),\n",
    "    StructField(\"author\", StringType(), True),\n",
    "    StructField(\"title\", StringType(), True),\n",
    "    StructField(\"description\", StringType(), True),\n",
    "    StructField(\"url\", StringType(), True),\n",
    "    StructField(\"urlToImage\", StringType(), True),\n",
    "    StructField(\"publishedAt\", StringType(), True),\n",
    "    StructField(\"content\", StringType(), True)\n",
    "])\n",
    "\n",
    "df_res = df.selectExpr(\"CAST(value AS STRING)\") \\\n",
    "    .select(from_json(col(\"value\"), schema).alias(\"data\")) \\\n",
    "    .select(\"data.*\")\n",
    "\n",
    "df_res.writeStream.format(\"parquet\") \\\n",
    "                  .option(\"path\", \"/FileStore/streaming_data/data\") \\\n",
    "                  .option(\"checkpointLocation\", \"/FileStore/checkpoint_data/_checkpoint\") \\\n",
    "                  .start() \\\n",
    "                  .awaitTermination()"
   ]
  }
 ],
 "metadata": {
  "application/vnd.databricks.v1+notebook": {
   "dashboards": [],
   "language": "python",
   "notebookMetadata": {
    "pythonIndentUnit": 4
   },
   "notebookName": "Spark Streaming",
   "widgets": {}
  }
 },
 "nbformat": 4,
 "nbformat_minor": 0
}
