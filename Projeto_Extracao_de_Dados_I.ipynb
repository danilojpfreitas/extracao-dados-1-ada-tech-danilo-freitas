{
 "cells": [
  {
   "cell_type": "markdown",
   "metadata": {
    "application/vnd.databricks.v1+cell": {
     "cellMetadata": {},
     "inputWidgets": {},
     "nuid": "832b40d8-8b1c-448e-9004-819334ce0710",
     "showTitle": false,
     "title": ""
    }
   },
   "source": [
    "## Projeto - Extração de Dados I\n",
    "\n",
    "### Sistema de Monitoramento de Avanços no Campo da Genômica\n",
    "\n",
    "###Contexto:\n",
    "\n",
    "#### O grupo trabalha no time de engenharia de dados na HealthGen, uma empresa especializada em genômica e pesquisa de medicina personalizada. A genômica é o estudo do conjunto completo de genes de um organismo, desempenha um papel fundamental na medicina personalizada e na pesquisa biomédica. Permite a análise do DNA para identificar variantes genéticas e mutações associadas a doenças e facilita a personalização de tratamentos com base nas características genéticas individuais dos pacientes.\n",
    "\n",
    "#### A empresa precisa se manter atualizada sobre os avanços mais recentes na genômica, identificar oportunidades para pesquisa e desenvolvimento de tratamentos personalizados e acompanhar as tendências em genômica que podem influenciar estratégias de pesquisa e desenvolvimento. Pensando nisso, o time de dados apresentou uma proposta de desenvolvimento de um sistema que coleta, analisa e apresenta as últimas notícias relacionadas à genômica e à medicina personalizada, e também estuda o avanço do campo nos últimos anos. \n",
    "\n",
    "#### O time de engenharia de dados tem como objetivo desenvolver e garantir um pipeline de dados confiável e estável. As principais atividades são:\n",
    "\n",
    "> #### 1. Consumo de dados com a News API: \n",
    "> #### Implementar um mecanismo para consumir dados de notícias de fontes confiáveis e especializadas em genômica e medicina personalizada, a partir da News API: \n",
    "https://newsapi.org/\n",
    "\n",
    "> #### 2. Definir Critérios de Relevância:\n",
    "\n",
    "> #### Desenvolver critérios precisos de relevância para filtrar as notícias. Por exemplo, o time pode se concentrar em notícias que mencionem avanços em sequenciamento de DNA, terapias genéticas personalizadas ou descobertas relacionadas a doenças genéticas específicas.\n",
    "\n",
    "> #### 3. Cargas em Batches:\n",
    "\n",
    "> #### Armazenar as notícias relevantes em um formato estruturado e facilmente acessível para consultas e análises posteriores. Essa carga deve acontecer 1 vez por hora. Se as notícias extraídas já tiverem sidos armazenadas na carga anterior, o processo deve ignorar e não armazenar as notícias novamente, os dados carregados não podem ficar duplicados.\n",
    "\n",
    "<br>\n",
    "\n",
    "<div style=\"text-align: center;\">\n",
    "<img src=\"https://drive.google.com/uc?export=view&id=1QLZBxgK4c4_yysUnvtamuwXzRJm4nNit\"  width=\"70%\" height=\"40%\">\n",
    "<br>\n",
    "<br>\n",
    "\n",
    "</div>\n",
    "\n",
    "> #### 4. Dados transformados para consulta do público final\n",
    "\n",
    "> #### A partir dos dados carregados, aplicar as seguintes transformações e armazenar o resultado final para a consulta do público final:\n",
    "\n",
    "> #### 4.1 - Quantidade de notícias por ano, mês e dia de publicação;\n",
    "> #### 4.2 - Quantidade de notícias por fonte e autor;\n",
    "> #### 4.3 - Quantidade de aparições de 3 palavras chaves por ano, mês e dia de publicação (as 3 palavras chaves serão as mesmas usadas para fazer os filtros de relevância do item 2 (2. Definir Critérios de Relevância)).\n",
    "\n",
    "> #### Atualizar os dados transformados 1 vez por dia.\n",
    "\n",
    "<br>\n",
    "\n",
    "<div style=\"text-align: center;\">\n",
    "<img src=\"https://drive.google.com/uc?export=view&id=1QOFkzKrWqb-9CY3kC3_1XkTWNVNE05dd\"  width=\"70%\" height=\"40%\">\n",
    "<br>\n",
    "<br>\n",
    "\n",
    "</div>\n",
    "\n",
    "###Além das atividades principais, existe a necessidade de busca de dados por eventos em tempo real quando é necessário, para isso foi desenhado duas opções:\n",
    "\n",
    "> #### Opção 1 - Apache Kafka e Spark Streaming:\n",
    "\n",
    "> #### Preparar um pipeline com Apache Kafka e Spark Streaming para receber os dados do Produtor Kafka representado por um evento manual e consumir os dados com o Spark Streaming armazenando os resultados temporariamente. Em um processo paralelo, verificar os resultados armazenados temporiamente e armazenar no mesmo destino do item 3 (3. Cargas em Batches) aqueles resultados que ainda não foram armazenados no destino (os dados carregados não podem ficar duplicados). E por fim, eliminar os dados temporários após a verificação e a eventual carga.\n",
    "\n",
    "<br>\n",
    "\n",
    "<div style=\"text-align: center;\">\n",
    "<img src=\"https://drive.google.com/uc?export=view&id=1PvAxBXU0fvwEtJg36ZJ1VfBVSGETBpUZ\"  width=\"70%\" height=\"40%\">\n",
    "<br>\n",
    "<br>\n",
    "\n",
    "</div>\n",
    "\n",
    "\n",
    "> #### Opção 2 - Webhooks com notificações por eventos:\n",
    "\n",
    "> #### Configurar um webhook para adquirir as últimas notícias a partir de um evento representado por uma requisição POST e fazer a chamada da API e por fim armazenar os resultados temporariamente. Em um processo paralelo, verificar os resultados armazenados temporiamente e armazenar no mesmo destino do item 3 (3. Cargas em Batches) aqueles resultados que ainda não foram armazenados no destino (os dados carregados não podem ficar duplicados). E por fim, eliminar os dados temporários após a verificação e a eventual carga.\n",
    "\n",
    "<br>\n",
    "\n",
    "<div style=\"text-align: center;\">\n",
    "<img src=\"https://drive.google.com/uc?export=view&id=1Px6Jp3aNuF-wpn_9earonylEMebzOcBW\"  width=\"70%\" height=\"40%\">\n",
    "<br>\n",
    "<br>\n",
    "\n",
    "</div>\n",
    "\n",
    "## Atividades que precisam ser realizadas pelo grupo:\n",
    "\n",
    "#### O grupo precisa construir o pipeline de dados seguindo os requisitos das atividades principais e escolher entre a Opção 1 e Opção 2 para desenvolvimento."
   ]
  },
  {
   "cell_type": "markdown",
   "metadata": {
    "application/vnd.databricks.v1+cell": {
     "cellMetadata": {},
     "inputWidgets": {},
     "nuid": "0ae06df0-18c0-4fdd-81b1-c736e6c68af9",
     "showTitle": false,
     "title": ""
    }
   },
   "source": [
    "### Parte 01 - Extração e Carregamento dos Dados em Lotes"
   ]
  },
  {
   "cell_type": "markdown",
   "metadata": {
    "application/vnd.databricks.v1+cell": {
     "cellMetadata": {},
     "inputWidgets": {},
     "nuid": "0c7f54db-c81f-4233-a366-a80b1f87aab0",
     "showTitle": false,
     "title": ""
    }
   },
   "source": [
    "Dependência de projeto"
   ]
  },
  {
   "cell_type": "code",
   "execution_count": 0,
   "metadata": {
    "application/vnd.databricks.v1+cell": {
     "cellMetadata": {
      "byteLimit": 2048000,
      "rowLimit": 10000
     },
     "inputWidgets": {},
     "nuid": "d3b045b8-e93b-465e-b725-2384f866fe7b",
     "showTitle": false,
     "title": ""
    }
   },
   "outputs": [],
   "source": [
    "import requests\n",
    "import time\n",
    "\n",
    "from pyspark.sql import SparkSession\n",
    "from pyspark.sql.functions import col, dayofmonth, month, year, count, expr\n",
    "from pyspark.sql import DataFrame\n",
    "from pyspark.sql.types import StructType, StructField, StringType, TimestampType"
   ]
  },
  {
   "cell_type": "markdown",
   "metadata": {
    "application/vnd.databricks.v1+cell": {
     "cellMetadata": {},
     "inputWidgets": {},
     "nuid": "2e54c8ec-1174-4ea4-9c2a-c32e84914f20",
     "showTitle": false,
     "title": ""
    }
   },
   "source": [
    "API URL"
   ]
  },
  {
   "cell_type": "code",
   "execution_count": 0,
   "metadata": {
    "application/vnd.databricks.v1+cell": {
     "cellMetadata": {
      "byteLimit": 2048000,
      "rowLimit": 10000
     },
     "inputWidgets": {},
     "nuid": "0505f380-f0eb-457d-9ddb-3db388d9a099",
     "showTitle": false,
     "title": ""
    }
   },
   "outputs": [],
   "source": [
    "API_KEY = '4e8db03627bd414b941e81dfade51063'\n",
    "\n",
    "query = 'genomics OR personalized medicine OR DNA'\n",
    "sources = 'nature,sciencedaily,medical-news-today'\n",
    "year_from = '2023'\n",
    "month_from = '10'\n",
    "year_to = '2023'\n",
    "month_to = '10'\n",
    "\n",
    "url = f'https://newsapi.org/v2/everything?from={year_from}-{month_from}-01&to={year_to}-{month_to}-30&sources={sources}&sortBy=publishedAt&apiKey={API_KEY}'"
   ]
  },
  {
   "cell_type": "markdown",
   "metadata": {
    "application/vnd.databricks.v1+cell": {
     "cellMetadata": {},
     "inputWidgets": {},
     "nuid": "b56c609f-2b0b-45b6-be4c-15598766913c",
     "showTitle": false,
     "title": ""
    }
   },
   "source": [
    "Verificação API"
   ]
  },
  {
   "cell_type": "code",
   "execution_count": 0,
   "metadata": {
    "application/vnd.databricks.v1+cell": {
     "cellMetadata": {
      "byteLimit": 2048000,
      "rowLimit": 10000
     },
     "inputWidgets": {},
     "nuid": "1d649aa2-0255-48e2-ab1c-3104eee2d979",
     "showTitle": false,
     "title": ""
    }
   },
   "outputs": [
    {
     "output_type": "stream",
     "name": "stdout",
     "output_type": "stream",
     "text": [
      "Total de resultados:  11\n"
     ]
    }
   ],
   "source": [
    "response = requests.get(url)\n",
    "if response.status_code == 200:\n",
    "    print(\"Total de resultados: \", response.json()[\"totalResults\"])\n",
    "else:\n",
    "    print(f\"status code: {response.status_code}\")"
   ]
  },
  {
   "cell_type": "markdown",
   "metadata": {
    "application/vnd.databricks.v1+cell": {
     "cellMetadata": {},
     "inputWidgets": {},
     "nuid": "ee4f0541-7718-4469-9e2a-6456b2d7de2e",
     "showTitle": false,
     "title": ""
    }
   },
   "source": [
    "Schema do DataFrame"
   ]
  },
  {
   "cell_type": "code",
   "execution_count": 0,
   "metadata": {
    "application/vnd.databricks.v1+cell": {
     "cellMetadata": {
      "byteLimit": 2048000,
      "rowLimit": 10000
     },
     "inputWidgets": {},
     "nuid": "e7bf6042-d486-47b1-be94-02f12a0abbb3",
     "showTitle": false,
     "title": ""
    }
   },
   "outputs": [],
   "source": [
    "schema_url = StructType([\n",
    "    StructField(\"source\", StructType([\n",
    "        StructField(\"id\", StringType(), True),\n",
    "        StructField(\"name\", StringType(), True)\n",
    "    ]), True),\n",
    "    StructField(\"author\", StringType(), True),\n",
    "    StructField(\"title\", StringType(), True),\n",
    "    StructField(\"description\", StringType(), True),\n",
    "    StructField(\"url\", StringType(), True),\n",
    "    StructField(\"urlToImage\", StringType(), True),\n",
    "    StructField(\"publishedAt\", StringType(), True),\n",
    "    StructField(\"content\", StringType(), True)\n",
    "])"
   ]
  },
  {
   "cell_type": "code",
   "execution_count": 0,
   "metadata": {
    "application/vnd.databricks.v1+cell": {
     "cellMetadata": {
      "byteLimit": 2048000,
      "rowLimit": 10000
     },
     "inputWidgets": {},
     "nuid": "3fc989c1-f1b8-4579-a8d7-6cdfaac0175e",
     "showTitle": false,
     "title": ""
    }
   },
   "outputs": [],
   "source": [
    "schema_raw = StructType([\n",
    "    StructField(\"id\", StringType(), True),\n",
    "    StructField(\"name\", StringType(), True),\n",
    "    StructField(\"author\", StringType(), True),\n",
    "    StructField(\"title\", StringType(), True),\n",
    "    StructField(\"description\", StringType(), True),\n",
    "    StructField(\"url\", StringType(), True),\n",
    "    StructField(\"urlToImage\", StringType(), True),\n",
    "    StructField(\"publishedAt\", StringType(), True),\n",
    "    StructField(\"content\", StringType(), True)\n",
    "])"
   ]
  },
  {
   "cell_type": "markdown",
   "metadata": {
    "application/vnd.databricks.v1+cell": {
     "cellMetadata": {},
     "inputWidgets": {},
     "nuid": "eceba770-9cda-4e51-bf0a-bc9038053548",
     "showTitle": false,
     "title": ""
    }
   },
   "source": [
    "#### Extração dos Dados"
   ]
  },
  {
   "cell_type": "code",
   "execution_count": 0,
   "metadata": {
    "application/vnd.databricks.v1+cell": {
     "cellMetadata": {
      "byteLimit": 2048000,
      "rowLimit": 10000
     },
     "inputWidgets": {},
     "nuid": "ccd9bada-d211-441a-bb83-bf9b4f1aba36",
     "showTitle": false,
     "title": ""
    }
   },
   "outputs": [],
   "source": [
    "def extract() -> DataFrame:\n",
    "    df = spark.createDataFrame([], schema=schema_raw)\n",
    "    if response.status_code == 200:\n",
    "        data = response.json()\n",
    "        \n",
    "        for article in data['articles']:\n",
    "            article_df = spark.createDataFrame([article], schema=schema_url)\n",
    "            article_df = article_df \\\n",
    "                .withColumn(\"id\", col(\"source.id\")) \\\n",
    "                .withColumn(\"name\", col(\"source.name\")) \\\n",
    "                .drop(\"source\")\n",
    "            df = df.union(article_df)\n",
    "        return df\n",
    "    else:\n",
    "        print('Falha ao obter notícias. Código de status:', response.status_code)"
   ]
  },
  {
   "cell_type": "markdown",
   "metadata": {
    "application/vnd.databricks.v1+cell": {
     "cellMetadata": {},
     "inputWidgets": {},
     "nuid": "1935251b-9052-4767-a549-d7e979df4035",
     "showTitle": false,
     "title": ""
    }
   },
   "source": [
    "#### Carregamento dos Dados"
   ]
  },
  {
   "cell_type": "markdown",
   "metadata": {
    "application/vnd.databricks.v1+cell": {
     "cellMetadata": {},
     "inputWidgets": {},
     "nuid": "aae1213c-309d-4cbf-8e96-bf8189c12c44",
     "showTitle": false,
     "title": ""
    }
   },
   "source": [
    "Path dos arquivos"
   ]
  },
  {
   "cell_type": "code",
   "execution_count": 0,
   "metadata": {
    "application/vnd.databricks.v1+cell": {
     "cellMetadata": {
      "byteLimit": 2048000,
      "rowLimit": 10000
     },
     "inputWidgets": {},
     "nuid": "b251a5c9-5c68-4cff-bf82-fca648d83521",
     "showTitle": false,
     "title": ""
    }
   },
   "outputs": [],
   "source": [
    "parquet_raw = f\"/FileStore/raw/raw_zone_{year}_{month}.parquet\""
   ]
  },
  {
   "cell_type": "markdown",
   "metadata": {
    "application/vnd.databricks.v1+cell": {
     "cellMetadata": {},
     "inputWidgets": {},
     "nuid": "6a5a5983-5495-44e5-a80f-68c6aacc89ca",
     "showTitle": false,
     "title": ""
    }
   },
   "source": [
    "Carregamento"
   ]
  },
  {
   "cell_type": "code",
   "execution_count": 0,
   "metadata": {
    "application/vnd.databricks.v1+cell": {
     "cellMetadata": {
      "byteLimit": 2048000,
      "rowLimit": 10000
     },
     "inputWidgets": {},
     "nuid": "628bae26-90ae-4163-aaa7-5e6137d3954a",
     "showTitle": false,
     "title": ""
    }
   },
   "outputs": [],
   "source": [
    "def load(df_new: DataFrame, path: str) -> None:\n",
    "    try:\n",
    "        data = dbutils.fs.ls(path)\n",
    "        df_res = spark.read.parquet(path)\n",
    "        new_data = df_new.exceptAll(df_res)\n",
    "        df_res.union(new_data)\n",
    "    except Exception as e:\n",
    "        if \"java.io.FileNotFoundException\" in str(e):\n",
    "            print(\"data not search, first process\")\n",
    "            df_new.write.mode('overwrite').parquet(path)"
   ]
  },
  {
   "cell_type": "markdown",
   "metadata": {
    "application/vnd.databricks.v1+cell": {
     "cellMetadata": {},
     "inputWidgets": {},
     "nuid": "c46e4329-9008-4b7f-8f1b-eb98d8945028",
     "showTitle": false,
     "title": ""
    }
   },
   "source": [
    "#### Função Principal da Parte 1"
   ]
  },
  {
   "cell_type": "code",
   "execution_count": 0,
   "metadata": {
    "application/vnd.databricks.v1+cell": {
     "cellMetadata": {
      "byteLimit": 2048000,
      "rowLimit": 10000
     },
     "inputWidgets": {},
     "nuid": "35e1895d-7946-48ce-9fa5-735b823b5dea",
     "showTitle": false,
     "title": ""
    }
   },
   "outputs": [],
   "source": [
    "def main_step_1(loop:bool = True) -> None:\n",
    "    while loop:\n",
    "        print(\"start extract data\")\n",
    "        df = extract()\n",
    "        print(\"start loading raw data\")\n",
    "        load(df, parquet_raw)\n",
    "        print(\"sleep for 1 hour\")\n",
    "        time_sleep = 3600\n",
    "        time.sleep(time_sleep)"
   ]
  },
  {
   "cell_type": "code",
   "execution_count": 0,
   "metadata": {
    "application/vnd.databricks.v1+cell": {
     "cellMetadata": {
      "byteLimit": 2048000,
      "rowLimit": 10000
     },
     "inputWidgets": {},
     "nuid": "5aeb15e9-1e21-4601-ba1a-2fcd199c987d",
     "showTitle": false,
     "title": ""
    }
   },
   "outputs": [
    {
     "output_type": "stream",
     "name": "stdout",
     "output_type": "stream",
     "text": [
      "start extract data\nstart loading raw data\ndata not search, first process\nsleep for 1 hour\n"
     ]
    },
    {
     "output_type": "display_data",
     "data": {
      "text/html": [
       "<style scoped>\n",
       "  .ansiout {\n",
       "    display: block;\n",
       "    unicode-bidi: embed;\n",
       "    white-space: pre-wrap;\n",
       "    word-wrap: break-word;\n",
       "    word-break: break-all;\n",
       "    font-family: \"Source Code Pro\", \"Menlo\", monospace;;\n",
       "    font-size: 13px;\n",
       "    color: #555;\n",
       "    margin-left: 4px;\n",
       "    line-height: 19px;\n",
       "  }\n",
       "</style>"
      ]
     },
     "metadata": {
      "application/vnd.databricks.v1+output": {
       "arguments": {},
       "data": "",
       "errorSummary": "Cancelled",
       "errorTraceType": "html",
       "metadata": {},
       "type": "ipynbError"
      }
     },
     "output_type": "display_data"
    }
   ],
   "source": [
    "main_step_1()"
   ]
  },
  {
   "cell_type": "code",
   "execution_count": 0,
   "metadata": {
    "application/vnd.databricks.v1+cell": {
     "cellMetadata": {
      "byteLimit": 2048000,
      "rowLimit": 10000
     },
     "inputWidgets": {},
     "nuid": "7f6119ae-b233-484c-b4ae-3a65555eb5f6",
     "showTitle": false,
     "title": ""
    }
   },
   "outputs": [],
   "source": [
    "data = spark.read.parquet(parquet_raw)"
   ]
  },
  {
   "cell_type": "code",
   "execution_count": 0,
   "metadata": {
    "application/vnd.databricks.v1+cell": {
     "cellMetadata": {
      "byteLimit": 2048000,
      "rowLimit": 10000
     },
     "inputWidgets": {},
     "nuid": "9b5b57ce-6ca1-4e43-8deb-7cb54abdef3f",
     "showTitle": false,
     "title": ""
    }
   },
   "outputs": [
    {
     "output_type": "display_data",
     "data": {
      "text/html": [
       "<style scoped>\n",
       "  .table-result-container {\n",
       "    max-height: 300px;\n",
       "    overflow: auto;\n",
       "  }\n",
       "  table, th, td {\n",
       "    border: 1px solid black;\n",
       "    border-collapse: collapse;\n",
       "  }\n",
       "  th, td {\n",
       "    padding: 5px;\n",
       "  }\n",
       "  th {\n",
       "    text-align: left;\n",
       "  }\n",
       "</style><div class='table-result-container'><table class='table-result'><thead style='background-color: white'><tr><th>id</th><th>name</th><th>author</th><th>title</th><th>description</th><th>url</th><th>urlToImage</th><th>publishedAt</th><th>content</th></tr></thead><tbody><tr><td>Corrie Pelc</td><td>Jamais vu: What happens in the brain when the familiar feels new?</td><td>The phenomenon of jamais vu, when a familiar experience feels new, is a common occurrence, but why does it happen, and should it worry us when it does? Here is what the experts and the current research say.</td><td>https://www.medicalnewstoday.com/articles/jamais-vu-whatjamais-vu-the-opposite-of-deja-vu-why-does-the-familiar-feel-strangely-new-sometimesexplains-the-opposite-of-deja-vu</td><td>https://post.medicalnewstoday.com/wp-content/uploads/sites/3/2023/10/jamais_vu_GettyImages1192800429_Thumb.jpg</td><td>2023-10-03T16:54:25Z</td><td>Many people have heard of and probably experienced déjà vu the strange feeling you have already seen or experienced something as you are seeing or experiencing it. But very few people know about the … [+9330 chars]</td><td>medical-news-today</td><td>Medical News Today</td></tr><tr><td>Jessica Freeborn</td><td>Short bursts of exercise may lower the risk of heart attack and stroke</td><td>A recent study found that non-exercise physical activity was associated with a lower risk for major adverse cardiovascular events such as heart attack and stroke. Short bursts of physical activity among non-exercisers were also linked to a reduced risk of all…</td><td>https://www.medicalnewstoday.com/articles/short-bursts-exercise-heart-health</td><td>https://post.medicalnewstoday.com/wp-content/uploads/sites/3/2023/10/Female-Steps-Building-732x549-Thumbnail.jpg</td><td>2023-10-02T17:50:54Z</td><td><ul><li>A recent study found that non-exercise physical activity was associated with a lower risk for major adverse cardiovascular events.</li><li>Short bursts of physical activity among non-exercise… [+6994 chars]</td><td>medical-news-today</td><td>Medical News Today</td></tr><tr><td>Eileen Bailey</td><td>Parkinson's: How loneliness can affect progression of the disease</td><td>Researchers say they have established an association between loneliness and the development of Parkinson's disease. Experts say it's important for people with the condition to have friends and other social connections.</td><td>https://www.medicalnewstoday.com/articles/how-loneliness-may-be-associated-with-parkinson-disease</td><td>https://post.medicalnewstoday.com/wp-content/uploads/sites/3/2023/10/Male-Serious-Alone-732x549-Thumbnail.jpg</td><td>2023-10-03T09:11:00Z</td><td><ul><li>Researchers report that loneliness is associated with a higher risk of Parkinsons disease.</li><li>They note that people with Parkinsons may worry that their illness will get in the way of fr… [+9501 chars]</td><td>medical-news-today</td><td>Medical News Today</td></tr><tr><td>Corrie Pelc</td><td>What role do micronutrients play in neurological health?</td><td>A review of the existing evidence looks at how micronutrients including vitamin and minerals could help treat the symptoms of different neurological diseases, including Parkinson's and Alzheimer's.</td><td>https://www.medicalnewstoday.com/articles/can-micronutrients-help-treat-neurological-diseases-such-as-parkinsons</td><td>https://post.medicalnewstoday.com/wp-content/uploads/sites/3/2023/10/leafs-science-lab-micronutrients-732x549-thumbnail.jpg</td><td>2023-10-02T11:10:55Z</td><td><ul><li>Micronutrients refer to all the vitamins and minerals a body needs to stay healthy and function correctly. </li><li>More than 2 billion people globally are micronutrient deficient. </li><li>N… [+7296 chars]</td><td>medical-news-today</td><td>Medical News Today</td></tr><tr><td>Eileen Bailey</td><td>Type 2 diabetes: Why diagnosis should be changed for women under 50</td><td>Researchers are recommending that the diagnosis threshold for type 2 diabetes be lowered for women under 50 because menstruation can affect blood sugar levels</td><td>https://www.medicalnewstoday.com/articles/type-2-diabetes-why-experts-say-diagnosis-threshold-should-be-lowered-for-women-under-50</td><td>https://post.medicalnewstoday.com/wp-content/uploads/sites/3/2023/10/Blood-Sugar-Doctor-732x549-Thumbnail.jpg</td><td>2023-10-02T07:53:00Z</td><td><ul><li>Researchers suggest lowering the threshold for a type 2 diabetes diagnosis in women under 50 might be more accurate.</li><li>They say that women are less likely to receive treatment, risk-red… [+7394 chars]</td><td>medical-news-today</td><td>Medical News Today</td></tr></tbody></table></div>"
      ]
     },
     "metadata": {
      "application/vnd.databricks.v1+output": {
       "addedWidgets": {},
       "aggData": [],
       "aggError": "",
       "aggOverflow": false,
       "aggSchema": [],
       "aggSeriesLimitReached": false,
       "aggType": "",
       "arguments": {},
       "columnCustomDisplayInfos": {},
       "data": [
        [
         "Corrie Pelc",
         "Jamais vu: What happens in the brain when the familiar feels new?",
         "The phenomenon of jamais vu, when a familiar experience feels new, is a common occurrence, but why does it happen, and should it worry us when it does? Here is what the experts and the current research say.",
         "https://www.medicalnewstoday.com/articles/jamais-vu-whatjamais-vu-the-opposite-of-deja-vu-why-does-the-familiar-feel-strangely-new-sometimesexplains-the-opposite-of-deja-vu",
         "https://post.medicalnewstoday.com/wp-content/uploads/sites/3/2023/10/jamais_vu_GettyImages1192800429_Thumb.jpg",
         "2023-10-03T16:54:25Z",
         "Many people have heard of and probably experienced déjà vu the strange feeling you have already seen or experienced something as you are seeing or experiencing it. But very few people know about the … [+9330 chars]",
         "medical-news-today",
         "Medical News Today"
        ],
        [
         "Jessica Freeborn",
         "Short bursts of exercise may lower the risk of heart attack and stroke",
         "A recent study found that non-exercise physical activity was associated with a lower risk for major adverse cardiovascular events such as heart attack and stroke. Short bursts of physical activity among non-exercisers were also linked to a reduced risk of all…",
         "https://www.medicalnewstoday.com/articles/short-bursts-exercise-heart-health",
         "https://post.medicalnewstoday.com/wp-content/uploads/sites/3/2023/10/Female-Steps-Building-732x549-Thumbnail.jpg",
         "2023-10-02T17:50:54Z",
         "<ul><li>A recent study found that non-exercise physical activity was associated with a lower risk for major adverse cardiovascular events.</li><li>Short bursts of physical activity among non-exercise… [+6994 chars]",
         "medical-news-today",
         "Medical News Today"
        ],
        [
         "Eileen Bailey",
         "Parkinson's: How loneliness can affect progression of the disease",
         "Researchers say they have established an association between loneliness and the development of Parkinson's disease. Experts say it's important for people with the condition to have friends and other social connections.",
         "https://www.medicalnewstoday.com/articles/how-loneliness-may-be-associated-with-parkinson-disease",
         "https://post.medicalnewstoday.com/wp-content/uploads/sites/3/2023/10/Male-Serious-Alone-732x549-Thumbnail.jpg",
         "2023-10-03T09:11:00Z",
         "<ul><li>Researchers report that loneliness is associated with a higher risk of Parkinsons disease.</li><li>They note that people with Parkinsons may worry that their illness will get in the way of fr… [+9501 chars]",
         "medical-news-today",
         "Medical News Today"
        ],
        [
         "Corrie Pelc",
         "What role do micronutrients play in neurological health?",
         "A review of the existing evidence looks at how micronutrients including vitamin and minerals could help treat the symptoms of different neurological diseases, including Parkinson's and Alzheimer's.",
         "https://www.medicalnewstoday.com/articles/can-micronutrients-help-treat-neurological-diseases-such-as-parkinsons",
         "https://post.medicalnewstoday.com/wp-content/uploads/sites/3/2023/10/leafs-science-lab-micronutrients-732x549-thumbnail.jpg",
         "2023-10-02T11:10:55Z",
         "<ul><li>Micronutrients refer to all the vitamins and minerals a body needs to stay healthy and function correctly. </li><li>More than 2 billion people globally are micronutrient deficient. </li><li>N… [+7296 chars]",
         "medical-news-today",
         "Medical News Today"
        ],
        [
         "Eileen Bailey",
         "Type 2 diabetes: Why diagnosis should be changed for women under 50",
         "Researchers are recommending that the diagnosis threshold for type 2 diabetes be lowered for women under 50 because menstruation can affect blood sugar levels",
         "https://www.medicalnewstoday.com/articles/type-2-diabetes-why-experts-say-diagnosis-threshold-should-be-lowered-for-women-under-50",
         "https://post.medicalnewstoday.com/wp-content/uploads/sites/3/2023/10/Blood-Sugar-Doctor-732x549-Thumbnail.jpg",
         "2023-10-02T07:53:00Z",
         "<ul><li>Researchers suggest lowering the threshold for a type 2 diabetes diagnosis in women under 50 might be more accurate.</li><li>They say that women are less likely to receive treatment, risk-red… [+7394 chars]",
         "medical-news-today",
         "Medical News Today"
        ]
       ],
       "datasetInfos": [],
       "dbfsResultPath": null,
       "isJsonSchema": true,
       "metadata": {},
       "overflow": false,
       "plotOptions": {
        "customPlotOptions": {},
        "displayType": "table",
        "pivotAggregation": null,
        "pivotColumns": null,
        "xColumns": null,
        "yColumns": null
       },
       "removedWidgets": [],
       "schema": [
        {
         "metadata": "{}",
         "name": "id",
         "type": "\"string\""
        },
        {
         "metadata": "{}",
         "name": "name",
         "type": "\"string\""
        },
        {
         "metadata": "{}",
         "name": "author",
         "type": "\"string\""
        },
        {
         "metadata": "{}",
         "name": "title",
         "type": "\"string\""
        },
        {
         "metadata": "{}",
         "name": "description",
         "type": "\"string\""
        },
        {
         "metadata": "{}",
         "name": "url",
         "type": "\"string\""
        },
        {
         "metadata": "{}",
         "name": "urlToImage",
         "type": "\"string\""
        },
        {
         "metadata": "{}",
         "name": "publishedAt",
         "type": "\"string\""
        },
        {
         "metadata": "{}",
         "name": "content",
         "type": "\"string\""
        }
       ],
       "type": "table"
      }
     },
     "output_type": "display_data"
    }
   ],
   "source": [
    "display(data.head(5))"
   ]
  },
  {
   "cell_type": "markdown",
   "metadata": {
    "application/vnd.databricks.v1+cell": {
     "cellMetadata": {},
     "inputWidgets": {},
     "nuid": "bf3e1bf7-b476-4a2a-a88d-466346a8e8b3",
     "showTitle": false,
     "title": ""
    }
   },
   "source": [
    "Excluir todo o Raw Data - Para Testes"
   ]
  },
  {
   "cell_type": "code",
   "execution_count": 0,
   "metadata": {
    "application/vnd.databricks.v1+cell": {
     "cellMetadata": {},
     "inputWidgets": {},
     "nuid": "7b1b9ea9-0807-4cde-8e63-946d3e502a7a",
     "showTitle": false,
     "title": ""
    }
   },
   "outputs": [],
   "source": [
    "dbutils.fs.rm(parquet_raw, True)"
   ]
  },
  {
   "cell_type": "markdown",
   "metadata": {
    "application/vnd.databricks.v1+cell": {
     "cellMetadata": {},
     "inputWidgets": {},
     "nuid": "2b745558-5d86-48b6-b1e5-9dd05b3cd628",
     "showTitle": false,
     "title": ""
    }
   },
   "source": [
    "### Parte 2 - Tranformação dos Dados em Lotes (Raw Zone -> Processing Zone)"
   ]
  },
  {
   "cell_type": "markdown",
   "metadata": {
    "application/vnd.databricks.v1+cell": {
     "cellMetadata": {},
     "inputWidgets": {},
     "nuid": "4a3452f5-216b-4611-84f7-a979ec6aceb1",
     "showTitle": false,
     "title": ""
    }
   },
   "source": [
    "Vizualização dos Dados"
   ]
  },
  {
   "cell_type": "code",
   "execution_count": 0,
   "metadata": {
    "application/vnd.databricks.v1+cell": {
     "cellMetadata": {
      "byteLimit": 2048000,
      "rowLimit": 10000
     },
     "inputWidgets": {},
     "nuid": "c2520883-980e-4738-8b52-42fb469d76c6",
     "showTitle": false,
     "title": ""
    }
   },
   "outputs": [
    {
     "output_type": "display_data",
     "data": {
      "text/html": [
       "<style scoped>\n",
       "  .table-result-container {\n",
       "    max-height: 300px;\n",
       "    overflow: auto;\n",
       "  }\n",
       "  table, th, td {\n",
       "    border: 1px solid black;\n",
       "    border-collapse: collapse;\n",
       "  }\n",
       "  th, td {\n",
       "    padding: 5px;\n",
       "  }\n",
       "  th {\n",
       "    text-align: left;\n",
       "  }\n",
       "</style><div class='table-result-container'><table class='table-result'><thead style='background-color: white'><tr><th>id</th><th>name</th><th>author</th><th>title</th><th>description</th><th>url</th><th>urlToImage</th><th>publishedAt</th><th>content</th></tr></thead><tbody><tr><td>Corrie Pelc</td><td>Jamais vu: What happens in the brain when the familiar feels new?</td><td>The phenomenon of jamais vu, when a familiar experience feels new, is a common occurrence, but why does it happen, and should it worry us when it does? Here is what the experts and the current research say.</td><td>https://www.medicalnewstoday.com/articles/jamais-vu-whatjamais-vu-the-opposite-of-deja-vu-why-does-the-familiar-feel-strangely-new-sometimesexplains-the-opposite-of-deja-vu</td><td>https://post.medicalnewstoday.com/wp-content/uploads/sites/3/2023/10/jamais_vu_GettyImages1192800429_Thumb.jpg</td><td>2023-10-03T16:54:25Z</td><td>Many people have heard of and probably experienced déjà vu the strange feeling you have already seen or experienced something as you are seeing or experiencing it. But very few people know about the … [+9330 chars]</td><td>medical-news-today</td><td>Medical News Today</td></tr><tr><td>Jessica Freeborn</td><td>Short bursts of exercise may lower the risk of heart attack and stroke</td><td>A recent study found that non-exercise physical activity was associated with a lower risk for major adverse cardiovascular events such as heart attack and stroke. Short bursts of physical activity among non-exercisers were also linked to a reduced risk of all…</td><td>https://www.medicalnewstoday.com/articles/short-bursts-exercise-heart-health</td><td>https://post.medicalnewstoday.com/wp-content/uploads/sites/3/2023/10/Female-Steps-Building-732x549-Thumbnail.jpg</td><td>2023-10-02T17:50:54Z</td><td><ul><li>A recent study found that non-exercise physical activity was associated with a lower risk for major adverse cardiovascular events.</li><li>Short bursts of physical activity among non-exercise… [+6994 chars]</td><td>medical-news-today</td><td>Medical News Today</td></tr><tr><td>Eileen Bailey</td><td>Parkinson's: How loneliness can affect progression of the disease</td><td>Researchers say they have established an association between loneliness and the development of Parkinson's disease. Experts say it's important for people with the condition to have friends and other social connections.</td><td>https://www.medicalnewstoday.com/articles/how-loneliness-may-be-associated-with-parkinson-disease</td><td>https://post.medicalnewstoday.com/wp-content/uploads/sites/3/2023/10/Male-Serious-Alone-732x549-Thumbnail.jpg</td><td>2023-10-03T09:11:00Z</td><td><ul><li>Researchers report that loneliness is associated with a higher risk of Parkinsons disease.</li><li>They note that people with Parkinsons may worry that their illness will get in the way of fr… [+9501 chars]</td><td>medical-news-today</td><td>Medical News Today</td></tr><tr><td>Corrie Pelc</td><td>What role do micronutrients play in neurological health?</td><td>A review of the existing evidence looks at how micronutrients including vitamin and minerals could help treat the symptoms of different neurological diseases, including Parkinson's and Alzheimer's.</td><td>https://www.medicalnewstoday.com/articles/can-micronutrients-help-treat-neurological-diseases-such-as-parkinsons</td><td>https://post.medicalnewstoday.com/wp-content/uploads/sites/3/2023/10/leafs-science-lab-micronutrients-732x549-thumbnail.jpg</td><td>2023-10-02T11:10:55Z</td><td><ul><li>Micronutrients refer to all the vitamins and minerals a body needs to stay healthy and function correctly. </li><li>More than 2 billion people globally are micronutrient deficient. </li><li>N… [+7296 chars]</td><td>medical-news-today</td><td>Medical News Today</td></tr><tr><td>Eileen Bailey</td><td>Type 2 diabetes: Why diagnosis should be changed for women under 50</td><td>Researchers are recommending that the diagnosis threshold for type 2 diabetes be lowered for women under 50 because menstruation can affect blood sugar levels</td><td>https://www.medicalnewstoday.com/articles/type-2-diabetes-why-experts-say-diagnosis-threshold-should-be-lowered-for-women-under-50</td><td>https://post.medicalnewstoday.com/wp-content/uploads/sites/3/2023/10/Blood-Sugar-Doctor-732x549-Thumbnail.jpg</td><td>2023-10-02T07:53:00Z</td><td><ul><li>Researchers suggest lowering the threshold for a type 2 diabetes diagnosis in women under 50 might be more accurate.</li><li>They say that women are less likely to receive treatment, risk-red… [+7394 chars]</td><td>medical-news-today</td><td>Medical News Today</td></tr></tbody></table></div>"
      ]
     },
     "metadata": {
      "application/vnd.databricks.v1+output": {
       "addedWidgets": {},
       "aggData": [],
       "aggError": "",
       "aggOverflow": false,
       "aggSchema": [],
       "aggSeriesLimitReached": false,
       "aggType": "",
       "arguments": {},
       "columnCustomDisplayInfos": {},
       "data": [
        [
         "Corrie Pelc",
         "Jamais vu: What happens in the brain when the familiar feels new?",
         "The phenomenon of jamais vu, when a familiar experience feels new, is a common occurrence, but why does it happen, and should it worry us when it does? Here is what the experts and the current research say.",
         "https://www.medicalnewstoday.com/articles/jamais-vu-whatjamais-vu-the-opposite-of-deja-vu-why-does-the-familiar-feel-strangely-new-sometimesexplains-the-opposite-of-deja-vu",
         "https://post.medicalnewstoday.com/wp-content/uploads/sites/3/2023/10/jamais_vu_GettyImages1192800429_Thumb.jpg",
         "2023-10-03T16:54:25Z",
         "Many people have heard of and probably experienced déjà vu the strange feeling you have already seen or experienced something as you are seeing or experiencing it. But very few people know about the … [+9330 chars]",
         "medical-news-today",
         "Medical News Today"
        ],
        [
         "Jessica Freeborn",
         "Short bursts of exercise may lower the risk of heart attack and stroke",
         "A recent study found that non-exercise physical activity was associated with a lower risk for major adverse cardiovascular events such as heart attack and stroke. Short bursts of physical activity among non-exercisers were also linked to a reduced risk of all…",
         "https://www.medicalnewstoday.com/articles/short-bursts-exercise-heart-health",
         "https://post.medicalnewstoday.com/wp-content/uploads/sites/3/2023/10/Female-Steps-Building-732x549-Thumbnail.jpg",
         "2023-10-02T17:50:54Z",
         "<ul><li>A recent study found that non-exercise physical activity was associated with a lower risk for major adverse cardiovascular events.</li><li>Short bursts of physical activity among non-exercise… [+6994 chars]",
         "medical-news-today",
         "Medical News Today"
        ],
        [
         "Eileen Bailey",
         "Parkinson's: How loneliness can affect progression of the disease",
         "Researchers say they have established an association between loneliness and the development of Parkinson's disease. Experts say it's important for people with the condition to have friends and other social connections.",
         "https://www.medicalnewstoday.com/articles/how-loneliness-may-be-associated-with-parkinson-disease",
         "https://post.medicalnewstoday.com/wp-content/uploads/sites/3/2023/10/Male-Serious-Alone-732x549-Thumbnail.jpg",
         "2023-10-03T09:11:00Z",
         "<ul><li>Researchers report that loneliness is associated with a higher risk of Parkinsons disease.</li><li>They note that people with Parkinsons may worry that their illness will get in the way of fr… [+9501 chars]",
         "medical-news-today",
         "Medical News Today"
        ],
        [
         "Corrie Pelc",
         "What role do micronutrients play in neurological health?",
         "A review of the existing evidence looks at how micronutrients including vitamin and minerals could help treat the symptoms of different neurological diseases, including Parkinson's and Alzheimer's.",
         "https://www.medicalnewstoday.com/articles/can-micronutrients-help-treat-neurological-diseases-such-as-parkinsons",
         "https://post.medicalnewstoday.com/wp-content/uploads/sites/3/2023/10/leafs-science-lab-micronutrients-732x549-thumbnail.jpg",
         "2023-10-02T11:10:55Z",
         "<ul><li>Micronutrients refer to all the vitamins and minerals a body needs to stay healthy and function correctly. </li><li>More than 2 billion people globally are micronutrient deficient. </li><li>N… [+7296 chars]",
         "medical-news-today",
         "Medical News Today"
        ],
        [
         "Eileen Bailey",
         "Type 2 diabetes: Why diagnosis should be changed for women under 50",
         "Researchers are recommending that the diagnosis threshold for type 2 diabetes be lowered for women under 50 because menstruation can affect blood sugar levels",
         "https://www.medicalnewstoday.com/articles/type-2-diabetes-why-experts-say-diagnosis-threshold-should-be-lowered-for-women-under-50",
         "https://post.medicalnewstoday.com/wp-content/uploads/sites/3/2023/10/Blood-Sugar-Doctor-732x549-Thumbnail.jpg",
         "2023-10-02T07:53:00Z",
         "<ul><li>Researchers suggest lowering the threshold for a type 2 diabetes diagnosis in women under 50 might be more accurate.</li><li>They say that women are less likely to receive treatment, risk-red… [+7394 chars]",
         "medical-news-today",
         "Medical News Today"
        ]
       ],
       "datasetInfos": [],
       "dbfsResultPath": null,
       "isJsonSchema": true,
       "metadata": {},
       "overflow": false,
       "plotOptions": {
        "customPlotOptions": {},
        "displayType": "table",
        "pivotAggregation": null,
        "pivotColumns": null,
        "xColumns": null,
        "yColumns": null
       },
       "removedWidgets": [],
       "schema": [
        {
         "metadata": "{}",
         "name": "id",
         "type": "\"string\""
        },
        {
         "metadata": "{}",
         "name": "name",
         "type": "\"string\""
        },
        {
         "metadata": "{}",
         "name": "author",
         "type": "\"string\""
        },
        {
         "metadata": "{}",
         "name": "title",
         "type": "\"string\""
        },
        {
         "metadata": "{}",
         "name": "description",
         "type": "\"string\""
        },
        {
         "metadata": "{}",
         "name": "url",
         "type": "\"string\""
        },
        {
         "metadata": "{}",
         "name": "urlToImage",
         "type": "\"string\""
        },
        {
         "metadata": "{}",
         "name": "publishedAt",
         "type": "\"string\""
        },
        {
         "metadata": "{}",
         "name": "content",
         "type": "\"string\""
        }
       ],
       "type": "table"
      }
     },
     "output_type": "display_data"
    }
   ],
   "source": [
    "data = spark.read.parquet(parquet_raw)\n",
    "display(data.head(5))"
   ]
  },
  {
   "cell_type": "code",
   "execution_count": 0,
   "metadata": {
    "application/vnd.databricks.v1+cell": {
     "cellMetadata": {
      "byteLimit": 2048000,
      "rowLimit": 10000
     },
     "inputWidgets": {},
     "nuid": "4cb842d5-0144-4c28-aacf-2480af22765c",
     "showTitle": false,
     "title": ""
    }
   },
   "outputs": [
    {
     "output_type": "stream",
     "name": "stdout",
     "output_type": "stream",
     "text": [
      "root\n |-- id: string (nullable = true)\n |-- name: string (nullable = true)\n |-- author: string (nullable = true)\n |-- title: string (nullable = true)\n |-- description: string (nullable = true)\n |-- url: string (nullable = true)\n |-- urlToImage: string (nullable = true)\n |-- publishedAt: string (nullable = true)\n |-- content: string (nullable = true)\n\n"
     ]
    }
   ],
   "source": [
    "data.printSchema()"
   ]
  },
  {
   "cell_type": "markdown",
   "metadata": {
    "application/vnd.databricks.v1+cell": {
     "cellMetadata": {},
     "inputWidgets": {},
     "nuid": "177cdc55-eee1-4a03-b81d-42f55d2f7245",
     "showTitle": false,
     "title": ""
    }
   },
   "source": [
    "Quantidade de nulos"
   ]
  },
  {
   "cell_type": "code",
   "execution_count": 0,
   "metadata": {
    "application/vnd.databricks.v1+cell": {
     "cellMetadata": {
      "byteLimit": 2048000,
      "rowLimit": 10000
     },
     "inputWidgets": {},
     "nuid": "b23bf42c-c4de-4c7e-80ac-2e35b5e8c889",
     "showTitle": false,
     "title": ""
    }
   },
   "outputs": [
    {
     "output_type": "stream",
     "name": "stdout",
     "output_type": "stream",
     "text": [
      "Coluna 'id': 0 valores nulos\nColuna 'name': 0 valores nulos\nColuna 'author': 0 valores nulos\nColuna 'title': 0 valores nulos\nColuna 'description': 0 valores nulos\nColuna 'url': 0 valores nulos\nColuna 'urlToImage': 0 valores nulos\nColuna 'publishedAt': 0 valores nulos\nColuna 'content': 0 valores nulos\n"
     ]
    }
   ],
   "source": [
    "def count_nulls(column):\n",
    "    return data.filter(col(column).isNull()).count()\n",
    "for column in data.columns:\n",
    "    null_count = count_nulls(column)\n",
    "    print(f\"Coluna '{column}': {null_count} valores nulos\")"
   ]
  },
  {
   "cell_type": "markdown",
   "metadata": {
    "application/vnd.databricks.v1+cell": {
     "cellMetadata": {},
     "inputWidgets": {},
     "nuid": "6a21c017-fd74-44d7-8d2f-bd3650bb6aef",
     "showTitle": false,
     "title": ""
    }
   },
   "source": [
    "Modificação dos nomes das colunas"
   ]
  },
  {
   "cell_type": "code",
   "execution_count": 0,
   "metadata": {
    "application/vnd.databricks.v1+cell": {
     "cellMetadata": {
      "byteLimit": 2048000,
      "rowLimit": 10000
     },
     "inputWidgets": {},
     "nuid": "5faa6a89-a7c8-4a85-add5-55fdec55175a",
     "showTitle": false,
     "title": ""
    }
   },
   "outputs": [],
   "source": [
    "def rename_columns(df: DataFrame) -> DataFrame:\n",
    "    return df.withColumnRenamed(\"id\", \"autor\")\\\n",
    "      .withColumnRenamed(\"name\", \"titulo\")\\\n",
    "      .withColumnRenamed(\"author\", \"descricao\")\\\n",
    "      .withColumnRenamed(\"title\", \"url_artigo\")\\\n",
    "      .withColumnRenamed(\"description\", \"imagem\")\\\n",
    "      .withColumnRenamed(\"url\", \"data\")\\\n",
    "      .withColumnRenamed(\"urlToImage\", \"html\")\\\n",
    "      .withColumnRenamed(\"content\", \"fonte\")\\\n",
    "      .drop(\"publishedAt\")"
   ]
  },
  {
   "cell_type": "code",
   "execution_count": 0,
   "metadata": {
    "application/vnd.databricks.v1+cell": {
     "cellMetadata": {
      "byteLimit": 2048000,
      "rowLimit": 10000
     },
     "inputWidgets": {},
     "nuid": "831ca24b-92f1-4d87-944c-6b59fd7f830d",
     "showTitle": false,
     "title": ""
    }
   },
   "outputs": [],
   "source": [
    "data_new = rename_columns(data)"
   ]
  },
  {
   "cell_type": "code",
   "execution_count": 0,
   "metadata": {
    "application/vnd.databricks.v1+cell": {
     "cellMetadata": {
      "byteLimit": 2048000,
      "rowLimit": 10000
     },
     "inputWidgets": {},
     "nuid": "7e0107ee-61b1-469e-93cf-c92dc9bd519f",
     "showTitle": false,
     "title": ""
    }
   },
   "outputs": [
    {
     "output_type": "display_data",
     "data": {
      "text/html": [
       "<style scoped>\n",
       "  .table-result-container {\n",
       "    max-height: 300px;\n",
       "    overflow: auto;\n",
       "  }\n",
       "  table, th, td {\n",
       "    border: 1px solid black;\n",
       "    border-collapse: collapse;\n",
       "  }\n",
       "  th, td {\n",
       "    padding: 5px;\n",
       "  }\n",
       "  th {\n",
       "    text-align: left;\n",
       "  }\n",
       "</style><div class='table-result-container'><table class='table-result'><thead style='background-color: white'><tr><th>autor</th><th>titulo</th><th>descricao</th><th>url_artigo</th><th>imagem</th><th>data</th><th>html</th><th>fonte</th></tr></thead><tbody><tr><td>Corrie Pelc</td><td>Jamais vu: What happens in the brain when the familiar feels new?</td><td>The phenomenon of jamais vu, when a familiar experience feels new, is a common occurrence, but why does it happen, and should it worry us when it does? Here is what the experts and the current research say.</td><td>https://www.medicalnewstoday.com/articles/jamais-vu-whatjamais-vu-the-opposite-of-deja-vu-why-does-the-familiar-feel-strangely-new-sometimesexplains-the-opposite-of-deja-vu</td><td>https://post.medicalnewstoday.com/wp-content/uploads/sites/3/2023/10/jamais_vu_GettyImages1192800429_Thumb.jpg</td><td>2023-10-03T16:54:25Z</td><td>Many people have heard of and probably experienced déjà vu the strange feeling you have already seen or experienced something as you are seeing or experiencing it. But very few people know about the … [+9330 chars]</td><td>Medical News Today</td></tr><tr><td>Jessica Freeborn</td><td>Short bursts of exercise may lower the risk of heart attack and stroke</td><td>A recent study found that non-exercise physical activity was associated with a lower risk for major adverse cardiovascular events such as heart attack and stroke. Short bursts of physical activity among non-exercisers were also linked to a reduced risk of all…</td><td>https://www.medicalnewstoday.com/articles/short-bursts-exercise-heart-health</td><td>https://post.medicalnewstoday.com/wp-content/uploads/sites/3/2023/10/Female-Steps-Building-732x549-Thumbnail.jpg</td><td>2023-10-02T17:50:54Z</td><td><ul><li>A recent study found that non-exercise physical activity was associated with a lower risk for major adverse cardiovascular events.</li><li>Short bursts of physical activity among non-exercise… [+6994 chars]</td><td>Medical News Today</td></tr><tr><td>Eileen Bailey</td><td>Parkinson's: How loneliness can affect progression of the disease</td><td>Researchers say they have established an association between loneliness and the development of Parkinson's disease. Experts say it's important for people with the condition to have friends and other social connections.</td><td>https://www.medicalnewstoday.com/articles/how-loneliness-may-be-associated-with-parkinson-disease</td><td>https://post.medicalnewstoday.com/wp-content/uploads/sites/3/2023/10/Male-Serious-Alone-732x549-Thumbnail.jpg</td><td>2023-10-03T09:11:00Z</td><td><ul><li>Researchers report that loneliness is associated with a higher risk of Parkinsons disease.</li><li>They note that people with Parkinsons may worry that their illness will get in the way of fr… [+9501 chars]</td><td>Medical News Today</td></tr><tr><td>Corrie Pelc</td><td>What role do micronutrients play in neurological health?</td><td>A review of the existing evidence looks at how micronutrients including vitamin and minerals could help treat the symptoms of different neurological diseases, including Parkinson's and Alzheimer's.</td><td>https://www.medicalnewstoday.com/articles/can-micronutrients-help-treat-neurological-diseases-such-as-parkinsons</td><td>https://post.medicalnewstoday.com/wp-content/uploads/sites/3/2023/10/leafs-science-lab-micronutrients-732x549-thumbnail.jpg</td><td>2023-10-02T11:10:55Z</td><td><ul><li>Micronutrients refer to all the vitamins and minerals a body needs to stay healthy and function correctly. </li><li>More than 2 billion people globally are micronutrient deficient. </li><li>N… [+7296 chars]</td><td>Medical News Today</td></tr><tr><td>Eileen Bailey</td><td>Type 2 diabetes: Why diagnosis should be changed for women under 50</td><td>Researchers are recommending that the diagnosis threshold for type 2 diabetes be lowered for women under 50 because menstruation can affect blood sugar levels</td><td>https://www.medicalnewstoday.com/articles/type-2-diabetes-why-experts-say-diagnosis-threshold-should-be-lowered-for-women-under-50</td><td>https://post.medicalnewstoday.com/wp-content/uploads/sites/3/2023/10/Blood-Sugar-Doctor-732x549-Thumbnail.jpg</td><td>2023-10-02T07:53:00Z</td><td><ul><li>Researchers suggest lowering the threshold for a type 2 diabetes diagnosis in women under 50 might be more accurate.</li><li>They say that women are less likely to receive treatment, risk-red… [+7394 chars]</td><td>Medical News Today</td></tr></tbody></table></div>"
      ]
     },
     "metadata": {
      "application/vnd.databricks.v1+output": {
       "addedWidgets": {},
       "aggData": [],
       "aggError": "",
       "aggOverflow": false,
       "aggSchema": [],
       "aggSeriesLimitReached": false,
       "aggType": "",
       "arguments": {},
       "columnCustomDisplayInfos": {},
       "data": [
        [
         "Corrie Pelc",
         "Jamais vu: What happens in the brain when the familiar feels new?",
         "The phenomenon of jamais vu, when a familiar experience feels new, is a common occurrence, but why does it happen, and should it worry us when it does? Here is what the experts and the current research say.",
         "https://www.medicalnewstoday.com/articles/jamais-vu-whatjamais-vu-the-opposite-of-deja-vu-why-does-the-familiar-feel-strangely-new-sometimesexplains-the-opposite-of-deja-vu",
         "https://post.medicalnewstoday.com/wp-content/uploads/sites/3/2023/10/jamais_vu_GettyImages1192800429_Thumb.jpg",
         "2023-10-03T16:54:25Z",
         "Many people have heard of and probably experienced déjà vu the strange feeling you have already seen or experienced something as you are seeing or experiencing it. But very few people know about the … [+9330 chars]",
         "Medical News Today"
        ],
        [
         "Jessica Freeborn",
         "Short bursts of exercise may lower the risk of heart attack and stroke",
         "A recent study found that non-exercise physical activity was associated with a lower risk for major adverse cardiovascular events such as heart attack and stroke. Short bursts of physical activity among non-exercisers were also linked to a reduced risk of all…",
         "https://www.medicalnewstoday.com/articles/short-bursts-exercise-heart-health",
         "https://post.medicalnewstoday.com/wp-content/uploads/sites/3/2023/10/Female-Steps-Building-732x549-Thumbnail.jpg",
         "2023-10-02T17:50:54Z",
         "<ul><li>A recent study found that non-exercise physical activity was associated with a lower risk for major adverse cardiovascular events.</li><li>Short bursts of physical activity among non-exercise… [+6994 chars]",
         "Medical News Today"
        ],
        [
         "Eileen Bailey",
         "Parkinson's: How loneliness can affect progression of the disease",
         "Researchers say they have established an association between loneliness and the development of Parkinson's disease. Experts say it's important for people with the condition to have friends and other social connections.",
         "https://www.medicalnewstoday.com/articles/how-loneliness-may-be-associated-with-parkinson-disease",
         "https://post.medicalnewstoday.com/wp-content/uploads/sites/3/2023/10/Male-Serious-Alone-732x549-Thumbnail.jpg",
         "2023-10-03T09:11:00Z",
         "<ul><li>Researchers report that loneliness is associated with a higher risk of Parkinsons disease.</li><li>They note that people with Parkinsons may worry that their illness will get in the way of fr… [+9501 chars]",
         "Medical News Today"
        ],
        [
         "Corrie Pelc",
         "What role do micronutrients play in neurological health?",
         "A review of the existing evidence looks at how micronutrients including vitamin and minerals could help treat the symptoms of different neurological diseases, including Parkinson's and Alzheimer's.",
         "https://www.medicalnewstoday.com/articles/can-micronutrients-help-treat-neurological-diseases-such-as-parkinsons",
         "https://post.medicalnewstoday.com/wp-content/uploads/sites/3/2023/10/leafs-science-lab-micronutrients-732x549-thumbnail.jpg",
         "2023-10-02T11:10:55Z",
         "<ul><li>Micronutrients refer to all the vitamins and minerals a body needs to stay healthy and function correctly. </li><li>More than 2 billion people globally are micronutrient deficient. </li><li>N… [+7296 chars]",
         "Medical News Today"
        ],
        [
         "Eileen Bailey",
         "Type 2 diabetes: Why diagnosis should be changed for women under 50",
         "Researchers are recommending that the diagnosis threshold for type 2 diabetes be lowered for women under 50 because menstruation can affect blood sugar levels",
         "https://www.medicalnewstoday.com/articles/type-2-diabetes-why-experts-say-diagnosis-threshold-should-be-lowered-for-women-under-50",
         "https://post.medicalnewstoday.com/wp-content/uploads/sites/3/2023/10/Blood-Sugar-Doctor-732x549-Thumbnail.jpg",
         "2023-10-02T07:53:00Z",
         "<ul><li>Researchers suggest lowering the threshold for a type 2 diabetes diagnosis in women under 50 might be more accurate.</li><li>They say that women are less likely to receive treatment, risk-red… [+7394 chars]",
         "Medical News Today"
        ]
       ],
       "datasetInfos": [],
       "dbfsResultPath": null,
       "isJsonSchema": true,
       "metadata": {},
       "overflow": false,
       "plotOptions": {
        "customPlotOptions": {},
        "displayType": "table",
        "pivotAggregation": null,
        "pivotColumns": null,
        "xColumns": null,
        "yColumns": null
       },
       "removedWidgets": [],
       "schema": [
        {
         "metadata": "{}",
         "name": "autor",
         "type": "\"string\""
        },
        {
         "metadata": "{}",
         "name": "titulo",
         "type": "\"string\""
        },
        {
         "metadata": "{}",
         "name": "descricao",
         "type": "\"string\""
        },
        {
         "metadata": "{}",
         "name": "url_artigo",
         "type": "\"string\""
        },
        {
         "metadata": "{}",
         "name": "imagem",
         "type": "\"string\""
        },
        {
         "metadata": "{}",
         "name": "data",
         "type": "\"string\""
        },
        {
         "metadata": "{}",
         "name": "html",
         "type": "\"string\""
        },
        {
         "metadata": "{}",
         "name": "fonte",
         "type": "\"string\""
        }
       ],
       "type": "table"
      }
     },
     "output_type": "display_data"
    }
   ],
   "source": [
    "display(data_new.head(5))"
   ]
  },
  {
   "cell_type": "code",
   "execution_count": 0,
   "metadata": {
    "application/vnd.databricks.v1+cell": {
     "cellMetadata": {
      "byteLimit": 2048000,
      "rowLimit": 10000
     },
     "inputWidgets": {},
     "nuid": "44965651-00c0-4172-98cc-45b950b89e78",
     "showTitle": false,
     "title": ""
    }
   },
   "outputs": [],
   "source": [
    "def transform_date(df: DataFrame) -> DataFrame:\n",
    "    return df.withColumn(\"dia\", dayofmonth(col(\"data\")))\\\n",
    "             .withColumn(\"mes\", month(col(\"data\")))\\\n",
    "             .withColumn(\"ano\", year(col(\"data\")))\\\n",
    "             .drop(\"data\")"
   ]
  },
  {
   "cell_type": "code",
   "execution_count": 0,
   "metadata": {
    "application/vnd.databricks.v1+cell": {
     "cellMetadata": {
      "byteLimit": 2048000,
      "rowLimit": 10000
     },
     "inputWidgets": {},
     "nuid": "f9c71d8a-5c31-4c68-a371-8a702219ad12",
     "showTitle": false,
     "title": ""
    }
   },
   "outputs": [],
   "source": [
    "data_new = transform_date(data_new)"
   ]
  },
  {
   "cell_type": "code",
   "execution_count": 0,
   "metadata": {
    "application/vnd.databricks.v1+cell": {
     "cellMetadata": {
      "byteLimit": 2048000,
      "rowLimit": 10000
     },
     "inputWidgets": {},
     "nuid": "24879026-f14c-4df0-9e4e-590a321c56c0",
     "showTitle": false,
     "title": ""
    }
   },
   "outputs": [
    {
     "output_type": "display_data",
     "data": {
      "text/html": [
       "<style scoped>\n",
       "  .table-result-container {\n",
       "    max-height: 300px;\n",
       "    overflow: auto;\n",
       "  }\n",
       "  table, th, td {\n",
       "    border: 1px solid black;\n",
       "    border-collapse: collapse;\n",
       "  }\n",
       "  th, td {\n",
       "    padding: 5px;\n",
       "  }\n",
       "  th {\n",
       "    text-align: left;\n",
       "  }\n",
       "</style><div class='table-result-container'><table class='table-result'><thead style='background-color: white'><tr><th>autor</th><th>titulo</th><th>descricao</th><th>url_artigo</th><th>imagem</th><th>html</th><th>fonte</th><th>dia</th><th>mes</th><th>ano</th></tr></thead><tbody><tr><td>Corrie Pelc</td><td>Jamais vu: What happens in the brain when the familiar feels new?</td><td>The phenomenon of jamais vu, when a familiar experience feels new, is a common occurrence, but why does it happen, and should it worry us when it does? Here is what the experts and the current research say.</td><td>https://www.medicalnewstoday.com/articles/jamais-vu-whatjamais-vu-the-opposite-of-deja-vu-why-does-the-familiar-feel-strangely-new-sometimesexplains-the-opposite-of-deja-vu</td><td>https://post.medicalnewstoday.com/wp-content/uploads/sites/3/2023/10/jamais_vu_GettyImages1192800429_Thumb.jpg</td><td>Many people have heard of and probably experienced déjà vu the strange feeling you have already seen or experienced something as you are seeing or experiencing it. But very few people know about the … [+9330 chars]</td><td>Medical News Today</td><td>3</td><td>10</td><td>2023</td></tr><tr><td>Jessica Freeborn</td><td>Short bursts of exercise may lower the risk of heart attack and stroke</td><td>A recent study found that non-exercise physical activity was associated with a lower risk for major adverse cardiovascular events such as heart attack and stroke. Short bursts of physical activity among non-exercisers were also linked to a reduced risk of all…</td><td>https://www.medicalnewstoday.com/articles/short-bursts-exercise-heart-health</td><td>https://post.medicalnewstoday.com/wp-content/uploads/sites/3/2023/10/Female-Steps-Building-732x549-Thumbnail.jpg</td><td><ul><li>A recent study found that non-exercise physical activity was associated with a lower risk for major adverse cardiovascular events.</li><li>Short bursts of physical activity among non-exercise… [+6994 chars]</td><td>Medical News Today</td><td>2</td><td>10</td><td>2023</td></tr><tr><td>Eileen Bailey</td><td>Parkinson's: How loneliness can affect progression of the disease</td><td>Researchers say they have established an association between loneliness and the development of Parkinson's disease. Experts say it's important for people with the condition to have friends and other social connections.</td><td>https://www.medicalnewstoday.com/articles/how-loneliness-may-be-associated-with-parkinson-disease</td><td>https://post.medicalnewstoday.com/wp-content/uploads/sites/3/2023/10/Male-Serious-Alone-732x549-Thumbnail.jpg</td><td><ul><li>Researchers report that loneliness is associated with a higher risk of Parkinsons disease.</li><li>They note that people with Parkinsons may worry that their illness will get in the way of fr… [+9501 chars]</td><td>Medical News Today</td><td>3</td><td>10</td><td>2023</td></tr><tr><td>Corrie Pelc</td><td>What role do micronutrients play in neurological health?</td><td>A review of the existing evidence looks at how micronutrients including vitamin and minerals could help treat the symptoms of different neurological diseases, including Parkinson's and Alzheimer's.</td><td>https://www.medicalnewstoday.com/articles/can-micronutrients-help-treat-neurological-diseases-such-as-parkinsons</td><td>https://post.medicalnewstoday.com/wp-content/uploads/sites/3/2023/10/leafs-science-lab-micronutrients-732x549-thumbnail.jpg</td><td><ul><li>Micronutrients refer to all the vitamins and minerals a body needs to stay healthy and function correctly. </li><li>More than 2 billion people globally are micronutrient deficient. </li><li>N… [+7296 chars]</td><td>Medical News Today</td><td>2</td><td>10</td><td>2023</td></tr><tr><td>Eileen Bailey</td><td>Type 2 diabetes: Why diagnosis should be changed for women under 50</td><td>Researchers are recommending that the diagnosis threshold for type 2 diabetes be lowered for women under 50 because menstruation can affect blood sugar levels</td><td>https://www.medicalnewstoday.com/articles/type-2-diabetes-why-experts-say-diagnosis-threshold-should-be-lowered-for-women-under-50</td><td>https://post.medicalnewstoday.com/wp-content/uploads/sites/3/2023/10/Blood-Sugar-Doctor-732x549-Thumbnail.jpg</td><td><ul><li>Researchers suggest lowering the threshold for a type 2 diabetes diagnosis in women under 50 might be more accurate.</li><li>They say that women are less likely to receive treatment, risk-red… [+7394 chars]</td><td>Medical News Today</td><td>2</td><td>10</td><td>2023</td></tr></tbody></table></div>"
      ]
     },
     "metadata": {
      "application/vnd.databricks.v1+output": {
       "addedWidgets": {},
       "aggData": [],
       "aggError": "",
       "aggOverflow": false,
       "aggSchema": [],
       "aggSeriesLimitReached": false,
       "aggType": "",
       "arguments": {},
       "columnCustomDisplayInfos": {},
       "data": [
        [
         "Corrie Pelc",
         "Jamais vu: What happens in the brain when the familiar feels new?",
         "The phenomenon of jamais vu, when a familiar experience feels new, is a common occurrence, but why does it happen, and should it worry us when it does? Here is what the experts and the current research say.",
         "https://www.medicalnewstoday.com/articles/jamais-vu-whatjamais-vu-the-opposite-of-deja-vu-why-does-the-familiar-feel-strangely-new-sometimesexplains-the-opposite-of-deja-vu",
         "https://post.medicalnewstoday.com/wp-content/uploads/sites/3/2023/10/jamais_vu_GettyImages1192800429_Thumb.jpg",
         "Many people have heard of and probably experienced déjà vu the strange feeling you have already seen or experienced something as you are seeing or experiencing it. But very few people know about the … [+9330 chars]",
         "Medical News Today",
         3,
         10,
         2023
        ],
        [
         "Jessica Freeborn",
         "Short bursts of exercise may lower the risk of heart attack and stroke",
         "A recent study found that non-exercise physical activity was associated with a lower risk for major adverse cardiovascular events such as heart attack and stroke. Short bursts of physical activity among non-exercisers were also linked to a reduced risk of all…",
         "https://www.medicalnewstoday.com/articles/short-bursts-exercise-heart-health",
         "https://post.medicalnewstoday.com/wp-content/uploads/sites/3/2023/10/Female-Steps-Building-732x549-Thumbnail.jpg",
         "<ul><li>A recent study found that non-exercise physical activity was associated with a lower risk for major adverse cardiovascular events.</li><li>Short bursts of physical activity among non-exercise… [+6994 chars]",
         "Medical News Today",
         2,
         10,
         2023
        ],
        [
         "Eileen Bailey",
         "Parkinson's: How loneliness can affect progression of the disease",
         "Researchers say they have established an association between loneliness and the development of Parkinson's disease. Experts say it's important for people with the condition to have friends and other social connections.",
         "https://www.medicalnewstoday.com/articles/how-loneliness-may-be-associated-with-parkinson-disease",
         "https://post.medicalnewstoday.com/wp-content/uploads/sites/3/2023/10/Male-Serious-Alone-732x549-Thumbnail.jpg",
         "<ul><li>Researchers report that loneliness is associated with a higher risk of Parkinsons disease.</li><li>They note that people with Parkinsons may worry that their illness will get in the way of fr… [+9501 chars]",
         "Medical News Today",
         3,
         10,
         2023
        ],
        [
         "Corrie Pelc",
         "What role do micronutrients play in neurological health?",
         "A review of the existing evidence looks at how micronutrients including vitamin and minerals could help treat the symptoms of different neurological diseases, including Parkinson's and Alzheimer's.",
         "https://www.medicalnewstoday.com/articles/can-micronutrients-help-treat-neurological-diseases-such-as-parkinsons",
         "https://post.medicalnewstoday.com/wp-content/uploads/sites/3/2023/10/leafs-science-lab-micronutrients-732x549-thumbnail.jpg",
         "<ul><li>Micronutrients refer to all the vitamins and minerals a body needs to stay healthy and function correctly. </li><li>More than 2 billion people globally are micronutrient deficient. </li><li>N… [+7296 chars]",
         "Medical News Today",
         2,
         10,
         2023
        ],
        [
         "Eileen Bailey",
         "Type 2 diabetes: Why diagnosis should be changed for women under 50",
         "Researchers are recommending that the diagnosis threshold for type 2 diabetes be lowered for women under 50 because menstruation can affect blood sugar levels",
         "https://www.medicalnewstoday.com/articles/type-2-diabetes-why-experts-say-diagnosis-threshold-should-be-lowered-for-women-under-50",
         "https://post.medicalnewstoday.com/wp-content/uploads/sites/3/2023/10/Blood-Sugar-Doctor-732x549-Thumbnail.jpg",
         "<ul><li>Researchers suggest lowering the threshold for a type 2 diabetes diagnosis in women under 50 might be more accurate.</li><li>They say that women are less likely to receive treatment, risk-red… [+7394 chars]",
         "Medical News Today",
         2,
         10,
         2023
        ]
       ],
       "datasetInfos": [],
       "dbfsResultPath": null,
       "isJsonSchema": true,
       "metadata": {},
       "overflow": false,
       "plotOptions": {
        "customPlotOptions": {},
        "displayType": "table",
        "pivotAggregation": null,
        "pivotColumns": null,
        "xColumns": null,
        "yColumns": null
       },
       "removedWidgets": [],
       "schema": [
        {
         "metadata": "{}",
         "name": "autor",
         "type": "\"string\""
        },
        {
         "metadata": "{}",
         "name": "titulo",
         "type": "\"string\""
        },
        {
         "metadata": "{}",
         "name": "descricao",
         "type": "\"string\""
        },
        {
         "metadata": "{}",
         "name": "url_artigo",
         "type": "\"string\""
        },
        {
         "metadata": "{}",
         "name": "imagem",
         "type": "\"string\""
        },
        {
         "metadata": "{}",
         "name": "html",
         "type": "\"string\""
        },
        {
         "metadata": "{}",
         "name": "fonte",
         "type": "\"string\""
        },
        {
         "metadata": "{}",
         "name": "dia",
         "type": "\"long\""
        },
        {
         "metadata": "{}",
         "name": "mes",
         "type": "\"long\""
        },
        {
         "metadata": "{}",
         "name": "ano",
         "type": "\"long\""
        }
       ],
       "type": "table"
      }
     },
     "output_type": "display_data"
    }
   ],
   "source": [
    "display(data_new.head(5))"
   ]
  },
  {
   "cell_type": "markdown",
   "metadata": {
    "application/vnd.databricks.v1+cell": {
     "cellMetadata": {},
     "inputWidgets": {},
     "nuid": "ef64cf55-8b17-4eef-893f-e04663cb4cfe",
     "showTitle": false,
     "title": ""
    }
   },
   "source": [
    "#### Quantidade de notícias por ano, mês e dia de publicação"
   ]
  },
  {
   "cell_type": "code",
   "execution_count": 0,
   "metadata": {
    "application/vnd.databricks.v1+cell": {
     "cellMetadata": {
      "byteLimit": 2048000,
      "rowLimit": 10000
     },
     "inputWidgets": {},
     "nuid": "62c3dca7-e4d1-464e-b78e-9ab2d04b1e75",
     "showTitle": false,
     "title": ""
    }
   },
   "outputs": [],
   "source": [
    "def count_per_day_month_year(df: DataFrame) -> DataFrame:\n",
    " return data_new.groupBy(\"ano\", \"mes\", \"dia\").agg(count(\"*\").alias(\"quantidade_por_data\"))"
   ]
  },
  {
   "cell_type": "code",
   "execution_count": 0,
   "metadata": {
    "application/vnd.databricks.v1+cell": {
     "cellMetadata": {
      "byteLimit": 2048000,
      "rowLimit": 10000
     },
     "inputWidgets": {},
     "nuid": "7277a32f-8d82-4881-9bba-675cb835e5c1",
     "showTitle": false,
     "title": ""
    }
   },
   "outputs": [],
   "source": [
    "df_count_date = count_per_day_month_year(data_new)"
   ]
  },
  {
   "cell_type": "code",
   "execution_count": 0,
   "metadata": {
    "application/vnd.databricks.v1+cell": {
     "cellMetadata": {
      "byteLimit": 2048000,
      "rowLimit": 10000
     },
     "inputWidgets": {},
     "nuid": "26cc30dd-b026-455b-8bc6-4f51f32e22ba",
     "showTitle": false,
     "title": ""
    }
   },
   "outputs": [
    {
     "output_type": "display_data",
     "data": {
      "text/html": [
       "<style scoped>\n",
       "  .table-result-container {\n",
       "    max-height: 300px;\n",
       "    overflow: auto;\n",
       "  }\n",
       "  table, th, td {\n",
       "    border: 1px solid black;\n",
       "    border-collapse: collapse;\n",
       "  }\n",
       "  th, td {\n",
       "    padding: 5px;\n",
       "  }\n",
       "  th {\n",
       "    text-align: left;\n",
       "  }\n",
       "</style><div class='table-result-container'><table class='table-result'><thead style='background-color: white'><tr><th>ano</th><th>mes</th><th>dia</th><th>quantidade_por_data</th></tr></thead><tbody><tr><td>2023</td><td>10</td><td>3</td><td>4</td></tr><tr><td>2023</td><td>10</td><td>2</td><td>5</td></tr><tr><td>2023</td><td>10</td><td>1</td><td>2</td></tr></tbody></table></div>"
      ]
     },
     "metadata": {
      "application/vnd.databricks.v1+output": {
       "addedWidgets": {},
       "aggData": [],
       "aggError": "",
       "aggOverflow": false,
       "aggSchema": [],
       "aggSeriesLimitReached": false,
       "aggType": "",
       "arguments": {},
       "columnCustomDisplayInfos": {},
       "data": [
        [
         2023,
         10,
         3,
         4
        ],
        [
         2023,
         10,
         2,
         5
        ],
        [
         2023,
         10,
         1,
         2
        ]
       ],
       "datasetInfos": [],
       "dbfsResultPath": null,
       "isJsonSchema": true,
       "metadata": {},
       "overflow": false,
       "plotOptions": {
        "customPlotOptions": {},
        "displayType": "table",
        "pivotAggregation": null,
        "pivotColumns": null,
        "xColumns": null,
        "yColumns": null
       },
       "removedWidgets": [],
       "schema": [
        {
         "metadata": "{}",
         "name": "ano",
         "type": "\"long\""
        },
        {
         "metadata": "{}",
         "name": "mes",
         "type": "\"long\""
        },
        {
         "metadata": "{}",
         "name": "dia",
         "type": "\"long\""
        },
        {
         "metadata": "{}",
         "name": "quantidade_por_data",
         "type": "\"long\""
        }
       ],
       "type": "table"
      }
     },
     "output_type": "display_data"
    }
   ],
   "source": [
    "display(df_count_date.head(5))"
   ]
  },
  {
   "cell_type": "markdown",
   "metadata": {
    "application/vnd.databricks.v1+cell": {
     "cellMetadata": {},
     "inputWidgets": {},
     "nuid": "def3361c-c4cb-4fc1-ac66-7b300ce2865f",
     "showTitle": false,
     "title": ""
    }
   },
   "source": [
    "#### Quantidade de notícias por fonte e autor"
   ]
  },
  {
   "cell_type": "code",
   "execution_count": 0,
   "metadata": {
    "application/vnd.databricks.v1+cell": {
     "cellMetadata": {
      "byteLimit": 2048000,
      "rowLimit": 10000
     },
     "inputWidgets": {},
     "nuid": "d5ed1cfe-ccc6-417b-9d00-df40b46afdec",
     "showTitle": false,
     "title": ""
    }
   },
   "outputs": [],
   "source": [
    "def count_source_author(df: DataFrame) -> DataFrame:\n",
    "    return df.groupBy(\"fonte\", \"autor\").agg(count(\"*\").alias(\"quantidade_por_fonte_autor\"))"
   ]
  },
  {
   "cell_type": "code",
   "execution_count": 0,
   "metadata": {
    "application/vnd.databricks.v1+cell": {
     "cellMetadata": {
      "byteLimit": 2048000,
      "rowLimit": 10000
     },
     "inputWidgets": {},
     "nuid": "eb434edf-ce89-41b3-a118-621449b83a84",
     "showTitle": false,
     "title": ""
    }
   },
   "outputs": [],
   "source": [
    "df_count_source_author = count_source_author(data_new)"
   ]
  },
  {
   "cell_type": "code",
   "execution_count": 0,
   "metadata": {
    "application/vnd.databricks.v1+cell": {
     "cellMetadata": {
      "byteLimit": 2048000,
      "rowLimit": 10000
     },
     "inputWidgets": {},
     "nuid": "401b4bc8-124c-4e0c-81c7-94c04c8c50ea",
     "showTitle": false,
     "title": ""
    }
   },
   "outputs": [
    {
     "output_type": "display_data",
     "data": {
      "text/html": [
       "<style scoped>\n",
       "  .table-result-container {\n",
       "    max-height: 300px;\n",
       "    overflow: auto;\n",
       "  }\n",
       "  table, th, td {\n",
       "    border: 1px solid black;\n",
       "    border-collapse: collapse;\n",
       "  }\n",
       "  th, td {\n",
       "    padding: 5px;\n",
       "  }\n",
       "  th {\n",
       "    text-align: left;\n",
       "  }\n",
       "</style><div class='table-result-container'><table class='table-result'><thead style='background-color: white'><tr><th>fonte</th><th>autor</th><th>quantidade_por_fonte_autor</th></tr></thead><tbody><tr><td>Medical News Today</td><td>Jessica Freeborn</td><td>1</td></tr><tr><td>Medical News Today</td><td>Corrie Pelc</td><td>2</td></tr><tr><td>Medical News Today</td><td>Eileen Bailey</td><td>2</td></tr><tr><td>Medical News Today</td><td>Bob Curley</td><td>1</td></tr><tr><td>Medical News Today</td><td>Dan Gray</td><td>1</td></tr></tbody></table></div>"
      ]
     },
     "metadata": {
      "application/vnd.databricks.v1+output": {
       "addedWidgets": {},
       "aggData": [],
       "aggError": "",
       "aggOverflow": false,
       "aggSchema": [],
       "aggSeriesLimitReached": false,
       "aggType": "",
       "arguments": {},
       "columnCustomDisplayInfos": {},
       "data": [
        [
         "Medical News Today",
         "Jessica Freeborn",
         1
        ],
        [
         "Medical News Today",
         "Corrie Pelc",
         2
        ],
        [
         "Medical News Today",
         "Eileen Bailey",
         2
        ],
        [
         "Medical News Today",
         "Bob Curley",
         1
        ],
        [
         "Medical News Today",
         "Dan Gray",
         1
        ]
       ],
       "datasetInfos": [],
       "dbfsResultPath": null,
       "isJsonSchema": true,
       "metadata": {},
       "overflow": false,
       "plotOptions": {
        "customPlotOptions": {},
        "displayType": "table",
        "pivotAggregation": null,
        "pivotColumns": null,
        "xColumns": null,
        "yColumns": null
       },
       "removedWidgets": [],
       "schema": [
        {
         "metadata": "{}",
         "name": "fonte",
         "type": "\"string\""
        },
        {
         "metadata": "{}",
         "name": "autor",
         "type": "\"string\""
        },
        {
         "metadata": "{}",
         "name": "quantidade_por_fonte_autor",
         "type": "\"long\""
        }
       ],
       "type": "table"
      }
     },
     "output_type": "display_data"
    }
   ],
   "source": [
    "display(df_count_source_author.head(5))"
   ]
  },
  {
   "cell_type": "markdown",
   "metadata": {
    "application/vnd.databricks.v1+cell": {
     "cellMetadata": {},
     "inputWidgets": {},
     "nuid": "89beebce-744e-41da-9705-ebdbc3a06121",
     "showTitle": false,
     "title": ""
    }
   },
   "source": [
    "#### Quantidade de aparições de 3 palavras chaves por ano, mês e dia de publicação (as 3 palavras chaves serão as mesmas usadas para fazer os filtros de relevância do item 2 (2. Definir Critérios de Relevância))"
   ]
  },
  {
   "cell_type": "code",
   "execution_count": 0,
   "metadata": {
    "application/vnd.databricks.v1+cell": {
     "cellMetadata": {
      "byteLimit": 2048000,
      "rowLimit": 10000
     },
     "inputWidgets": {},
     "nuid": "7b779410-665c-49c2-8367-40cb699136b2",
     "showTitle": false,
     "title": ""
    }
   },
   "outputs": [],
   "source": [
    "def count_key_words(df: DataFrame, key_words: list[str]) -> DataFrame:\n",
    "    for key_word in key_words:\n",
    "        df = df.withColumn(f\"{key_word}_quantidade_descricao\", expr(f\"size(filter(split(descricao, ' '), x -> x = '{key_word}'))\").cast(\"int\"))\n",
    "        df.head(1)\n",
    "    return df.groupBy(\"ano\", \"mes\", \"dia\").agg(\n",
    "        count(\"*\").alias(\"total_de_aparicoes\"),\n",
    "        *([sum(f\"{key_word}_quantidade_descricao\").alias(f\"{key_word}_aparicoes_descricao\") for key_word in key_words])\n",
    "        )"
   ]
  },
  {
   "cell_type": "code",
   "execution_count": 0,
   "metadata": {
    "application/vnd.databricks.v1+cell": {
     "cellMetadata": {
      "byteLimit": 2048000,
      "rowLimit": 10000
     },
     "inputWidgets": {},
     "nuid": "59313a1d-174f-4729-987b-27ebf19f6a12",
     "showTitle": false,
     "title": ""
    }
   },
   "outputs": [
    {
     "output_type": "display_data",
     "data": {
      "text/plain": [
       "\u001B[0;31m---------------------------------------------------------------------------\u001B[0m\n",
       "\u001B[0;31mTypeError\u001B[0m                                 Traceback (most recent call last)\n",
       "File \u001B[0;32m<command-4215692481192661>:1\u001B[0m\n",
       "\u001B[0;32m----> 1\u001B[0m df_count_key_words \u001B[38;5;241m=\u001B[39m \u001B[43mcount_key_words\u001B[49m\u001B[43m(\u001B[49m\u001B[43mdata_new\u001B[49m\u001B[43m,\u001B[49m\u001B[43m \u001B[49m\u001B[43m[\u001B[49m\u001B[38;5;124;43m\"\u001B[39;49m\u001B[38;5;124;43mgenomics\u001B[39;49m\u001B[38;5;124;43m\"\u001B[39;49m\u001B[43m]\u001B[49m\u001B[43m)\u001B[49m\n",
       "\n",
       "File \u001B[0;32m<command-4215692481192660>:7\u001B[0m, in \u001B[0;36mcount_key_words\u001B[0;34m(df, key_words)\u001B[0m\n",
       "\u001B[1;32m      3\u001B[0m     df \u001B[38;5;241m=\u001B[39m df\u001B[38;5;241m.\u001B[39mwithColumn(\u001B[38;5;124mf\u001B[39m\u001B[38;5;124m\"\u001B[39m\u001B[38;5;132;01m{\u001B[39;00mkey_word\u001B[38;5;132;01m}\u001B[39;00m\u001B[38;5;124m_quantidade_descricao\u001B[39m\u001B[38;5;124m\"\u001B[39m, expr(\u001B[38;5;124mf\u001B[39m\u001B[38;5;124m\"\u001B[39m\u001B[38;5;124msize(filter(split(descricao, \u001B[39m\u001B[38;5;124m'\u001B[39m\u001B[38;5;124m \u001B[39m\u001B[38;5;124m'\u001B[39m\u001B[38;5;124m), x -> x = \u001B[39m\u001B[38;5;124m'\u001B[39m\u001B[38;5;132;01m{\u001B[39;00mkey_word\u001B[38;5;132;01m}\u001B[39;00m\u001B[38;5;124m'\u001B[39m\u001B[38;5;124m))\u001B[39m\u001B[38;5;124m\"\u001B[39m)\u001B[38;5;241m.\u001B[39mcast(\u001B[38;5;124m\"\u001B[39m\u001B[38;5;124mint\u001B[39m\u001B[38;5;124m\"\u001B[39m))\n",
       "\u001B[1;32m      4\u001B[0m     df\u001B[38;5;241m.\u001B[39mhead(\u001B[38;5;241m1\u001B[39m)\n",
       "\u001B[1;32m      5\u001B[0m \u001B[38;5;28;01mreturn\u001B[39;00m df\u001B[38;5;241m.\u001B[39mgroupBy(\u001B[38;5;124m\"\u001B[39m\u001B[38;5;124mano\u001B[39m\u001B[38;5;124m\"\u001B[39m, \u001B[38;5;124m\"\u001B[39m\u001B[38;5;124mmes\u001B[39m\u001B[38;5;124m\"\u001B[39m, \u001B[38;5;124m\"\u001B[39m\u001B[38;5;124mdia\u001B[39m\u001B[38;5;124m\"\u001B[39m)\u001B[38;5;241m.\u001B[39magg(\n",
       "\u001B[1;32m      6\u001B[0m     count(\u001B[38;5;124m\"\u001B[39m\u001B[38;5;124m*\u001B[39m\u001B[38;5;124m\"\u001B[39m)\u001B[38;5;241m.\u001B[39malias(\u001B[38;5;124m\"\u001B[39m\u001B[38;5;124mtotal_de_aparicoes\u001B[39m\u001B[38;5;124m\"\u001B[39m),\n",
       "\u001B[0;32m----> 7\u001B[0m     \u001B[38;5;241m*\u001B[39m([\u001B[38;5;28msum\u001B[39m(\u001B[38;5;124mf\u001B[39m\u001B[38;5;124m\"\u001B[39m\u001B[38;5;132;01m{\u001B[39;00mkey_word\u001B[38;5;132;01m}\u001B[39;00m\u001B[38;5;124m_quantidade_descricao\u001B[39m\u001B[38;5;124m\"\u001B[39m)\u001B[38;5;241m.\u001B[39malias(\u001B[38;5;124mf\u001B[39m\u001B[38;5;124m\"\u001B[39m\u001B[38;5;132;01m{\u001B[39;00mkey_word\u001B[38;5;132;01m}\u001B[39;00m\u001B[38;5;124m_aparicoes_descricao\u001B[39m\u001B[38;5;124m\"\u001B[39m) \u001B[38;5;28;01mfor\u001B[39;00m key_word \u001B[38;5;129;01min\u001B[39;00m key_words])\n",
       "\u001B[1;32m      8\u001B[0m     )\n",
       "\n",
       "File \u001B[0;32m<command-4215692481192660>:7\u001B[0m, in \u001B[0;36m<listcomp>\u001B[0;34m(.0)\u001B[0m\n",
       "\u001B[1;32m      3\u001B[0m     df \u001B[38;5;241m=\u001B[39m df\u001B[38;5;241m.\u001B[39mwithColumn(\u001B[38;5;124mf\u001B[39m\u001B[38;5;124m\"\u001B[39m\u001B[38;5;132;01m{\u001B[39;00mkey_word\u001B[38;5;132;01m}\u001B[39;00m\u001B[38;5;124m_quantidade_descricao\u001B[39m\u001B[38;5;124m\"\u001B[39m, expr(\u001B[38;5;124mf\u001B[39m\u001B[38;5;124m\"\u001B[39m\u001B[38;5;124msize(filter(split(descricao, \u001B[39m\u001B[38;5;124m'\u001B[39m\u001B[38;5;124m \u001B[39m\u001B[38;5;124m'\u001B[39m\u001B[38;5;124m), x -> x = \u001B[39m\u001B[38;5;124m'\u001B[39m\u001B[38;5;132;01m{\u001B[39;00mkey_word\u001B[38;5;132;01m}\u001B[39;00m\u001B[38;5;124m'\u001B[39m\u001B[38;5;124m))\u001B[39m\u001B[38;5;124m\"\u001B[39m)\u001B[38;5;241m.\u001B[39mcast(\u001B[38;5;124m\"\u001B[39m\u001B[38;5;124mint\u001B[39m\u001B[38;5;124m\"\u001B[39m))\n",
       "\u001B[1;32m      4\u001B[0m     df\u001B[38;5;241m.\u001B[39mhead(\u001B[38;5;241m1\u001B[39m)\n",
       "\u001B[1;32m      5\u001B[0m \u001B[38;5;28;01mreturn\u001B[39;00m df\u001B[38;5;241m.\u001B[39mgroupBy(\u001B[38;5;124m\"\u001B[39m\u001B[38;5;124mano\u001B[39m\u001B[38;5;124m\"\u001B[39m, \u001B[38;5;124m\"\u001B[39m\u001B[38;5;124mmes\u001B[39m\u001B[38;5;124m\"\u001B[39m, \u001B[38;5;124m\"\u001B[39m\u001B[38;5;124mdia\u001B[39m\u001B[38;5;124m\"\u001B[39m)\u001B[38;5;241m.\u001B[39magg(\n",
       "\u001B[1;32m      6\u001B[0m     count(\u001B[38;5;124m\"\u001B[39m\u001B[38;5;124m*\u001B[39m\u001B[38;5;124m\"\u001B[39m)\u001B[38;5;241m.\u001B[39malias(\u001B[38;5;124m\"\u001B[39m\u001B[38;5;124mtotal_de_aparicoes\u001B[39m\u001B[38;5;124m\"\u001B[39m),\n",
       "\u001B[0;32m----> 7\u001B[0m     \u001B[38;5;241m*\u001B[39m([\u001B[38;5;28;43msum\u001B[39;49m\u001B[43m(\u001B[49m\u001B[38;5;124;43mf\u001B[39;49m\u001B[38;5;124;43m\"\u001B[39;49m\u001B[38;5;132;43;01m{\u001B[39;49;00m\u001B[43mkey_word\u001B[49m\u001B[38;5;132;43;01m}\u001B[39;49;00m\u001B[38;5;124;43m_quantidade_descricao\u001B[39;49m\u001B[38;5;124;43m\"\u001B[39;49m\u001B[43m)\u001B[49m\u001B[38;5;241m.\u001B[39malias(\u001B[38;5;124mf\u001B[39m\u001B[38;5;124m\"\u001B[39m\u001B[38;5;132;01m{\u001B[39;00mkey_word\u001B[38;5;132;01m}\u001B[39;00m\u001B[38;5;124m_aparicoes_descricao\u001B[39m\u001B[38;5;124m\"\u001B[39m) \u001B[38;5;28;01mfor\u001B[39;00m key_word \u001B[38;5;129;01min\u001B[39;00m key_words])\n",
       "\u001B[1;32m      8\u001B[0m     )\n",
       "\n",
       "\u001B[0;31mTypeError\u001B[0m: unsupported operand type(s) for +: 'int' and 'str'"
      ]
     },
     "metadata": {
      "application/vnd.databricks.v1+output": {
       "arguments": {},
       "data": "\u001B[0;31m---------------------------------------------------------------------------\u001B[0m\n\u001B[0;31mTypeError\u001B[0m                                 Traceback (most recent call last)\nFile \u001B[0;32m<command-4215692481192661>:1\u001B[0m\n\u001B[0;32m----> 1\u001B[0m df_count_key_words \u001B[38;5;241m=\u001B[39m \u001B[43mcount_key_words\u001B[49m\u001B[43m(\u001B[49m\u001B[43mdata_new\u001B[49m\u001B[43m,\u001B[49m\u001B[43m \u001B[49m\u001B[43m[\u001B[49m\u001B[38;5;124;43m\"\u001B[39;49m\u001B[38;5;124;43mgenomics\u001B[39;49m\u001B[38;5;124;43m\"\u001B[39;49m\u001B[43m]\u001B[49m\u001B[43m)\u001B[49m\n\nFile \u001B[0;32m<command-4215692481192660>:7\u001B[0m, in \u001B[0;36mcount_key_words\u001B[0;34m(df, key_words)\u001B[0m\n\u001B[1;32m      3\u001B[0m     df \u001B[38;5;241m=\u001B[39m df\u001B[38;5;241m.\u001B[39mwithColumn(\u001B[38;5;124mf\u001B[39m\u001B[38;5;124m\"\u001B[39m\u001B[38;5;132;01m{\u001B[39;00mkey_word\u001B[38;5;132;01m}\u001B[39;00m\u001B[38;5;124m_quantidade_descricao\u001B[39m\u001B[38;5;124m\"\u001B[39m, expr(\u001B[38;5;124mf\u001B[39m\u001B[38;5;124m\"\u001B[39m\u001B[38;5;124msize(filter(split(descricao, \u001B[39m\u001B[38;5;124m'\u001B[39m\u001B[38;5;124m \u001B[39m\u001B[38;5;124m'\u001B[39m\u001B[38;5;124m), x -> x = \u001B[39m\u001B[38;5;124m'\u001B[39m\u001B[38;5;132;01m{\u001B[39;00mkey_word\u001B[38;5;132;01m}\u001B[39;00m\u001B[38;5;124m'\u001B[39m\u001B[38;5;124m))\u001B[39m\u001B[38;5;124m\"\u001B[39m)\u001B[38;5;241m.\u001B[39mcast(\u001B[38;5;124m\"\u001B[39m\u001B[38;5;124mint\u001B[39m\u001B[38;5;124m\"\u001B[39m))\n\u001B[1;32m      4\u001B[0m     df\u001B[38;5;241m.\u001B[39mhead(\u001B[38;5;241m1\u001B[39m)\n\u001B[1;32m      5\u001B[0m \u001B[38;5;28;01mreturn\u001B[39;00m df\u001B[38;5;241m.\u001B[39mgroupBy(\u001B[38;5;124m\"\u001B[39m\u001B[38;5;124mano\u001B[39m\u001B[38;5;124m\"\u001B[39m, \u001B[38;5;124m\"\u001B[39m\u001B[38;5;124mmes\u001B[39m\u001B[38;5;124m\"\u001B[39m, \u001B[38;5;124m\"\u001B[39m\u001B[38;5;124mdia\u001B[39m\u001B[38;5;124m\"\u001B[39m)\u001B[38;5;241m.\u001B[39magg(\n\u001B[1;32m      6\u001B[0m     count(\u001B[38;5;124m\"\u001B[39m\u001B[38;5;124m*\u001B[39m\u001B[38;5;124m\"\u001B[39m)\u001B[38;5;241m.\u001B[39malias(\u001B[38;5;124m\"\u001B[39m\u001B[38;5;124mtotal_de_aparicoes\u001B[39m\u001B[38;5;124m\"\u001B[39m),\n\u001B[0;32m----> 7\u001B[0m     \u001B[38;5;241m*\u001B[39m([\u001B[38;5;28msum\u001B[39m(\u001B[38;5;124mf\u001B[39m\u001B[38;5;124m\"\u001B[39m\u001B[38;5;132;01m{\u001B[39;00mkey_word\u001B[38;5;132;01m}\u001B[39;00m\u001B[38;5;124m_quantidade_descricao\u001B[39m\u001B[38;5;124m\"\u001B[39m)\u001B[38;5;241m.\u001B[39malias(\u001B[38;5;124mf\u001B[39m\u001B[38;5;124m\"\u001B[39m\u001B[38;5;132;01m{\u001B[39;00mkey_word\u001B[38;5;132;01m}\u001B[39;00m\u001B[38;5;124m_aparicoes_descricao\u001B[39m\u001B[38;5;124m\"\u001B[39m) \u001B[38;5;28;01mfor\u001B[39;00m key_word \u001B[38;5;129;01min\u001B[39;00m key_words])\n\u001B[1;32m      8\u001B[0m     )\n\nFile \u001B[0;32m<command-4215692481192660>:7\u001B[0m, in \u001B[0;36m<listcomp>\u001B[0;34m(.0)\u001B[0m\n\u001B[1;32m      3\u001B[0m     df \u001B[38;5;241m=\u001B[39m df\u001B[38;5;241m.\u001B[39mwithColumn(\u001B[38;5;124mf\u001B[39m\u001B[38;5;124m\"\u001B[39m\u001B[38;5;132;01m{\u001B[39;00mkey_word\u001B[38;5;132;01m}\u001B[39;00m\u001B[38;5;124m_quantidade_descricao\u001B[39m\u001B[38;5;124m\"\u001B[39m, expr(\u001B[38;5;124mf\u001B[39m\u001B[38;5;124m\"\u001B[39m\u001B[38;5;124msize(filter(split(descricao, \u001B[39m\u001B[38;5;124m'\u001B[39m\u001B[38;5;124m \u001B[39m\u001B[38;5;124m'\u001B[39m\u001B[38;5;124m), x -> x = \u001B[39m\u001B[38;5;124m'\u001B[39m\u001B[38;5;132;01m{\u001B[39;00mkey_word\u001B[38;5;132;01m}\u001B[39;00m\u001B[38;5;124m'\u001B[39m\u001B[38;5;124m))\u001B[39m\u001B[38;5;124m\"\u001B[39m)\u001B[38;5;241m.\u001B[39mcast(\u001B[38;5;124m\"\u001B[39m\u001B[38;5;124mint\u001B[39m\u001B[38;5;124m\"\u001B[39m))\n\u001B[1;32m      4\u001B[0m     df\u001B[38;5;241m.\u001B[39mhead(\u001B[38;5;241m1\u001B[39m)\n\u001B[1;32m      5\u001B[0m \u001B[38;5;28;01mreturn\u001B[39;00m df\u001B[38;5;241m.\u001B[39mgroupBy(\u001B[38;5;124m\"\u001B[39m\u001B[38;5;124mano\u001B[39m\u001B[38;5;124m\"\u001B[39m, \u001B[38;5;124m\"\u001B[39m\u001B[38;5;124mmes\u001B[39m\u001B[38;5;124m\"\u001B[39m, \u001B[38;5;124m\"\u001B[39m\u001B[38;5;124mdia\u001B[39m\u001B[38;5;124m\"\u001B[39m)\u001B[38;5;241m.\u001B[39magg(\n\u001B[1;32m      6\u001B[0m     count(\u001B[38;5;124m\"\u001B[39m\u001B[38;5;124m*\u001B[39m\u001B[38;5;124m\"\u001B[39m)\u001B[38;5;241m.\u001B[39malias(\u001B[38;5;124m\"\u001B[39m\u001B[38;5;124mtotal_de_aparicoes\u001B[39m\u001B[38;5;124m\"\u001B[39m),\n\u001B[0;32m----> 7\u001B[0m     \u001B[38;5;241m*\u001B[39m([\u001B[38;5;28;43msum\u001B[39;49m\u001B[43m(\u001B[49m\u001B[38;5;124;43mf\u001B[39;49m\u001B[38;5;124;43m\"\u001B[39;49m\u001B[38;5;132;43;01m{\u001B[39;49;00m\u001B[43mkey_word\u001B[49m\u001B[38;5;132;43;01m}\u001B[39;49;00m\u001B[38;5;124;43m_quantidade_descricao\u001B[39;49m\u001B[38;5;124;43m\"\u001B[39;49m\u001B[43m)\u001B[49m\u001B[38;5;241m.\u001B[39malias(\u001B[38;5;124mf\u001B[39m\u001B[38;5;124m\"\u001B[39m\u001B[38;5;132;01m{\u001B[39;00mkey_word\u001B[38;5;132;01m}\u001B[39;00m\u001B[38;5;124m_aparicoes_descricao\u001B[39m\u001B[38;5;124m\"\u001B[39m) \u001B[38;5;28;01mfor\u001B[39;00m key_word \u001B[38;5;129;01min\u001B[39;00m key_words])\n\u001B[1;32m      8\u001B[0m     )\n\n\u001B[0;31mTypeError\u001B[0m: unsupported operand type(s) for +: 'int' and 'str'",
       "errorSummary": "<span class='ansi-red-fg'>TypeError</span>: unsupported operand type(s) for +: 'int' and 'str'",
       "errorTraceType": "ansi",
       "metadata": {},
       "type": "ipynbError"
      }
     },
     "output_type": "display_data"
    }
   ],
   "source": [
    "df_count_key_words = count_key_words(data_new, [\"genomics\"])"
   ]
  },
  {
   "cell_type": "markdown",
   "metadata": {
    "application/vnd.databricks.v1+cell": {
     "cellMetadata": {},
     "inputWidgets": {},
     "nuid": "567009f4-d9e5-4411-a181-b753ff328704",
     "showTitle": false,
     "title": ""
    }
   },
   "source": [
    "#### Função Principal da Parte 2"
   ]
  },
  {
   "cell_type": "markdown",
   "metadata": {
    "application/vnd.databricks.v1+cell": {
     "cellMetadata": {},
     "inputWidgets": {},
     "nuid": "43af95d9-fbe0-4cf7-9887-1293f79f841a",
     "showTitle": false,
     "title": ""
    }
   },
   "source": [
    "Path da Processing Zone"
   ]
  },
  {
   "cell_type": "code",
   "execution_count": 0,
   "metadata": {
    "application/vnd.databricks.v1+cell": {
     "cellMetadata": {
      "byteLimit": 2048000,
      "rowLimit": 10000
     },
     "inputWidgets": {},
     "nuid": "4c11b8a3-ff85-4133-8616-ea94b499282f",
     "showTitle": false,
     "title": ""
    }
   },
   "outputs": [],
   "source": [
    "path_processing = f\"/FileStore/processing/processing_zone_{year}_{month}.parquet\"\n",
    "path_count_per_day_month_year = f\"/FileStore/processing/count_per_day_month_year_{year}_{month}.parquet\"\n",
    "path_count_source_author = f\"/FileStore/processing/count_source_author_{year}_{month}.parquet\""
   ]
  },
  {
   "cell_type": "code",
   "execution_count": 0,
   "metadata": {
    "application/vnd.databricks.v1+cell": {
     "cellMetadata": {
      "byteLimit": 2048000,
      "rowLimit": 10000
     },
     "inputWidgets": {},
     "nuid": "f6f67b93-7398-437b-9594-9fba0bb6c082",
     "showTitle": false,
     "title": ""
    }
   },
   "outputs": [],
   "source": [
    "def main_step_2(loop:bool = True) -> None:\n",
    "    first_loop_step_2 = True\n",
    "    loop_step_2 = 0\n",
    "    while loop:\n",
    "        main_step_1(loop=False)\n",
    "        if first_loop_step_2 == True or loop_step_2 == 24: \n",
    "            print(\"extract raw zone\")\n",
    "            data = spark.read.parquet(parquet_raw)\n",
    "            print(\"processing zone\")\n",
    "            data_processing = rename_columns(data)\n",
    "            data_processing = transform_date(data_processing)\n",
    "            load(data_processing, path_processing)\n",
    "            print(\"count per day, month and year\")\n",
    "            data_count_per_day_month_year = count_per_day_month_year(data_processing)\n",
    "            load(data_count_per_day_month_year, path_count_per_day_month_year)\n",
    "            print(\"count source author\")\n",
    "            data_count_source_author = count_source_author(data_processing)\n",
    "            load(data_count_source_author, path_count_source_author)\n",
    "            print(\"end\")\n",
    "            first_loop_step_2 = False\n",
    "            loop_step_2 = 0\n",
    "        loop_step_2 += 1\n",
    "        time_sleep = 3600\n",
    "        time.sleep(time_sleep)"
   ]
  },
  {
   "cell_type": "code",
   "execution_count": 0,
   "metadata": {
    "application/vnd.databricks.v1+cell": {
     "cellMetadata": {
      "byteLimit": 2048000,
      "rowLimit": 10000
     },
     "inputWidgets": {},
     "nuid": "dae1ad16-42c4-490e-819d-fbaebdb65b5e",
     "showTitle": false,
     "title": ""
    }
   },
   "outputs": [
    {
     "output_type": "stream",
     "name": "stdout",
     "output_type": "stream",
     "text": [
      "extract raw zone\nprocessing zone\ndata not search, first process\ncount per day, month and year\ndata not search, first process\ncount source author\ndata not search, first process\nend\n"
     ]
    },
    {
     "output_type": "display_data",
     "data": {
      "text/html": [
       "<style scoped>\n",
       "  .ansiout {\n",
       "    display: block;\n",
       "    unicode-bidi: embed;\n",
       "    white-space: pre-wrap;\n",
       "    word-wrap: break-word;\n",
       "    word-break: break-all;\n",
       "    font-family: \"Source Code Pro\", \"Menlo\", monospace;;\n",
       "    font-size: 13px;\n",
       "    color: #555;\n",
       "    margin-left: 4px;\n",
       "    line-height: 19px;\n",
       "  }\n",
       "</style>"
      ]
     },
     "metadata": {
      "application/vnd.databricks.v1+output": {
       "arguments": {},
       "data": "",
       "errorSummary": "Cancelled",
       "errorTraceType": "html",
       "metadata": {},
       "type": "ipynbError"
      }
     },
     "output_type": "display_data"
    }
   ],
   "source": [
    "main_step_2()"
   ]
  },
  {
   "cell_type": "markdown",
   "metadata": {
    "application/vnd.databricks.v1+cell": {
     "cellMetadata": {},
     "inputWidgets": {},
     "nuid": "6dc72e74-5dfb-4f76-9d0f-186c3a2df0e6",
     "showTitle": false,
     "title": ""
    }
   },
   "source": [
    "Parte 2 - Testes"
   ]
  },
  {
   "cell_type": "code",
   "execution_count": 0,
   "metadata": {
    "application/vnd.databricks.v1+cell": {
     "cellMetadata": {
      "byteLimit": 2048000,
      "rowLimit": 10000
     },
     "inputWidgets": {},
     "nuid": "2050189a-f5df-452c-ad3c-b55ba162dfd2",
     "showTitle": false,
     "title": ""
    }
   },
   "outputs": [
    {
     "output_type": "display_data",
     "data": {
      "text/html": [
       "<style scoped>\n",
       "  .table-result-container {\n",
       "    max-height: 300px;\n",
       "    overflow: auto;\n",
       "  }\n",
       "  table, th, td {\n",
       "    border: 1px solid black;\n",
       "    border-collapse: collapse;\n",
       "  }\n",
       "  th, td {\n",
       "    padding: 5px;\n",
       "  }\n",
       "  th {\n",
       "    text-align: left;\n",
       "  }\n",
       "</style><div class='table-result-container'><table class='table-result'><thead style='background-color: white'><tr><th>autor</th><th>titulo</th><th>descricao</th><th>url_artigo</th><th>imagem</th><th>html</th><th>fonte</th><th>dia</th><th>mes</th><th>ano</th></tr></thead><tbody><tr><td>Corrie Pelc</td><td>Jamais vu: What happens in the brain when the familiar feels new?</td><td>The phenomenon of jamais vu, when a familiar experience feels new, is a common occurrence, but why does it happen, and should it worry us when it does? Here is what the experts and the current research say.</td><td>https://www.medicalnewstoday.com/articles/jamais-vu-whatjamais-vu-the-opposite-of-deja-vu-why-does-the-familiar-feel-strangely-new-sometimesexplains-the-opposite-of-deja-vu</td><td>https://post.medicalnewstoday.com/wp-content/uploads/sites/3/2023/10/jamais_vu_GettyImages1192800429_Thumb.jpg</td><td>Many people have heard of and probably experienced déjà vu the strange feeling you have already seen or experienced something as you are seeing or experiencing it. But very few people know about the … [+9330 chars]</td><td>Medical News Today</td><td>3</td><td>10</td><td>2023</td></tr><tr><td>Jessica Freeborn</td><td>Short bursts of exercise may lower the risk of heart attack and stroke</td><td>A recent study found that non-exercise physical activity was associated with a lower risk for major adverse cardiovascular events such as heart attack and stroke. Short bursts of physical activity among non-exercisers were also linked to a reduced risk of all…</td><td>https://www.medicalnewstoday.com/articles/short-bursts-exercise-heart-health</td><td>https://post.medicalnewstoday.com/wp-content/uploads/sites/3/2023/10/Female-Steps-Building-732x549-Thumbnail.jpg</td><td><ul><li>A recent study found that non-exercise physical activity was associated with a lower risk for major adverse cardiovascular events.</li><li>Short bursts of physical activity among non-exercise… [+6994 chars]</td><td>Medical News Today</td><td>2</td><td>10</td><td>2023</td></tr><tr><td>Mandy French</td><td>Feeling of impending doom: Meaning, causes, and more</td><td>A feeling of impending doom is a sense that something tragic or life threatening is about to happen. Learn more here.</td><td>https://www.medicalnewstoday.com/articles/feeling-of-impending-doom</td><td>https://post.medicalnewstoday.com/wp-content/uploads/sites/3/2023/08/umbrella-rain-impending-doom-732x549-thumbnail.jpg</td><td>A feeling of impending doom is a sense that something tragic or life threatening is about to happen. It can occur due to mental health or medical conditions. \r\n",
       "People may describe a feeling of impend… [+5780 chars]</td><td>Medical News Today</td><td>1</td><td>10</td><td>2023</td></tr><tr><td>Eileen Bailey</td><td>Parkinson's: How loneliness can affect progression of the disease</td><td>Researchers say they have established an association between loneliness and the development of Parkinson's disease. Experts say it's important for people with the condition to have friends and other social connections.</td><td>https://www.medicalnewstoday.com/articles/how-loneliness-may-be-associated-with-parkinson-disease</td><td>https://post.medicalnewstoday.com/wp-content/uploads/sites/3/2023/10/Male-Serious-Alone-732x549-Thumbnail.jpg</td><td><ul><li>Researchers report that loneliness is associated with a higher risk of Parkinsons disease.</li><li>They note that people with Parkinsons may worry that their illness will get in the way of fr… [+9501 chars]</td><td>Medical News Today</td><td>3</td><td>10</td><td>2023</td></tr><tr><td>Corrie Pelc</td><td>What role do micronutrients play in neurological health?</td><td>A review of the existing evidence looks at how micronutrients including vitamin and minerals could help treat the symptoms of different neurological diseases, including Parkinson's and Alzheimer's.</td><td>https://www.medicalnewstoday.com/articles/can-micronutrients-help-treat-neurological-diseases-such-as-parkinsons</td><td>https://post.medicalnewstoday.com/wp-content/uploads/sites/3/2023/10/leafs-science-lab-micronutrients-732x549-thumbnail.jpg</td><td><ul><li>Micronutrients refer to all the vitamins and minerals a body needs to stay healthy and function correctly. </li><li>More than 2 billion people globally are micronutrient deficient. </li><li>N… [+7296 chars]</td><td>Medical News Today</td><td>2</td><td>10</td><td>2023</td></tr></tbody></table></div>"
      ]
     },
     "metadata": {
      "application/vnd.databricks.v1+output": {
       "addedWidgets": {},
       "aggData": [],
       "aggError": "",
       "aggOverflow": false,
       "aggSchema": [],
       "aggSeriesLimitReached": false,
       "aggType": "",
       "arguments": {},
       "columnCustomDisplayInfos": {},
       "data": [
        [
         "Corrie Pelc",
         "Jamais vu: What happens in the brain when the familiar feels new?",
         "The phenomenon of jamais vu, when a familiar experience feels new, is a common occurrence, but why does it happen, and should it worry us when it does? Here is what the experts and the current research say.",
         "https://www.medicalnewstoday.com/articles/jamais-vu-whatjamais-vu-the-opposite-of-deja-vu-why-does-the-familiar-feel-strangely-new-sometimesexplains-the-opposite-of-deja-vu",
         "https://post.medicalnewstoday.com/wp-content/uploads/sites/3/2023/10/jamais_vu_GettyImages1192800429_Thumb.jpg",
         "Many people have heard of and probably experienced déjà vu the strange feeling you have already seen or experienced something as you are seeing or experiencing it. But very few people know about the … [+9330 chars]",
         "Medical News Today",
         3,
         10,
         2023
        ],
        [
         "Jessica Freeborn",
         "Short bursts of exercise may lower the risk of heart attack and stroke",
         "A recent study found that non-exercise physical activity was associated with a lower risk for major adverse cardiovascular events such as heart attack and stroke. Short bursts of physical activity among non-exercisers were also linked to a reduced risk of all…",
         "https://www.medicalnewstoday.com/articles/short-bursts-exercise-heart-health",
         "https://post.medicalnewstoday.com/wp-content/uploads/sites/3/2023/10/Female-Steps-Building-732x549-Thumbnail.jpg",
         "<ul><li>A recent study found that non-exercise physical activity was associated with a lower risk for major adverse cardiovascular events.</li><li>Short bursts of physical activity among non-exercise… [+6994 chars]",
         "Medical News Today",
         2,
         10,
         2023
        ],
        [
         "Mandy French",
         "Feeling of impending doom: Meaning, causes, and more",
         "A feeling of impending doom is a sense that something tragic or life threatening is about to happen. Learn more here.",
         "https://www.medicalnewstoday.com/articles/feeling-of-impending-doom",
         "https://post.medicalnewstoday.com/wp-content/uploads/sites/3/2023/08/umbrella-rain-impending-doom-732x549-thumbnail.jpg",
         "A feeling of impending doom is a sense that something tragic or life threatening is about to happen. It can occur due to mental health or medical conditions. \r\nPeople may describe a feeling of impend… [+5780 chars]",
         "Medical News Today",
         1,
         10,
         2023
        ],
        [
         "Eileen Bailey",
         "Parkinson's: How loneliness can affect progression of the disease",
         "Researchers say they have established an association between loneliness and the development of Parkinson's disease. Experts say it's important for people with the condition to have friends and other social connections.",
         "https://www.medicalnewstoday.com/articles/how-loneliness-may-be-associated-with-parkinson-disease",
         "https://post.medicalnewstoday.com/wp-content/uploads/sites/3/2023/10/Male-Serious-Alone-732x549-Thumbnail.jpg",
         "<ul><li>Researchers report that loneliness is associated with a higher risk of Parkinsons disease.</li><li>They note that people with Parkinsons may worry that their illness will get in the way of fr… [+9501 chars]",
         "Medical News Today",
         3,
         10,
         2023
        ],
        [
         "Corrie Pelc",
         "What role do micronutrients play in neurological health?",
         "A review of the existing evidence looks at how micronutrients including vitamin and minerals could help treat the symptoms of different neurological diseases, including Parkinson's and Alzheimer's.",
         "https://www.medicalnewstoday.com/articles/can-micronutrients-help-treat-neurological-diseases-such-as-parkinsons",
         "https://post.medicalnewstoday.com/wp-content/uploads/sites/3/2023/10/leafs-science-lab-micronutrients-732x549-thumbnail.jpg",
         "<ul><li>Micronutrients refer to all the vitamins and minerals a body needs to stay healthy and function correctly. </li><li>More than 2 billion people globally are micronutrient deficient. </li><li>N… [+7296 chars]",
         "Medical News Today",
         2,
         10,
         2023
        ]
       ],
       "datasetInfos": [],
       "dbfsResultPath": null,
       "isJsonSchema": true,
       "metadata": {},
       "overflow": false,
       "plotOptions": {
        "customPlotOptions": {},
        "displayType": "table",
        "pivotAggregation": null,
        "pivotColumns": null,
        "xColumns": null,
        "yColumns": null
       },
       "removedWidgets": [],
       "schema": [
        {
         "metadata": "{}",
         "name": "autor",
         "type": "\"string\""
        },
        {
         "metadata": "{}",
         "name": "titulo",
         "type": "\"string\""
        },
        {
         "metadata": "{}",
         "name": "descricao",
         "type": "\"string\""
        },
        {
         "metadata": "{}",
         "name": "url_artigo",
         "type": "\"string\""
        },
        {
         "metadata": "{}",
         "name": "imagem",
         "type": "\"string\""
        },
        {
         "metadata": "{}",
         "name": "html",
         "type": "\"string\""
        },
        {
         "metadata": "{}",
         "name": "fonte",
         "type": "\"string\""
        },
        {
         "metadata": "{}",
         "name": "dia",
         "type": "\"long\""
        },
        {
         "metadata": "{}",
         "name": "mes",
         "type": "\"long\""
        },
        {
         "metadata": "{}",
         "name": "ano",
         "type": "\"long\""
        }
       ],
       "type": "table"
      }
     },
     "output_type": "display_data"
    }
   ],
   "source": [
    "data_processing = spark.read.parquet(path_processing)\n",
    "display(data_processing.head(5))"
   ]
  },
  {
   "cell_type": "code",
   "execution_count": 0,
   "metadata": {
    "application/vnd.databricks.v1+cell": {
     "cellMetadata": {
      "byteLimit": 2048000,
      "rowLimit": 10000
     },
     "inputWidgets": {},
     "nuid": "aacc834f-d241-49dd-9574-bf7109eac19d",
     "showTitle": false,
     "title": ""
    }
   },
   "outputs": [
    {
     "output_type": "display_data",
     "data": {
      "text/html": [
       "<style scoped>\n",
       "  .table-result-container {\n",
       "    max-height: 300px;\n",
       "    overflow: auto;\n",
       "  }\n",
       "  table, th, td {\n",
       "    border: 1px solid black;\n",
       "    border-collapse: collapse;\n",
       "  }\n",
       "  th, td {\n",
       "    padding: 5px;\n",
       "  }\n",
       "  th {\n",
       "    text-align: left;\n",
       "  }\n",
       "</style><div class='table-result-container'><table class='table-result'><thead style='background-color: white'><tr><th>ano</th><th>mes</th><th>dia</th><th>quantidade_por_data</th></tr></thead><tbody><tr><td>2023</td><td>10</td><td>3</td><td>4</td></tr><tr><td>2023</td><td>10</td><td>2</td><td>5</td></tr><tr><td>2023</td><td>10</td><td>1</td><td>2</td></tr></tbody></table></div>"
      ]
     },
     "metadata": {
      "application/vnd.databricks.v1+output": {
       "addedWidgets": {},
       "aggData": [],
       "aggError": "",
       "aggOverflow": false,
       "aggSchema": [],
       "aggSeriesLimitReached": false,
       "aggType": "",
       "arguments": {},
       "columnCustomDisplayInfos": {},
       "data": [
        [
         2023,
         10,
         3,
         4
        ],
        [
         2023,
         10,
         2,
         5
        ],
        [
         2023,
         10,
         1,
         2
        ]
       ],
       "datasetInfos": [],
       "dbfsResultPath": null,
       "isJsonSchema": true,
       "metadata": {},
       "overflow": false,
       "plotOptions": {
        "customPlotOptions": {},
        "displayType": "table",
        "pivotAggregation": null,
        "pivotColumns": null,
        "xColumns": null,
        "yColumns": null
       },
       "removedWidgets": [],
       "schema": [
        {
         "metadata": "{}",
         "name": "ano",
         "type": "\"long\""
        },
        {
         "metadata": "{}",
         "name": "mes",
         "type": "\"long\""
        },
        {
         "metadata": "{}",
         "name": "dia",
         "type": "\"long\""
        },
        {
         "metadata": "{}",
         "name": "quantidade_por_data",
         "type": "\"long\""
        }
       ],
       "type": "table"
      }
     },
     "output_type": "display_data"
    }
   ],
   "source": [
    "data_count_per_day_month_year = spark.read.parquet(path_count_per_day_month_year)\n",
    "display(data_count_per_day_month_year.head(5))"
   ]
  },
  {
   "cell_type": "code",
   "execution_count": 0,
   "metadata": {
    "application/vnd.databricks.v1+cell": {
     "cellMetadata": {
      "byteLimit": 2048000,
      "rowLimit": 10000
     },
     "inputWidgets": {},
     "nuid": "0364ad53-b455-4c6f-bf1a-2d002f96265b",
     "showTitle": false,
     "title": ""
    }
   },
   "outputs": [
    {
     "output_type": "display_data",
     "data": {
      "text/html": [
       "<style scoped>\n",
       "  .table-result-container {\n",
       "    max-height: 300px;\n",
       "    overflow: auto;\n",
       "  }\n",
       "  table, th, td {\n",
       "    border: 1px solid black;\n",
       "    border-collapse: collapse;\n",
       "  }\n",
       "  th, td {\n",
       "    padding: 5px;\n",
       "  }\n",
       "  th {\n",
       "    text-align: left;\n",
       "  }\n",
       "</style><div class='table-result-container'><table class='table-result'><thead style='background-color: white'><tr><th>fonte</th><th>autor</th><th>quantidade_por_fonte_autor</th></tr></thead><tbody><tr><td>Medical News Today</td><td>Jessica Freeborn</td><td>1</td></tr><tr><td>Medical News Today</td><td>Corrie Pelc</td><td>2</td></tr><tr><td>Medical News Today</td><td>Eileen Bailey</td><td>2</td></tr><tr><td>Medical News Today</td><td>Bob Curley</td><td>1</td></tr><tr><td>Medical News Today</td><td>Dan Gray</td><td>1</td></tr></tbody></table></div>"
      ]
     },
     "metadata": {
      "application/vnd.databricks.v1+output": {
       "addedWidgets": {},
       "aggData": [],
       "aggError": "",
       "aggOverflow": false,
       "aggSchema": [],
       "aggSeriesLimitReached": false,
       "aggType": "",
       "arguments": {},
       "columnCustomDisplayInfos": {},
       "data": [
        [
         "Medical News Today",
         "Jessica Freeborn",
         1
        ],
        [
         "Medical News Today",
         "Corrie Pelc",
         2
        ],
        [
         "Medical News Today",
         "Eileen Bailey",
         2
        ],
        [
         "Medical News Today",
         "Bob Curley",
         1
        ],
        [
         "Medical News Today",
         "Dan Gray",
         1
        ]
       ],
       "datasetInfos": [],
       "dbfsResultPath": null,
       "isJsonSchema": true,
       "metadata": {},
       "overflow": false,
       "plotOptions": {
        "customPlotOptions": {},
        "displayType": "table",
        "pivotAggregation": null,
        "pivotColumns": null,
        "xColumns": null,
        "yColumns": null
       },
       "removedWidgets": [],
       "schema": [
        {
         "metadata": "{}",
         "name": "fonte",
         "type": "\"string\""
        },
        {
         "metadata": "{}",
         "name": "autor",
         "type": "\"string\""
        },
        {
         "metadata": "{}",
         "name": "quantidade_por_fonte_autor",
         "type": "\"long\""
        }
       ],
       "type": "table"
      }
     },
     "output_type": "display_data"
    }
   ],
   "source": [
    "data_count_source_author = spark.read.parquet(path_count_source_author)\n",
    "display(data_count_source_author.head(5))"
   ]
  },
  {
   "cell_type": "markdown",
   "metadata": {
    "application/vnd.databricks.v1+cell": {
     "cellMetadata": {},
     "inputWidgets": {},
     "nuid": "40627d98-f54f-425c-83b5-0907180f7035",
     "showTitle": false,
     "title": ""
    }
   },
   "source": [
    "### Parte 3 - Extração e Carregamento em Streaming (Kafka)"
   ]
  },
  {
   "cell_type": "markdown",
   "metadata": {
    "application/vnd.databricks.v1+cell": {
     "cellMetadata": {},
     "inputWidgets": {},
     "nuid": "8ee41d47-e399-4045-b477-781edb8aeeef",
     "showTitle": false,
     "title": ""
    }
   },
   "source": [
    "Instalando o Kafka"
   ]
  },
  {
   "cell_type": "code",
   "execution_count": 0,
   "metadata": {
    "application/vnd.databricks.v1+cell": {
     "cellMetadata": {
      "byteLimit": 2048000,
      "rowLimit": 10000
     },
     "inputWidgets": {},
     "nuid": "f58dce45-7416-4422-92ee-853c61c8534a",
     "showTitle": false,
     "title": ""
    }
   },
   "outputs": [
    {
     "output_type": "stream",
     "name": "stdout",
     "output_type": "stream",
     "text": [
      "--2023-10-04 22:23:39--  https://downloads.apache.org/kafka/3.5.1/kafka_2.12-3.5.1.tgz\nResolving downloads.apache.org (downloads.apache.org)... 88.99.95.219, 135.181.214.104, 2a01:4f9:3a:2c57::2, ...\nConnecting to downloads.apache.org (downloads.apache.org)|88.99.95.219|:443... connected.\nHTTP request sent, awaiting response... 200 OK\nLength: 106956505 (102M) [application/x-gzip]\nSaving to: ‘kafka_2.12-3.5.1.tgz’\n\n     0K .......... .......... .......... .......... ..........  0%  140K 12m23s\n    50K .......... .......... .......... .......... ..........  0%  226K 10m3s\n   100K .......... .......... .......... .......... ..........  0%  369K 8m16s\n   150K .......... .......... .......... .......... ..........  0% 1.13M 6m34s\n   200K .......... .......... .......... .......... ..........  0%  373K 6m11s\n   250K .......... .......... .......... .......... ..........  0% 17.6M 5m10s\n   300K .......... .......... .......... .......... ..........  0% 1.16M 4m38s\n   350K .......... .......... .......... .......... ..........  0%  158M 4m3s\n   400K .......... .......... .......... .......... ..........  0%  174M 3m36s\n   450K .......... .......... .......... .......... ..........  0%  377K 3m42s\n   500K .......... .......... .......... .......... ..........  0% 28.9M 3m22s\n   550K .......... .......... .......... .......... ..........  0% 1.18M 3m12s\n   600K .......... .......... .......... .......... ..........  0% 14.2M 2m58s\n   650K .......... .......... .......... .......... ..........  0%  100M 2m45s\n   700K .......... .......... .......... .......... ..........  0%  135M 2m34s\n   750K .......... .......... .......... .......... ..........  0% 88.8M 2m25s\n   800K .......... .......... .......... .......... ..........  0%  139M 2m16s\n   850K .......... .......... .......... .......... ..........  0%  135M 2m9s\n   900K .......... .......... .......... .......... ..........  0%  386K 2m16s\n   950K .......... .......... .......... .......... ..........  0% 37.5M 2m9s\n  1000K .......... .......... .......... .......... ..........  1% 37.1M 2m3s\n  1050K .......... .......... .......... .......... ..........  1% 45.3M 1m57s\n  1100K .......... .......... .......... .......... ..........  1% 43.1M 1m52s\n  1150K .......... .......... .......... .......... ..........  1% 1.28M 1m51s\n  1200K .......... .......... .......... .......... ..........  1%  109M 1m47s\n  1250K .......... .......... .......... .......... ..........  1% 94.9M 1m42s\n  1300K .......... .......... .......... .......... ..........  1%  147M 99s\n  1350K .......... .......... .......... .......... ..........  1%  131M 95s\n  1400K .......... .......... .......... .......... ..........  1%  110M 92s\n  1450K .......... .......... .......... .......... ..........  1% 83.0M 89s\n  1500K .......... .......... .......... .......... ..........  1%  124M 86s\n  1550K .......... .......... .......... .......... ..........  1%  147M 83s\n  1600K .......... .......... .......... .......... ..........  1% 73.3M 81s\n  1650K .......... .......... .......... .......... ..........  1%  172M 78s\n  1700K .......... .......... .......... .......... ..........  1%  139M 76s\n  1750K .......... .......... .......... .......... ..........  1%  109M 74s\n  1800K .......... .......... .......... .......... ..........  1%  386K 79s\n  1850K .......... .......... .......... .......... ..........  1% 48.3M 77s\n  1900K .......... .......... .......... .......... ..........  1% 86.0M 75s\n  1950K .......... .......... .......... .......... ..........  1% 45.5M 73s\n  2000K .......... .......... .......... .......... ..........  1% 11.7M 71s\n  2050K .......... .......... .......... .......... ..........  2%  119M 70s\n  2100K .......... .......... .......... .......... ..........  2%  102M 68s\n  2150K .......... .......... .......... .......... ..........  2%  143M 67s\n  2200K .......... .......... .......... .......... ..........  2% 86.1M 65s\n  2250K .......... .......... .......... .......... ..........  2% 39.3M 64s\n  2300K .......... .......... .......... .......... ..........  2% 1.20M 64s\n  2350K .......... .......... .......... .......... ..........  2% 13.7M 63s\n  2400K .......... .......... .......... .......... ..........  2% 50.1M 62s\n  2450K .......... .......... .......... .......... ..........  2%  167M 60s\n  2500K .......... .......... .......... .......... ..........  2%  164M 59s\n  2550K .......... .......... .......... .......... ..........  2% 37.3M 58s\n  2600K .......... .......... .......... .......... ..........  2%  125M 57s\n  2650K .......... .......... .......... .......... ..........  2%  229M 56s\n  2700K .......... .......... .......... .......... ..........  2%  216M 55s\n  2750K .......... .......... .......... .......... ..........  2%  264M 54s\n  2800K .......... .......... .......... .......... ..........  2% 91.7M 53s\n  2850K .......... .......... .......... .......... ..........  2%  175M 52s\n  2900K .......... .......... .......... .......... ..........  2%  233M 51s\n  2950K .......... .......... .......... .......... ..........  2%  227M 50s\n  3000K .......... .......... .......... .......... ..........  2% 33.0M 49s\n  3050K .......... .......... .......... .......... ..........  2%  198M 49s\n  3100K .......... .......... .......... .......... ..........  3%  261M 48s\n  3150K .......... .......... .......... .......... ..........  3%  236M 47s\n  3200K .......... .......... .......... .......... ..........  3%  163M 46s\n  3250K .......... .......... .......... .......... ..........  3%  220M 46s\n  3300K .......... .......... .......... .......... ..........  3%  226M 45s\n  3350K .......... .......... .......... .......... ..........  3%  431K 48s\n  3400K .......... .......... .......... .......... ..........  3% 14.1M 47s\n  3450K .......... .......... .......... .......... ..........  3%  155M 46s\n  3500K .......... .......... .......... .......... ..........  3%  216M 46s\n  3550K .......... .......... .......... .......... ..........  3% 43.0M 45s\n  3600K .......... .......... .......... .......... ..........  3% 16.0M 44s\n  3650K .......... .......... .......... .......... ..........  3% 43.8M 44s\n  3700K .......... .......... .......... .......... ..........  3% 36.1M 43s\n  3750K .......... .......... .......... .......... ..........  3% 26.5M 43s\n  3800K .......... .......... .......... .......... ..........  3%  101M 42s\n  3850K .......... .......... .......... .......... ..........  3% 1.62M 42s\n  3900K .......... .......... .......... .......... ..........  3%  142M 42s\n  3950K .......... .......... .......... .......... ..........  3% 32.5M 41s\n  4000K .......... .......... .......... .......... ..........  3% 35.5M 41s\n  4050K .......... .......... .......... .......... ..........  3% 49.8M 40s\n  4100K .......... .......... .......... .......... ..........  3% 2.87M 40s\n  4150K .......... .......... .......... .......... ..........  4% 39.5M 40s\n  4200K .......... .......... .......... .......... ..........  4% 34.7M 39s\n  4250K .......... .......... .......... .......... ..........  4% 71.4M 39s\n  4300K .......... .......... .......... .......... ..........  4% 28.4M 38s\n  4350K .......... .......... .......... .......... ..........  4%  224M 38s\n  4400K .......... .......... .......... .......... ..........  4%  217M 38s\n  4450K .......... .......... .......... .......... ..........  4%  216M 37s\n  4500K .......... .......... .......... .......... ..........  4%  219M 37s\n  4550K .......... .......... .......... .......... ..........  4%  260M 36s\n  4600K .......... .......... .......... .......... ..........  4%  199M 36s\n  4650K .......... .......... .......... .......... ..........  4% 6.81M 36s\n  4700K .......... .......... .......... .......... ..........  4%  259M 35s\n  4750K .......... .......... .......... .......... ..........  4%  206M 35s\n  4800K .......... .......... .......... .......... ..........  4%  210M 35s\n  4850K .......... .......... .......... .......... ..........  4%  194M 34s\n  4900K .......... .......... .......... .......... ..........  4%  193M 34s\n  4950K .......... .......... .......... .......... ..........  4%  198M 33s\n  5000K .......... .......... .......... .......... ..........  4%  503K 35s\n  5050K .......... .......... .......... .......... ..........  4% 74.3M 35s\n  5100K .......... .......... .......... .......... ..........  4% 29.5M 34s\n  5150K .......... .......... .......... .......... ..........  4% 67.9M 34s\n  5200K .......... .......... .......... .......... ..........  5% 19.3M 34s\n  5250K .......... .......... .......... .......... ..........  5% 21.8M 33s\n  5300K .......... .......... .......... .......... ..........  5% 36.3M 33s\n  5350K .......... .......... .......... .......... ..........  5% 65.4M 33s\n  5400K .......... .......... .......... .......... ..........  5% 46.7M 33s\n  5450K .......... .......... .......... .......... ..........  5% 26.8M 32s\n  5500K .......... .......... .......... .......... ..........  5% 62.5M 32s\n  5550K .......... .......... .......... .......... ..........  5% 1.59M 32s\n  5600K .......... .......... .......... .......... ..........  5% 87.5M 32s\n  5650K .......... .......... .......... .......... ..........  5% 96.4M 32s\n  5700K .......... .......... .......... .......... ..........  5%  138M 31s\n  5750K .......... .......... .......... .......... ..........  5%  132M 31s\n  5800K .......... .......... .......... .......... ..........  5% 20.5M 31s\n  5850K .......... .......... .......... .......... ..........  5%  119M 31s\n  5900K .......... .......... .......... .......... ..........  5%  165M 30s\n  5950K .......... .......... .......... .......... ..........  5%  151M 30s\n  6000K .......... .......... .......... .......... ..........  5% 73.5M 30s\n  6050K .......... .......... .......... .......... ..........  5%  156M 30s\n  6100K .......... .......... .......... .......... ..........  5% 81.0M 29s\n  6150K .......... .......... .......... .......... ..........  5%  164M 29s\n  6200K .......... .......... .......... .......... ..........  5% 68.6M 29s\n  6250K .......... .......... .......... .......... ..........  6%  130M 29s\n  6300K .......... .......... .......... .......... ..........  6%  137M 28s\n  6350K .......... .......... .......... .......... ..........  6%  127M 28s\n  6400K .......... .......... .......... .......... ..........  6% 85.8M 28s\n  6450K .......... .......... .......... .......... ..........  6%  149M 28s\n  6500K .......... .......... .......... .......... ..........  6%  117M 27s\n  6550K .......... .......... .......... .......... ..........  6% 78.2M 27s\n  6600K .......... .......... .......... .......... ..........  6%  119M 27s\n  6650K .......... .......... .......... .......... ..........  6% 24.2M 27s\n  6700K .......... .......... .......... .......... ..........  6% 47.5M 27s\n  6750K .......... .......... .......... .......... ..........  6%  116M 26s\n  6800K .......... .......... .......... .......... ..........  6%  414K 28s\n  6850K .......... .......... .......... .......... ..........  6%  117M 28s\n  6900K .......... .......... .......... .......... ..........  6% 9.23M 28s\n  6950K .......... .......... .......... .......... ..........  6%  168M 27s\n  7000K .......... .......... .......... .......... ..........  6% 64.8M 27s\n  7050K .......... .......... .......... .......... ..........  6%  113M 27s\n  7100K .......... .......... .......... .......... ..........  6% 31.3M 27s\n  7150K .......... .......... .......... .......... ..........  6% 38.6M 27s\n  7200K .......... .......... .......... .......... ..........  6% 11.1M 26s\n  7250K .......... .......... .......... .......... ..........  6% 1.83M 27s\n  7300K .......... .......... .......... .......... ..........  7% 29.5M 26s\n  7350K .......... .......... .......... .......... ..........  7%  153M 26s\n  7400K .......... .......... .......... .......... ..........  7% 92.9M 26s\n  7450K .......... .......... .......... .......... ..........  7%  129M 26s\n  7500K .......... .......... .......... .......... ..........  7% 78.3M 26s\n  7550K .......... .......... .......... .......... ..........  7% 29.8M 26s\n  7600K .......... .......... .......... .......... ..........  7% 6.25M 25s\n  7650K .......... .......... .......... .......... ..........  7% 89.0M 25s\n  7700K .......... .......... .......... .......... ..........  7%  156M 25s\n  7750K .......... .......... .......... .......... ..........  7%  153M 25s\n  7800K .......... .......... .......... .......... ..........  7% 40.5M 25s\n  7850K .......... .......... .......... .......... ..........  7% 32.4M 25s\n  7900K .......... .......... .......... .......... ..........  7%  170M 25s\n  7950K .......... .......... .......... .......... ..........  7%  172M 24s\n  8000K .......... .......... .......... .......... ..........  7%  144M 24s\n  8050K .......... .......... .......... .......... ..........  7% 32.7M 24s\n  8100K .......... .......... .......... .......... ..........  7%  168M 24s\n  8150K .......... .......... .......... .......... ..........  7%  172M 24s\n  8200K .......... .......... .......... .......... ..........  7% 31.4M 24s\n  8250K .......... .......... .......... .......... ..........  7%  157M 23s\n  8300K .......... .......... .......... .......... ..........  7%  161M 23s\n  8350K .......... .......... .......... .......... ..........  8%  172M 23s\n  8400K .......... .......... .......... .......... ..........  8% 12.9M 23s\n  8450K .......... .......... .......... .......... ..........  8%  161M 23s\n  8500K .......... .......... .......... .......... ..........  8%  165M 23s\n  8550K .......... .......... .......... .......... ..........  8% 15.5M 23s\n  8600K .......... .......... .......... .......... ..........  8%  471K 24s\n  8650K .......... .......... .......... .......... ..........  8% 43.3M 24s\n  8700K .......... .......... .......... .......... ..........  8% 11.7M 23s\n  8750K .......... .......... .......... .......... ..........  8%  136M 23s\n  8800K .......... .......... .......... .......... ..........  8% 46.6M 23s\n  8850K .......... .......... .......... .......... ..........  8% 4.73M 23s\n  8900K .......... .......... .......... .......... ..........  8%  132M 23s\n  8950K .......... .......... .......... .......... ..........  8%  169M 23s\n  9000K .......... .......... .......... .......... ..........  8%  152M 23s\n  9050K .......... .......... .......... .......... ..........  8%  177M 23s\n  9100K .......... .......... .......... .......... ..........  8% 1.91M 23s\n  9150K .......... .......... .......... .......... ..........  8% 67.3M 23s\n  9200K .......... .......... .......... .......... ..........  8% 20.1M 22s\n  9250K .......... .......... .......... .......... ..........  8% 5.53M 22s\n  9300K .......... .......... .......... .......... ..........  8% 13.4M 22s\n  9350K .......... .......... .......... .......... ..........  8% 16.3M 22s\n  9400K .......... .......... .......... .......... ..........  9% 15.6M 22s\n  9450K .......... .......... .......... .......... ..........  9% 17.2M 22s\n  9500K .......... .......... .......... .......... ..........  9% 16.8M 22s\n  9550K .......... .......... .......... .......... ..........  9% 16.6M 22s\n  9600K .......... .......... .......... .......... ..........  9% 9.30M 22s\n  9650K .......... .......... .......... .......... ..........  9% 17.5M 22s\n  9700K .......... .......... .......... .......... ..........  9% 19.8M 22s\n  9750K .......... .......... .......... .......... ..........  9% 18.2M 21s\n  9800K .......... .......... .......... .......... ..........  9% 8.32M 21s\n  9850K .......... .......... .......... .......... ..........  9% 17.2M 21s\n  9900K .......... .......... .......... .......... ..........  9% 22.0M 21s\n  9950K .......... .......... .......... .......... ..........  9% 22.9M 21s\n 10000K .......... .......... .......... .......... ..........  9% 25.0M 21s\n 10050K .......... .......... .......... .......... ..........  9% 79.3M 21s\n 10100K .......... .......... .......... .......... ..........  9%  130M 21s\n 10150K .......... .......... .......... .......... ..........  9%  165M 21s\n 10200K .......... .......... .......... .......... ..........  9%  112M 21s\n 10250K .......... .......... .......... .......... ..........  9%  165M 20s\n 10300K .......... .......... .......... .......... ..........  9%  164M 20s\n 10350K .......... .......... .......... .......... ..........  9%  165M 20s\n 10400K .......... .......... .......... .......... .......... 10%  132M 20s\n 10450K .......... .......... .......... .......... .......... 10%  678K 21s\n 10500K .......... .......... .......... .......... .......... 10% 49.5M 21s\n 10550K .......... .......... .......... .......... .......... 10% 15.8M 21s\n 10600K .......... .......... .......... .......... .......... 10% 36.1M 20s\n 10650K .......... .......... .......... .......... .......... 10% 61.5M 20s\n 10700K .......... .......... .......... .......... .......... 10% 23.7M 20s\n 10750K .......... .......... .......... .......... .......... 10% 66.4M 20s\n 10800K .......... .......... .......... .......... .......... 10% 26.3M 20s\n 10850K .......... .......... .......... .......... .......... 10% 32.9M 20s\n 10900K .......... .......... .......... .......... .......... 10% 52.6M 20s\n 10950K .......... .......... .......... .......... .......... 10% 1.64M 20s\n 11000K .......... .......... .......... .......... .......... 10% 61.7M 20s\n 11050K .......... .......... .......... .......... .......... 10%  157M 20s\n 11100K .......... .......... .......... .......... .......... 10% 52.0M 20s\n 11150K .......... .......... .......... .......... .......... 10%  140M 20s\n 11200K .......... .......... .......... .......... .......... 10%  134M 20s\n 11250K .......... .......... .......... .......... .......... 10% 33.6M 19s\n 11300K .......... .......... .......... .......... .......... 10%  165M 19s\n 11350K .......... .......... .......... .......... .......... 10% 58.6M 19s\n 11400K .......... .......... .......... .......... .......... 10%  141M 19s\n 11450K .......... .......... .......... .......... .......... 11% 17.2M 19s\n 11500K .......... .......... .......... .......... .......... 11%  110M 19s\n 11550K .......... .......... .......... .......... .......... 11% 31.8M 19s\n 11600K .......... .......... .......... .......... .......... 11%  135M 19s\n 11650K .......... .......... .......... .......... .......... 11% 31.9M 19s\n 11700K .......... .......... .......... .......... .......... 11% 66.0M 19s\n 11750K .......... .......... .......... .......... .......... 11% 33.0M 19s\n 11800K .......... .......... .......... .......... .......... 11% 31.2M 19s\n 11850K .......... .......... .......... .......... .......... 11%  170M 18s\n 11900K .......... .......... .......... .......... .......... 11% 28.3M 18s\n 11950K .......... .......... .......... .......... .......... 11% 83.7M 18s\n 12000K .......... .......... .......... .......... .......... 11% 30.9M 18s\n 12050K .......... .......... .......... .......... .......... 11% 24.9M 18s\n 12100K .......... .......... .......... .......... .......... 11% 11.8M 18s\n 12150K .......... .......... .......... .......... .......... 11%  459K 19s\n 12200K .......... .......... .......... .......... .......... 11% 57.5M 19s\n 12250K .......... .......... .......... .......... .......... 11%  181M 19s\n 12300K .......... .......... .......... .......... .......... 11%  168M 19s\n 12350K .......... .......... .......... .......... .......... 11%  178M 19s\n 12400K .......... .......... .......... .......... .......... 11%  110M 18s\n 12450K .......... .......... .......... .......... .......... 11% 31.3M 18s\n 12500K .......... .......... .......... .......... .......... 12% 37.0M 18s\n 12550K .......... .......... .......... .......... .......... 12% 51.2M 18s\n 12600K .......... .......... .......... .......... .......... 12% 28.2M 18s\n 12650K .......... .......... .......... .......... .......... 12% 43.7M 18s\n 12700K .......... .......... .......... .......... .......... 12% 32.6M 18s\n 12750K .......... .......... .......... .......... .......... 12%  106M 18s\n 12800K .......... .......... .......... .......... .......... 12% 27.8M 18s\n 12850K .......... .......... .......... .......... .......... 12% 8.65M 18s\n 12900K .......... .......... .......... .......... .......... 12% 1.94M 18s\n 12950K .......... .......... .......... .......... .......... 12% 37.5M 18s\n 13000K .......... .......... .......... .......... .......... 12% 26.4M 18s\n 13050K .......... .......... .......... .......... .......... 12% 39.8M 18s\n 13100K .......... .......... .......... .......... .......... 12% 55.3M 18s\n 13150K .......... .......... .......... .......... .......... 12%  148M 18s\n 13200K .......... .......... .......... .......... .......... 12%  136M 18s\n 13250K .......... .......... .......... .......... .......... 12% 17.2M 17s\n 13300K .......... .......... .......... .......... .......... 12%  119M 17s\n 13350K .......... .......... .......... .......... .......... 12%  162M 17s\n 13400K .......... .......... .......... .......... .......... 12% 70.4M 17s\n 13450K .......... .......... .......... .......... .......... 12%  163M 17s\n 13500K .......... .......... .......... .......... .......... 12%  149M 17s\n 13550K .......... .......... .......... .......... .......... 13% 40.3M 17s\n 13600K .......... .......... .......... .......... .......... 13%  141M 17s\n 13650K .......... .......... .......... .......... .......... 13%  149M 17s\n 13700K .......... .......... .......... .......... .......... 13%  139M 17s\n 13750K .......... .......... .......... .......... .......... 13% 94.0M 17s\n 13800K .......... .......... .......... .......... .......... 13%  110M 17s\n 13850K .......... .......... .......... .......... .......... 13%  149M 17s\n 13900K .......... .......... .......... .......... .......... 13% 52.3M 17s\n 13950K .......... .......... .......... .......... .......... 13% 9.76M 17s\n 14000K .......... .......... .......... .......... .......... 13% 9.34M 17s\n 14050K .......... .......... .......... .......... .......... 13%  472K 17s\n 14100K .......... .......... .......... .......... .......... 13%  119M 17s\n 14150K .......... .......... .......... .......... .......... 13% 15.2M 17s\n 14200K .......... .......... .......... .......... .......... 13%  138M 17s\n 14250K .......... .......... .......... .......... .......... 13%  157M 17s\n 14300K .......... .......... .......... .......... .......... 13%  174M 17s\n 14350K .......... .......... .......... .......... .......... 13%  208M 17s\n 14400K .......... .......... .......... .......... .......... 13% 13.0M 17s\n 14450K .......... .......... .......... .......... .......... 13% 40.8M 17s\n 14500K .......... .......... .......... .......... .......... 13% 35.3M 17s\n 14550K .......... .......... .......... .......... .......... 13%  172M 17s\n 14600K .......... .......... .......... .......... .......... 14% 31.2M 16s\n 14650K .......... .......... .......... .......... .......... 14% 26.1M 16s\n 14700K .......... .......... .......... .......... .......... 14% 33.7M 16s\n 14750K .......... .......... .......... .......... .......... 14% 47.6M 16s\n 14800K .......... .......... .......... .......... .......... 14% 10.7M 16s\n 14850K .......... .......... .......... .......... .......... 14% 1.86M 16s\n 14900K .......... .......... .......... .......... .......... 14% 77.1M 16s\n 14950K .......... .......... .......... .......... .......... 14% 21.1M 16s\n 15000K .......... .......... .......... .......... .......... 14% 52.6M 16s\n 15050K .......... .......... .......... .......... .......... 14%  155M 16s\n 15100K .......... .......... .......... .......... .......... 14% 82.5M 16s\n 15150K .......... .......... .......... .......... .......... 14% 40.1M 16s\n 15200K .......... .......... .......... .......... .......... 14% 36.2M 16s\n 15250K .......... .......... .......... .......... .......... 14% 52.7M 16s\n 15300K .......... .......... .......... .......... .......... 14%  145M 16s\n 15350K .......... .......... .......... .......... .......... 14% 39.6M 16s\n 15400K .......... .......... .......... .......... .......... 14% 51.9M 16s\n 15450K .......... .......... .......... .......... .......... 14% 6.51M 16s\n 15500K .......... .......... .......... .......... .......... 14%  148M 16s\n 15550K .......... .......... .......... .......... .......... 14% 21.5M 16s\n 15600K .......... .......... .......... .......... .......... 14% 24.0M 16s\n 15650K .......... .......... .......... .......... .......... 15%  160M 15s\n 15700K .......... .......... .......... .......... .......... 15% 31.4M 15s\n 15750K .......... .......... .......... .......... .......... 15%  147M 15s\n 15800K .......... .......... .......... .......... .......... 15%  145M 15s\n 15850K .......... .......... .......... .......... .......... 15% 14.4M 15s\n 15900K .......... .......... .......... ......\n\n*** WARNING: max output size exceeded, skipping output. ***\n\n. .......... .......... .......... .......... 84%  104M 1s\n 88100K .......... .......... .......... .......... .......... 84%  101M 1s\n 88150K .......... .......... .......... .......... .......... 84%  146M 1s\n 88200K .......... .......... .......... .......... .......... 84%  106M 1s\n 88250K .......... .......... .......... .......... .......... 84%  113M 1s\n 88300K .......... .......... .......... .......... .......... 84%  136M 1s\n 88350K .......... .......... .......... .......... .......... 84%  109M 1s\n 88400K .......... .......... .......... .......... .......... 84%  101M 1s\n 88450K .......... .......... .......... .......... .......... 84% 11.8M 1s\n 88500K .......... .......... .......... .......... .......... 84%  116M 1s\n 88550K .......... .......... .......... .......... .......... 84%  120M 1s\n 88600K .......... .......... .......... .......... .......... 84%  112M 1s\n 88650K .......... .......... .......... .......... .......... 84% 1.18M 1s\n 88700K .......... .......... .......... .......... .......... 84% 57.7M 1s\n 88750K .......... .......... .......... .......... .......... 85% 68.9M 1s\n 88800K .......... .......... .......... .......... .......... 85%  226M 1s\n 88850K .......... .......... .......... .......... .......... 85%  275M 1s\n 88900K .......... .......... .......... .......... .......... 85%  236M 1s\n 88950K .......... .......... .......... .......... .......... 85%  232M 1s\n 89000K .......... .......... .......... .......... .......... 85% 1.10M 1s\n 89050K .......... .......... .......... .......... .......... 85%  121M 1s\n 89100K .......... .......... .......... .......... .......... 85%  164M 1s\n 89150K .......... .......... .......... .......... .......... 85%  170M 1s\n 89200K .......... .......... .......... .......... .......... 85%  135M 1s\n 89250K .......... .......... .......... .......... .......... 85%  165M 1s\n 89300K .......... .......... .......... .......... .......... 85%  169M 1s\n 89350K .......... .......... .......... .......... .......... 85% 39.5M 1s\n 89400K .......... .......... .......... .......... .......... 85% 8.23M 1s\n 89450K .......... .......... .......... .......... .......... 85%  162M 1s\n 89500K .......... .......... .......... .......... .......... 85%  165M 1s\n 89550K .......... .......... .......... .......... .......... 85%  183M 1s\n 89600K .......... .......... .......... .......... .......... 85%  124M 1s\n 89650K .......... .......... .......... .......... .......... 85%  155M 1s\n 89700K .......... .......... .......... .......... .......... 85%  167M 1s\n 89750K .......... .......... .......... .......... .......... 85%  162M 1s\n 89800K .......... .......... .......... .......... .......... 86%  151M 1s\n 89850K .......... .......... .......... .......... .......... 86%  121M 1s\n 89900K .......... .......... .......... .......... .......... 86%  165M 1s\n 89950K .......... .......... .......... .......... .......... 86%  182M 1s\n 90000K .......... .......... .......... .......... .......... 86%  145M 1s\n 90050K .......... .......... .......... .......... .......... 86%  176M 1s\n 90100K .......... .......... .......... .......... .......... 86%  180M 1s\n 90150K .......... .......... .......... .......... .......... 86% 5.08M 1s\n 90200K .......... .......... .......... .......... .......... 86% 20.9M 1s\n 90250K .......... .......... .......... .......... .......... 86%  173M 1s\n 90300K .......... .......... .......... .......... .......... 86% 1.62M 1s\n 90350K .......... .......... .......... .......... .......... 86% 39.8M 1s\n 90400K .......... .......... .......... .......... .......... 86% 52.3M 1s\n 90450K .......... .......... .......... .......... .......... 86% 10.6M 1s\n 90500K .......... .......... .......... .......... .......... 86% 3.50M 1s\n 90550K .......... .......... .......... .......... .......... 86% 63.5M 1s\n 90600K .......... .......... .......... .......... .......... 86%  119M 1s\n 90650K .......... .......... .......... .......... .......... 86% 91.0M 1s\n 90700K .......... .......... .......... .......... .......... 86%  139M 1s\n 90750K .......... .......... .......... .......... .......... 86% 58.2M 1s\n 90800K .......... .......... .......... .......... .......... 86% 73.5M 1s\n 90850K .......... .......... .......... .......... .......... 87% 63.7M 1s\n 90900K .......... .......... .......... .......... .......... 87%  123M 1s\n 90950K .......... .......... .......... .......... .......... 87% 47.4M 1s\n 91000K .......... .......... .......... .......... .......... 87% 69.6M 1s\n 91050K .......... .......... .......... .......... .......... 87%  113M 1s\n 91100K .......... .......... .......... .......... .......... 87% 28.9M 1s\n 91150K .......... .......... .......... .......... .......... 87%  114M 1s\n 91200K .......... .......... .......... .......... .......... 87% 11.0M 1s\n 91250K .......... .......... .......... .......... .......... 87% 95.6M 1s\n 91300K .......... .......... .......... .......... .......... 87%  140M 1s\n 91350K .......... .......... .......... .......... .......... 87% 44.5M 1s\n 91400K .......... .......... .......... .......... .......... 87% 31.0M 1s\n 91450K .......... .......... .......... .......... .......... 87%  191M 1s\n 91500K .......... .......... .......... .......... .......... 87%  232M 1s\n 91550K .......... .......... .......... .......... .......... 87%  276M 1s\n 91600K .......... .......... .......... .......... .......... 87% 1.36M 1s\n 91650K .......... .......... .......... .......... .......... 87% 30.6M 1s\n 91700K .......... .......... .......... .......... .......... 87% 1.24M 1s\n 91750K .......... .......... .......... .......... .......... 87% 74.9M 1s\n 91800K .......... .......... .......... .......... .......... 87%  128M 1s\n 91850K .......... .......... .......... .......... .......... 87%  134M 1s\n 91900K .......... .......... .......... .......... .......... 88%  145M 1s\n 91950K .......... .......... .......... .......... .......... 88%  143M 1s\n 92000K .......... .......... .......... .......... .......... 88%  111M 1s\n 92050K .......... .......... .......... .......... .......... 88% 10.3M 1s\n 92100K .......... .......... .......... .......... .......... 88% 19.6M 1s\n 92150K .......... .......... .......... .......... .......... 88%  147M 1s\n 92200K .......... .......... .......... .......... .......... 88% 99.9M 1s\n 92250K .......... .......... .......... .......... .......... 88%  143M 1s\n 92300K .......... .......... .......... .......... .......... 88% 10.4M 1s\n 92350K .......... .......... .......... .......... .......... 88%  126M 1s\n 92400K .......... .......... .......... .......... .......... 88% 3.46M 1s\n 92450K .......... .......... .......... .......... .......... 88% 90.7M 1s\n 92500K .......... .......... .......... .......... .......... 88%  104M 1s\n 92550K .......... .......... .......... .......... .......... 88%  128M 1s\n 92600K .......... .......... .......... .......... .......... 88% 98.6M 1s\n 92650K .......... .......... .......... .......... .......... 88% 96.7M 1s\n 92700K .......... .......... .......... .......... .......... 88%  124M 1s\n 92750K .......... .......... .......... .......... .......... 88%  103M 1s\n 92800K .......... .......... .......... .......... .......... 88%  101M 1s\n 92850K .......... .......... .......... .......... .......... 88% 99.9M 1s\n 92900K .......... .......... .......... .......... .......... 88%  129M 1s\n 92950K .......... .......... .......... .......... .......... 89%  131M 1s\n 93000K .......... .......... .......... .......... .......... 89% 95.0M 1s\n 93050K .......... .......... .......... .......... .......... 89%  128M 1s\n 93100K .......... .......... .......... .......... .......... 89%  126M 1s\n 93150K .......... .......... .......... .......... .......... 89% 95.6M 1s\n 93200K .......... .......... .......... .......... .......... 89%  103M 1s\n 93250K .......... .......... .......... .......... .......... 89% 1.92M 1s\n 93300K .......... .......... .......... .......... .......... 89% 64.6M 1s\n 93350K .......... .......... .......... .......... .......... 89% 50.0M 1s\n 93400K .......... .......... .......... .......... .......... 89% 40.7M 1s\n 93450K .......... .......... .......... .......... .......... 89% 2.84M 1s\n 93500K .......... .......... .......... .......... .......... 89% 25.4M 1s\n 93550K .......... .......... .......... .......... .......... 89% 16.9M 1s\n 93600K .......... .......... .......... .......... .......... 89% 94.9M 1s\n 93650K .......... .......... .......... .......... .......... 89% 49.4M 1s\n 93700K .......... .......... .......... .......... .......... 89% 68.4M 1s\n 93750K .......... .......... .......... .......... .......... 89% 49.6M 1s\n 93800K .......... .......... .......... .......... .......... 89% 15.1M 1s\n 93850K .......... .......... .......... .......... .......... 89%  157M 1s\n 93900K .......... .......... .......... .......... .......... 89%  170M 1s\n 93950K .......... .......... .......... .......... .......... 89%  128M 1s\n 94000K .......... .......... .......... .......... .......... 90% 13.8M 1s\n 94050K .......... .......... .......... .......... .......... 90%  165M 1s\n 94100K .......... .......... .......... .......... .......... 90%  165M 1s\n 94150K .......... .......... .......... .......... .......... 90% 21.5M 1s\n 94200K .......... .......... .......... .......... .......... 90% 26.2M 1s\n 94250K .......... .......... .......... .......... .......... 90% 17.6M 1s\n 94300K .......... .......... .......... .......... .......... 90%  165M 1s\n 94350K .......... .......... .......... .......... .......... 90%  170M 1s\n 94400K .......... .......... .......... .......... .......... 90% 1.55M 1s\n 94450K .......... .......... .......... .......... .......... 90% 24.3M 1s\n 94500K .......... .......... .......... .......... .......... 90% 90.2M 1s\n 94550K .......... .......... .......... .......... .......... 90%  129M 1s\n 94600K .......... .......... .......... .......... .......... 90% 76.6M 1s\n 94650K .......... .......... .......... .......... .......... 90% 73.0M 1s\n 94700K .......... .......... .......... .......... .......... 90%  105M 1s\n 94750K .......... .......... .......... .......... .......... 90% 1.34M 1s\n 94800K .......... .......... .......... .......... .......... 90% 34.7M 1s\n 94850K .......... .......... .......... .......... .......... 90% 19.9M 1s\n 94900K .......... .......... .......... .......... .......... 90%  148M 1s\n 94950K .......... .......... .......... .......... .......... 90%  158M 1s\n 95000K .......... .......... .......... .......... .......... 91%  133M 1s\n 95050K .......... .......... .......... .......... .......... 91% 23.8M 1s\n 95100K .......... .......... .......... .......... .......... 91% 27.6M 1s\n 95150K .......... .......... .......... .......... .......... 91% 26.3M 1s\n 95200K .......... .......... .......... .......... .......... 91%  100M 1s\n 95250K .......... .......... .......... .......... .......... 91%  128M 1s\n 95300K .......... .......... .......... .......... .......... 91% 12.4M 1s\n 95350K .......... .......... .......... .......... .......... 91% 3.67M 1s\n 95400K .......... .......... .......... .......... .......... 91% 78.1M 1s\n 95450K .......... .......... .......... .......... .......... 91% 31.2M 1s\n 95500K .......... .......... .......... .......... .......... 91%  164M 1s\n 95550K .......... .......... .......... .......... .......... 91% 35.3M 1s\n 95600K .......... .......... .......... .......... .......... 91% 43.2M 1s\n 95650K .......... .......... .......... .......... .......... 91%  136M 1s\n 95700K .......... .......... .......... .......... .......... 91% 16.0M 1s\n 95750K .......... .......... .......... .......... .......... 91% 12.5M 1s\n 95800K .......... .......... .......... .......... .......... 91% 98.3M 1s\n 95850K .......... .......... .......... .......... .......... 91% 60.4M 1s\n 95900K .......... .......... .......... .......... .......... 91% 51.5M 1s\n 95950K .......... .......... .......... .......... .......... 91% 50.9M 1s\n 96000K .......... .......... .......... .......... .......... 91% 26.8M 1s\n 96050K .......... .......... .......... .......... .......... 92%  141M 1s\n 96100K .......... .......... .......... .......... .......... 92% 37.1M 1s\n 96150K .......... .......... .......... .......... .......... 92%  149M 1s\n 96200K .......... .......... .......... .......... .......... 92% 81.9M 1s\n 96250K .......... .......... .......... .......... .......... 92% 3.60M 1s\n 96300K .......... .......... .......... .......... .......... 92% 31.7M 1s\n 96350K .......... .......... .......... .......... .......... 92% 57.0M 1s\n 96400K .......... .......... .......... .......... .......... 92%  151M 1s\n 96450K .......... .......... .......... .......... .......... 92% 14.3M 1s\n 96500K .......... .......... .......... .......... .......... 92% 3.06M 1s\n 96550K .......... .......... .......... .......... .......... 92% 15.5M 1s\n 96600K .......... .......... .......... .......... .......... 92% 26.9M 1s\n 96650K .......... .......... .......... .......... .......... 92%  146M 1s\n 96700K .......... .......... .......... .......... .......... 92% 12.4M 1s\n 96750K .......... .......... .......... .......... .......... 92% 7.36M 1s\n 96800K .......... .......... .......... .......... .......... 92% 26.9M 1s\n 96850K .......... .......... .......... .......... .......... 92% 17.3M 1s\n 96900K .......... .......... .......... .......... .......... 92%  163M 1s\n 96950K .......... .......... .......... .......... .......... 92%  126M 1s\n 97000K .......... .......... .......... .......... .......... 92%  151M 1s\n 97050K .......... .......... .......... .......... .......... 92%  109M 1s\n 97100K .......... .......... .......... .......... .......... 93%  131M 1s\n 97150K .......... .......... .......... .......... .......... 93%  171M 1s\n 97200K .......... .......... .......... .......... .......... 93% 1.62M 1s\n 97250K .......... .......... .......... .......... .......... 93% 21.1M 1s\n 97300K .......... .......... .......... .......... .......... 93% 26.7M 1s\n 97350K .......... .......... .......... .......... .......... 93%  140M 1s\n 97400K .......... .......... .......... .......... .......... 93%  153M 1s\n 97450K .......... .......... .......... .......... .......... 93%  172M 1s\n 97500K .......... .......... .......... .......... .......... 93% 1.34M 1s\n 97550K .......... .......... .......... .......... .......... 93% 24.3M 1s\n 97600K .......... .......... .......... .......... .......... 93%  138M 1s\n 97650K .......... .......... .......... .......... .......... 93%  122M 1s\n 97700K .......... .......... .......... .......... .......... 93%  165M 1s\n 97750K .......... .......... .......... .......... .......... 93%  133M 1s\n 97800K .......... .......... .......... .......... .......... 93%  148M 1s\n 97850K .......... .......... .......... .......... .......... 93% 20.1M 1s\n 97900K .......... .......... .......... .......... .......... 93% 17.8M 1s\n 97950K .......... .......... .......... .......... .......... 93% 51.4M 1s\n 98000K .......... .......... .......... .......... .......... 93% 78.2M 1s\n 98050K .......... .......... .......... .......... .......... 93%  121M 1s\n 98100K .......... .......... .......... .......... .......... 93%  165M 1s\n 98150K .......... .......... .......... .......... .......... 94%  169M 1s\n 98200K .......... .......... .......... .......... .......... 94% 10.3M 1s\n 98250K .......... .......... .......... .......... .......... 94% 90.9M 1s\n 98300K .......... .......... .......... .......... .......... 94% 4.20M 1s\n 98350K .......... .......... .......... .......... .......... 94% 94.5M 1s\n 98400K .......... .......... .......... .......... .......... 94% 45.6M 1s\n 98450K .......... .......... .......... .......... .......... 94% 15.1M 1s\n 98500K .......... .......... .......... .......... .......... 94%  103M 1s\n 98550K .......... .......... .......... .......... .......... 94%  160M 0s\n 98600K .......... .......... .......... .......... .......... 94% 24.2M 0s\n 98650K .......... .......... .......... .......... .......... 94%  127M 0s\n 98700K .......... .......... .......... .......... .......... 94% 61.9M 0s\n 98750K .......... .......... .......... .......... .......... 94% 2.04M 0s\n 98800K .......... .......... .......... .......... .......... 94%  106M 0s\n 98850K .......... .......... .......... .......... .......... 94% 71.9M 0s\n 98900K .......... .......... .......... .......... .......... 94%  144M 0s\n 98950K .......... .......... .......... .......... .......... 94%  109M 0s\n 99000K .......... .......... .......... .......... .......... 94%  105M 0s\n 99050K .......... .......... .......... .......... .......... 94%  151M 0s\n 99100K .......... .......... .......... .......... .......... 94% 85.7M 0s\n 99150K .......... .......... .......... .......... .......... 94%  142M 0s\n 99200K .......... .......... .......... .......... .......... 95% 89.9M 0s\n 99250K .......... .......... .......... .......... .......... 95%  123M 0s\n 99300K .......... .......... .......... .......... .......... 95%  144M 0s\n 99350K .......... .......... .......... .......... .......... 95%  121M 0s\n 99400K .......... .......... .......... .......... .......... 95% 35.3M 0s\n 99450K .......... .......... .......... .......... .......... 95% 3.44M 0s\n 99500K .......... .......... .......... .......... .......... 95% 23.1M 0s\n 99550K .......... .......... .......... .......... .......... 95%  140M 0s\n 99600K .......... .......... .......... .......... .......... 95% 16.4M 0s\n 99650K .......... .......... .......... .......... .......... 95% 9.47M 0s\n 99700K .......... .......... .......... .......... .......... 95% 6.26M 0s\n 99750K .......... .......... .......... .......... .......... 95%  183M 0s\n 99800K .......... .......... .......... .......... .......... 95%  136M 0s\n 99850K .......... .......... .......... .......... .......... 95% 1.38M 0s\n 99900K .......... .......... .......... .......... .......... 95% 63.1M 0s\n 99950K .......... .......... .......... .......... .......... 95%  146M 0s\n100000K .......... .......... .......... .......... .......... 95% 87.1M 0s\n100050K .......... .......... .......... .......... .......... 95%  137M 0s\n100100K .......... .......... .......... .......... .......... 95%  124M 0s\n100150K .......... .......... .......... .......... .......... 95%  102M 0s\n100200K .......... .......... .......... .......... .......... 95%  130M 0s\n100250K .......... .......... .......... .......... .......... 96%  157M 0s\n100300K .......... .......... .......... .......... .......... 96% 1.28M 0s\n100350K .......... .......... .......... .......... .......... 96% 66.3M 0s\n100400K .......... .......... .......... .......... .......... 96%  114M 0s\n100450K .......... .......... .......... .......... .......... 96%  128M 0s\n100500K .......... .......... .......... .......... .......... 96%  112M 0s\n100550K .......... .......... .......... .......... .......... 96% 4.26M 0s\n100600K .......... .......... .......... .......... .......... 96% 67.0M 0s\n100650K .......... .......... .......... .......... .......... 96%  119M 0s\n100700K .......... .......... .......... .......... .......... 96% 49.9M 0s\n100750K .......... .......... .......... .......... .......... 96%  117M 0s\n100800K .......... .......... .......... .......... .......... 96%  118M 0s\n100850K .......... .......... .......... .......... .......... 96%  110M 0s\n100900K .......... .......... .......... .......... .......... 96%  120M 0s\n100950K .......... .......... .......... .......... .......... 96%  222M 0s\n101000K .......... .......... .......... .......... .......... 96%  213M 0s\n101050K .......... .......... .......... .......... .......... 96%  230M 0s\n101100K .......... .......... .......... .......... .......... 96% 17.3M 0s\n101150K .......... .......... .......... .......... .......... 96%  175M 0s\n101200K .......... .......... .......... .......... .......... 96%  111M 0s\n101250K .......... .......... .......... .......... .......... 96% 5.39M 0s\n101300K .......... .......... .......... .......... .......... 97%  139M 0s\n101350K .......... .......... .......... .......... .......... 97% 44.3M 0s\n101400K .......... .......... .......... .......... .......... 97%  108M 0s\n101450K .......... .......... .......... .......... .......... 97%  168M 0s\n101500K .......... .......... .......... .......... .......... 97% 11.6M 0s\n101550K .......... .......... .......... .......... .......... 97%  156M 0s\n101600K .......... .......... .......... .......... .......... 97%  149M 0s\n101650K .......... .......... .......... .......... .......... 97% 2.05M 0s\n101700K .......... .......... .......... .......... .......... 97%  128M 0s\n101750K .......... .......... .......... .......... .......... 97% 9.80M 0s\n101800K .......... .......... .......... .......... .......... 97% 15.3M 0s\n101850K .......... .......... .......... .......... .......... 97%  134M 0s\n101900K .......... .......... .......... .......... .......... 97%  148M 0s\n101950K .......... .......... .......... .......... .......... 97%  147M 0s\n102000K .......... .......... .......... .......... .......... 97%  120M 0s\n102050K .......... .......... .......... .......... .......... 97%  178M 0s\n102100K .......... .......... .......... .......... .......... 97% 33.5M 0s\n102150K .......... .......... .......... .......... .......... 97%  172M 0s\n102200K .......... .......... .......... .......... .......... 97% 23.3M 0s\n102250K .......... .......... .......... .......... .......... 97% 55.8M 0s\n102300K .......... .......... .......... .......... .......... 97% 53.2M 0s\n102350K .......... .......... .......... .......... .......... 98%  169M 0s\n102400K .......... .......... .......... .......... .......... 98% 32.1M 0s\n102450K .......... .......... .......... .......... .......... 98% 17.9M 0s\n102500K .......... .......... .......... .......... .......... 98% 19.9M 0s\n102550K .......... .......... .......... .......... .......... 98% 16.3M 0s\n102600K .......... .......... .......... .......... .......... 98% 45.0M 0s\n102650K .......... .......... .......... .......... .......... 98%  117M 0s\n102700K .......... .......... .......... .......... .......... 98% 11.5M 0s\n102750K .......... .......... .......... .......... .......... 98% 5.81M 0s\n102800K .......... .......... .......... .......... .......... 98% 1.36M 0s\n102850K .......... .......... .......... .......... .......... 98%  116M 0s\n102900K .......... .......... .......... .......... .......... 98% 21.9M 0s\n102950K .......... .......... .......... .......... .......... 98%  166M 0s\n103000K .......... .......... .......... .......... .......... 98% 99.4M 0s\n103050K .......... .......... .......... .......... .......... 98%  170M 0s\n103100K .......... .......... .......... .......... .......... 98%  171M 0s\n103150K .......... .......... .......... .......... .......... 98% 1.27M 0s\n103200K .......... .......... .......... .......... .......... 98%  134M 0s\n103250K .......... .......... .......... .......... .......... 98%  172M 0s\n103300K .......... .......... .......... .......... .......... 98% 81.8M 0s\n103350K .......... .......... .......... .......... .......... 98% 3.76M 0s\n103400K .......... .......... .......... .......... .......... 99% 22.2M 0s\n103450K .......... .......... .......... .......... .......... 99%  139M 0s\n103500K .......... .......... .......... .......... .......... 99%  158M 0s\n103550K .......... .......... .......... .......... .......... 99%  189M 0s\n103600K .......... .......... .......... .......... .......... 99%  137M 0s\n103650K .......... .......... .......... .......... .......... 99%  123M 0s\n103700K .......... .......... .......... .......... .......... 99%  188M 0s\n103750K .......... .......... .......... .......... .......... 99%  188M 0s\n103800K .......... .......... .......... .......... .......... 99%  163M 0s\n103850K .......... .......... .......... .......... .......... 99% 4.05M 0s\n103900K .......... .......... .......... .......... .......... 99% 46.7M 0s\n103950K .......... .......... .......... .......... .......... 99%  180M 0s\n104000K .......... .......... .......... .......... .......... 99%  155M 0s\n104050K .......... .......... .......... .......... .......... 99%  116M 0s\n104100K .......... .......... .......... .......... .......... 99% 56.4M 0s\n104150K .......... .......... .......... .......... .......... 99%  148M 0s\n104200K .......... .......... .......... .......... .......... 99%  167M 0s\n104250K .......... .......... .......... .......... .......... 99%  190M 0s\n104300K .......... .......... .......... .......... .......... 99% 44.0M 0s\n104350K .......... .......... .......... .......... .......... 99% 55.3M 0s\n104400K .......... .......... .......... .......... ......... 100%  141M=8.8s\n\n2023-10-04 22:23:48 (11.6 MB/s) - ‘kafka_2.12-3.5.1.tgz’ saved [106956505/106956505]\n\n"
     ]
    }
   ],
   "source": [
    "%sh\n",
    "sudo wget https://downloads.apache.org/kafka/3.5.1/kafka_2.12-3.5.1.tgz"
   ]
  },
  {
   "cell_type": "code",
   "execution_count": 0,
   "metadata": {
    "application/vnd.databricks.v1+cell": {
     "cellMetadata": {
      "byteLimit": 2048000,
      "rowLimit": 10000
     },
     "inputWidgets": {},
     "nuid": "daa1c4c1-47ac-4640-91f0-b190a071328b",
     "showTitle": false,
     "title": ""
    }
   },
   "outputs": [
    {
     "output_type": "stream",
     "name": "stdout",
     "output_type": "stream",
     "text": [
      "kafka_2.12-3.5.1/\nkafka_2.12-3.5.1/LICENSE\nkafka_2.12-3.5.1/NOTICE\nkafka_2.12-3.5.1/bin/\nkafka_2.12-3.5.1/bin/connect-distributed.sh\nkafka_2.12-3.5.1/bin/connect-mirror-maker.sh\nkafka_2.12-3.5.1/bin/connect-standalone.sh\nkafka_2.12-3.5.1/bin/kafka-acls.sh\nkafka_2.12-3.5.1/bin/kafka-broker-api-versions.sh\nkafka_2.12-3.5.1/bin/kafka-cluster.sh\nkafka_2.12-3.5.1/bin/kafka-configs.sh\nkafka_2.12-3.5.1/bin/kafka-console-consumer.sh\nkafka_2.12-3.5.1/bin/kafka-console-producer.sh\nkafka_2.12-3.5.1/bin/kafka-consumer-groups.sh\nkafka_2.12-3.5.1/bin/kafka-consumer-perf-test.sh\nkafka_2.12-3.5.1/bin/kafka-delegation-tokens.sh\nkafka_2.12-3.5.1/bin/kafka-delete-records.sh\nkafka_2.12-3.5.1/bin/kafka-dump-log.sh\nkafka_2.12-3.5.1/bin/kafka-e2e-latency.sh\nkafka_2.12-3.5.1/bin/kafka-features.sh\nkafka_2.12-3.5.1/bin/kafka-get-offsets.sh\nkafka_2.12-3.5.1/bin/kafka-jmx.sh\nkafka_2.12-3.5.1/bin/kafka-leader-election.sh\nkafka_2.12-3.5.1/bin/kafka-log-dirs.sh\nkafka_2.12-3.5.1/bin/kafka-metadata-quorum.sh\nkafka_2.12-3.5.1/bin/kafka-metadata-shell.sh\nkafka_2.12-3.5.1/bin/kafka-mirror-maker.sh\nkafka_2.12-3.5.1/bin/kafka-producer-perf-test.sh\nkafka_2.12-3.5.1/bin/kafka-reassign-partitions.sh\nkafka_2.12-3.5.1/bin/kafka-replica-verification.sh\nkafka_2.12-3.5.1/bin/kafka-run-class.sh\nkafka_2.12-3.5.1/bin/kafka-server-start.sh\nkafka_2.12-3.5.1/bin/kafka-server-stop.sh\nkafka_2.12-3.5.1/bin/kafka-storage.sh\nkafka_2.12-3.5.1/bin/kafka-streams-application-reset.sh\nkafka_2.12-3.5.1/bin/kafka-topics.sh\nkafka_2.12-3.5.1/bin/kafka-transactions.sh\nkafka_2.12-3.5.1/bin/kafka-verifiable-consumer.sh\nkafka_2.12-3.5.1/bin/kafka-verifiable-producer.sh\nkafka_2.12-3.5.1/bin/trogdor.sh\nkafka_2.12-3.5.1/bin/windows/\nkafka_2.12-3.5.1/bin/windows/connect-distributed.bat\nkafka_2.12-3.5.1/bin/windows/connect-standalone.bat\nkafka_2.12-3.5.1/bin/windows/kafka-acls.bat\nkafka_2.12-3.5.1/bin/windows/kafka-broker-api-versions.bat\nkafka_2.12-3.5.1/bin/windows/kafka-cluster.bat\nkafka_2.12-3.5.1/bin/windows/kafka-configs.bat\nkafka_2.12-3.5.1/bin/windows/kafka-console-consumer.bat\nkafka_2.12-3.5.1/bin/windows/kafka-console-producer.bat\nkafka_2.12-3.5.1/bin/windows/kafka-consumer-groups.bat\nkafka_2.12-3.5.1/bin/windows/kafka-consumer-perf-test.bat\nkafka_2.12-3.5.1/bin/windows/kafka-delegation-tokens.bat\nkafka_2.12-3.5.1/bin/windows/kafka-delete-records.bat\nkafka_2.12-3.5.1/bin/windows/kafka-dump-log.bat\nkafka_2.12-3.5.1/bin/windows/kafka-e2e-latency.bat\nkafka_2.12-3.5.1/bin/windows/kafka-get-offsets.bat\nkafka_2.12-3.5.1/bin/windows/kafka-jmx.bat\nkafka_2.12-3.5.1/bin/windows/kafka-leader-election.bat\nkafka_2.12-3.5.1/bin/windows/kafka-log-dirs.bat\nkafka_2.12-3.5.1/bin/windows/kafka-metadata-quorum.bat\nkafka_2.12-3.5.1/bin/windows/kafka-mirror-maker.bat\nkafka_2.12-3.5.1/bin/windows/kafka-producer-perf-test.bat\nkafka_2.12-3.5.1/bin/windows/kafka-reassign-partitions.bat\nkafka_2.12-3.5.1/bin/windows/kafka-replica-verification.bat\nkafka_2.12-3.5.1/bin/windows/kafka-run-class.bat\nkafka_2.12-3.5.1/bin/windows/kafka-server-start.bat\nkafka_2.12-3.5.1/bin/windows/kafka-server-stop.bat\nkafka_2.12-3.5.1/bin/windows/kafka-storage.bat\nkafka_2.12-3.5.1/bin/windows/kafka-streams-application-reset.bat\nkafka_2.12-3.5.1/bin/windows/kafka-topics.bat\nkafka_2.12-3.5.1/bin/windows/kafka-transactions.bat\nkafka_2.12-3.5.1/bin/windows/zookeeper-server-start.bat\nkafka_2.12-3.5.1/bin/windows/zookeeper-server-stop.bat\nkafka_2.12-3.5.1/bin/windows/zookeeper-shell.bat\nkafka_2.12-3.5.1/bin/zookeeper-security-migration.sh\nkafka_2.12-3.5.1/bin/zookeeper-server-start.sh\nkafka_2.12-3.5.1/bin/zookeeper-server-stop.sh\nkafka_2.12-3.5.1/bin/zookeeper-shell.sh\nkafka_2.12-3.5.1/config/\nkafka_2.12-3.5.1/config/connect-console-sink.properties\nkafka_2.12-3.5.1/config/connect-console-source.properties\nkafka_2.12-3.5.1/config/connect-distributed.properties\nkafka_2.12-3.5.1/config/connect-file-sink.properties\nkafka_2.12-3.5.1/config/connect-file-source.properties\nkafka_2.12-3.5.1/config/connect-log4j.properties\nkafka_2.12-3.5.1/config/connect-mirror-maker.properties\nkafka_2.12-3.5.1/config/connect-standalone.properties\nkafka_2.12-3.5.1/config/consumer.properties\nkafka_2.12-3.5.1/config/kraft/\nkafka_2.12-3.5.1/config/kraft/broker.properties\nkafka_2.12-3.5.1/config/kraft/controller.properties\nkafka_2.12-3.5.1/config/kraft/server.properties\nkafka_2.12-3.5.1/config/log4j.properties\nkafka_2.12-3.5.1/config/producer.properties\nkafka_2.12-3.5.1/config/server.properties\nkafka_2.12-3.5.1/config/tools-log4j.properties\nkafka_2.12-3.5.1/config/trogdor.conf\nkafka_2.12-3.5.1/config/zookeeper.properties\nkafka_2.12-3.5.1/licenses/\nkafka_2.12-3.5.1/licenses/CDDL+GPL-1.1\nkafka_2.12-3.5.1/licenses/DWTFYWTPL\nkafka_2.12-3.5.1/licenses/argparse-MIT\nkafka_2.12-3.5.1/licenses/eclipse-distribution-license-1.0\nkafka_2.12-3.5.1/licenses/eclipse-public-license-2.0\nkafka_2.12-3.5.1/licenses/jline-BSD-3-clause\nkafka_2.12-3.5.1/licenses/jopt-simple-MIT\nkafka_2.12-3.5.1/licenses/paranamer-BSD-3-clause\nkafka_2.12-3.5.1/licenses/slf4j-MIT\nkafka_2.12-3.5.1/licenses/zstd-jni-BSD-2-clause\nkafka_2.12-3.5.1/libs/\nkafka_2.12-3.5.1/libs/kafka-group-coordinator-3.5.1.jar\nkafka_2.12-3.5.1/libs/kafka-metadata-3.5.1.jar\nkafka_2.12-3.5.1/libs/kafka-raft-3.5.1.jar\nkafka_2.12-3.5.1/libs/kafka-storage-3.5.1.jar\nkafka_2.12-3.5.1/libs/kafka-server-common-3.5.1.jar\nkafka_2.12-3.5.1/libs/kafka-storage-api-3.5.1.jar\nkafka_2.12-3.5.1/libs/kafka-tools-api-3.5.1.jar\nkafka_2.12-3.5.1/libs/kafka-clients-3.5.1.jar\nkafka_2.12-3.5.1/libs/jackson-dataformat-csv-2.13.5.jar\nkafka_2.12-3.5.1/libs/jackson-datatype-jdk8-2.13.5.jar\nkafka_2.12-3.5.1/libs/jackson-databind-2.13.5.jar\nkafka_2.12-3.5.1/libs/jackson-annotations-2.13.5.jar\nkafka_2.12-3.5.1/libs/jackson-core-2.13.5.jar\nkafka_2.12-3.5.1/libs/jackson-module-scala_2.12-2.13.5.jar\nkafka_2.12-3.5.1/libs/scala-collection-compat_2.12-2.10.0.jar\nkafka_2.12-3.5.1/libs/scala-java8-compat_2.12-1.0.2.jar\nkafka_2.12-3.5.1/libs/scala-logging_2.12-3.9.4.jar\nkafka_2.12-3.5.1/libs/scala-reflect-2.12.15.jar\nkafka_2.12-3.5.1/libs/scala-library-2.12.15.jar\nkafka_2.12-3.5.1/libs/argparse4j-0.7.0.jar\nkafka_2.12-3.5.1/libs/jopt-simple-5.0.4.jar\nkafka_2.12-3.5.1/libs/jose4j-0.9.3.jar\nkafka_2.12-3.5.1/libs/metrics-core-2.2.0.jar\nkafka_2.12-3.5.1/libs/metrics-core-4.1.12.1.jar\nkafka_2.12-3.5.1/libs/zookeeper-3.6.4.jar\nkafka_2.12-3.5.1/libs/slf4j-api-1.7.36.jar\nkafka_2.12-3.5.1/libs/commons-cli-1.4.jar\nkafka_2.12-3.5.1/libs/paranamer-2.8.jar\nkafka_2.12-3.5.1/libs/zookeeper-jute-3.6.4.jar\nkafka_2.12-3.5.1/libs/audience-annotations-0.13.0.jar\nkafka_2.12-3.5.1/libs/netty-handler-4.1.94.Final.jar\nkafka_2.12-3.5.1/libs/netty-transport-native-epoll-4.1.94.Final.jar\nkafka_2.12-3.5.1/libs/netty-transport-classes-epoll-4.1.94.Final.jar\nkafka_2.12-3.5.1/libs/netty-transport-native-unix-common-4.1.94.Final.jar\nkafka_2.12-3.5.1/libs/netty-codec-4.1.94.Final.jar\nkafka_2.12-3.5.1/libs/netty-transport-4.1.94.Final.jar\nkafka_2.12-3.5.1/libs/netty-resolver-4.1.94.Final.jar\nkafka_2.12-3.5.1/libs/netty-buffer-4.1.94.Final.jar\nkafka_2.12-3.5.1/libs/netty-common-4.1.94.Final.jar\nkafka_2.12-3.5.1/libs/zstd-jni-1.5.5-1.jar\nkafka_2.12-3.5.1/libs/lz4-java-1.8.0.jar\nkafka_2.12-3.5.1/libs/snappy-java-1.1.10.1.jar\nkafka_2.12-3.5.1/libs/kafka_2.12-3.5.1.jar\nkafka_2.12-3.5.1/site-docs/\nkafka_2.12-3.5.1/site-docs/kafka_2.12-3.5.1-site-docs.tgz\nkafka_2.12-3.5.1/libs/kafka-tools-3.5.1.jar\nkafka_2.12-3.5.1/libs/kafka-log4j-appender-3.5.1.jar\nkafka_2.12-3.5.1/libs/jackson-jaxrs-json-provider-2.13.5.jar\nkafka_2.12-3.5.1/libs/jackson-module-jaxb-annotations-2.13.5.jar\nkafka_2.12-3.5.1/libs/jackson-jaxrs-base-2.13.5.jar\nkafka_2.12-3.5.1/libs/slf4j-reload4j-1.7.36.jar\nkafka_2.12-3.5.1/libs/reload4j-1.2.25.jar\nkafka_2.12-3.5.1/libs/jakarta.xml.bind-api-2.3.3.jar\nkafka_2.12-3.5.1/libs/jakarta.activation-api-1.2.2.jar\nkafka_2.12-3.5.1/libs/trogdor-3.5.1.jar\nkafka_2.12-3.5.1/libs/jersey-container-servlet-2.39.1.jar\nkafka_2.12-3.5.1/libs/jersey-hk2-2.39.1.jar\nkafka_2.12-3.5.1/libs/jaxb-api-2.3.1.jar\nkafka_2.12-3.5.1/libs/activation-1.1.1.jar\nkafka_2.12-3.5.1/libs/jetty-servlet-9.4.51.v20230217.jar\nkafka_2.12-3.5.1/libs/jetty-security-9.4.51.v20230217.jar\nkafka_2.12-3.5.1/libs/jetty-server-9.4.51.v20230217.jar\nkafka_2.12-3.5.1/libs/jetty-servlets-9.4.51.v20230217.jar\nkafka_2.12-3.5.1/libs/jersey-container-servlet-core-2.39.1.jar\nkafka_2.12-3.5.1/libs/jersey-server-2.39.1.jar\nkafka_2.12-3.5.1/libs/jersey-client-2.39.1.jar\nkafka_2.12-3.5.1/libs/jersey-common-2.39.1.jar\nkafka_2.12-3.5.1/libs/hk2-locator-2.6.1.jar\nkafka_2.12-3.5.1/libs/hk2-api-2.6.1.jar\nkafka_2.12-3.5.1/libs/hk2-utils-2.6.1.jar\nkafka_2.12-3.5.1/libs/jakarta.inject-2.6.1.jar\nkafka_2.12-3.5.1/libs/jakarta.ws.rs-api-2.1.6.jar\nkafka_2.12-3.5.1/libs/jakarta.annotation-api-1.3.5.jar\nkafka_2.12-3.5.1/libs/osgi-resource-locator-1.0.3.jar\nkafka_2.12-3.5.1/libs/jakarta.validation-api-2.0.2.jar\nkafka_2.12-3.5.1/libs/aopalliance-repackaged-2.6.1.jar\nkafka_2.12-3.5.1/libs/javassist-3.29.2-GA.jar\nkafka_2.12-3.5.1/libs/javax.activation-api-1.2.0.jar\nkafka_2.12-3.5.1/libs/javax.servlet-api-3.1.0.jar\nkafka_2.12-3.5.1/libs/jetty-http-9.4.51.v20230217.jar\nkafka_2.12-3.5.1/libs/jetty-io-9.4.51.v20230217.jar\nkafka_2.12-3.5.1/libs/jetty-util-ajax-9.4.51.v20230217.jar\nkafka_2.12-3.5.1/libs/jetty-util-9.4.51.v20230217.jar\nkafka_2.12-3.5.1/libs/jetty-continuation-9.4.51.v20230217.jar\nkafka_2.12-3.5.1/libs/kafka-shell-3.5.1.jar\nkafka_2.12-3.5.1/libs/jline-3.22.0.jar\nkafka_2.12-3.5.1/libs/connect-api-3.5.1.jar\nkafka_2.12-3.5.1/libs/javax.ws.rs-api-2.1.1.jar\nkafka_2.12-3.5.1/libs/connect-runtime-3.5.1.jar\nkafka_2.12-3.5.1/libs/connect-json-3.5.1.jar\nkafka_2.12-3.5.1/libs/connect-transforms-3.5.1.jar\nkafka_2.12-3.5.1/libs/jetty-client-9.4.51.v20230217.jar\nkafka_2.12-3.5.1/libs/reflections-0.9.12.jar\nkafka_2.12-3.5.1/libs/maven-artifact-3.8.8.jar\nkafka_2.12-3.5.1/libs/swagger-annotations-2.2.8.jar\nkafka_2.12-3.5.1/libs/plexus-utils-3.3.1.jar\nkafka_2.12-3.5.1/libs/commons-lang3-3.8.1.jar\nkafka_2.12-3.5.1/libs/connect-file-3.5.1.jar\nkafka_2.12-3.5.1/libs/connect-basic-auth-extension-3.5.1.jar\nkafka_2.12-3.5.1/libs/javax.annotation-api-1.3.2.jar\nkafka_2.12-3.5.1/libs/connect-mirror-3.5.1.jar\nkafka_2.12-3.5.1/libs/connect-mirror-client-3.5.1.jar\nkafka_2.12-3.5.1/libs/kafka-streams-3.5.1.jar\nkafka_2.12-3.5.1/libs/rocksdbjni-7.1.2.jar\nkafka_2.12-3.5.1/libs/kafka-streams-scala_2.12-3.5.1.jar\nkafka_2.12-3.5.1/libs/kafka-streams-test-utils-3.5.1.jar\nkafka_2.12-3.5.1/libs/kafka-streams-examples-3.5.1.jar\n"
     ]
    }
   ],
   "source": [
    "%sh\n",
    "tar -xvf kafka_2.12-3.5.1.tgz"
   ]
  },
  {
   "cell_type": "markdown",
   "metadata": {
    "application/vnd.databricks.v1+cell": {
     "cellMetadata": {},
     "inputWidgets": {},
     "nuid": "772ed16f-9885-4b65-aecb-b45b3b411c58",
     "showTitle": false,
     "title": ""
    }
   },
   "source": [
    "Instalando o Zookeeper"
   ]
  },
  {
   "cell_type": "code",
   "execution_count": 0,
   "metadata": {
    "application/vnd.databricks.v1+cell": {
     "cellMetadata": {
      "byteLimit": 2048000,
      "rowLimit": 10000
     },
     "inputWidgets": {},
     "nuid": "884d3a7f-d10c-4576-a50c-1fe9904a8b1c",
     "showTitle": false,
     "title": ""
    }
   },
   "outputs": [
    {
     "output_type": "stream",
     "name": "stdout",
     "output_type": "stream",
     "text": [
      "SLF4J: Class path contains multiple SLF4J bindings.\nSLF4J: Found binding in [jar:file:/databricks/jars/----ws_3_3--mvn--hadoop3--org.apache.logging.log4j--log4j-slf4j-impl--org.apache.logging.log4j__log4j-slf4j-impl__2.18.0.jar!/org/slf4j/impl/StaticLoggerBinder.class]\nSLF4J: Found binding in [jar:file:/databricks/driver/kafka_2.12-3.5.1/libs/slf4j-reload4j-1.7.36.jar!/org/slf4j/impl/StaticLoggerBinder.class]\nSLF4J: See http://www.slf4j.org/codes.html#multiple_bindings for an explanation.\nSLF4J: Actual binding is of type [org.apache.logging.slf4j.Log4jLoggerFactory]\n[2023-10-04 22:24:13,778] INFO Reading configuration from: ./kafka_2.12-3.5.1/config/zookeeper.properties (org.apache.zookeeper.server.quorum.QuorumPeerConfig)\n[2023-10-04 22:24:13,828] INFO clientPortAddress is 0.0.0.0:2181 (org.apache.zookeeper.server.quorum.QuorumPeerConfig)\n[2023-10-04 22:24:13,829] INFO secureClientPort is not set (org.apache.zookeeper.server.quorum.QuorumPeerConfig)\n[2023-10-04 22:24:13,829] INFO observerMasterPort is not set (org.apache.zookeeper.server.quorum.QuorumPeerConfig)\n[2023-10-04 22:24:13,830] INFO metricsProvider.className is org.apache.zookeeper.metrics.impl.DefaultMetricsProvider (org.apache.zookeeper.server.quorum.QuorumPeerConfig)\n[2023-10-04 22:24:13,846] INFO autopurge.snapRetainCount set to 3 (org.apache.zookeeper.server.DatadirCleanupManager)\n[2023-10-04 22:24:13,847] INFO autopurge.purgeInterval set to 0 (org.apache.zookeeper.server.DatadirCleanupManager)\n[2023-10-04 22:24:13,847] INFO Purge task is not scheduled. (org.apache.zookeeper.server.DatadirCleanupManager)\n[2023-10-04 22:24:13,847] WARN Either no config or no quorum defined in config, running in standalone mode (org.apache.zookeeper.server.quorum.QuorumPeerMain)\n[2023-10-04 22:24:13,929] INFO Log4j 1.2 jmx support found and enabled. (org.apache.zookeeper.jmx.ManagedUtil)\n[2023-10-04 22:24:13,961] DEBUG preRegister called. Server=com.sun.jmx.mbeanserver.JmxMBeanServer@d716361, name=log4j:logger=root (root)\n[2023-10-04 22:24:13,967] INFO Reading configuration from: ./kafka_2.12-3.5.1/config/zookeeper.properties (org.apache.zookeeper.server.quorum.QuorumPeerConfig)\n[2023-10-04 22:24:13,968] INFO clientPortAddress is 0.0.0.0:2181 (org.apache.zookeeper.server.quorum.QuorumPeerConfig)\n[2023-10-04 22:24:13,969] INFO secureClientPort is not set (org.apache.zookeeper.server.quorum.QuorumPeerConfig)\n[2023-10-04 22:24:13,969] INFO observerMasterPort is not set (org.apache.zookeeper.server.quorum.QuorumPeerConfig)\n[2023-10-04 22:24:13,969] INFO metricsProvider.className is org.apache.zookeeper.metrics.impl.DefaultMetricsProvider (org.apache.zookeeper.server.quorum.QuorumPeerConfig)\n[2023-10-04 22:24:13,969] INFO Starting server (org.apache.zookeeper.server.ZooKeeperServerMain)\n[2023-10-04 22:24:14,065] INFO ServerMetrics initialized with provider org.apache.zookeeper.metrics.impl.DefaultMetricsProvider@54a67a45 (org.apache.zookeeper.server.ServerMetrics)\n[2023-10-04 22:24:14,085] INFO zookeeper.snapshot.trust.empty : false (org.apache.zookeeper.server.persistence.FileTxnSnapLog)\n[2023-10-04 22:24:14,146] INFO  (org.apache.zookeeper.server.ZooKeeperServer)\n[2023-10-04 22:24:14,146] INFO   ______                  _                                           (org.apache.zookeeper.server.ZooKeeperServer)\n[2023-10-04 22:24:14,146] INFO  |___  /                 | |                                          (org.apache.zookeeper.server.ZooKeeperServer)\n[2023-10-04 22:24:14,146] INFO     / /    ___     ___   | | __   ___    ___   _ __     ___   _ __    (org.apache.zookeeper.server.ZooKeeperServer)\n[2023-10-04 22:24:14,147] INFO    / /    / _ \\   / _ \\  | |/ /  / _ \\  / _ \\ | '_ \\   / _ \\ | '__| (org.apache.zookeeper.server.ZooKeeperServer)\n[2023-10-04 22:24:14,147] INFO   / /__  | (_) | | (_) | |   <  |  __/ |  __/ | |_) | |  __/ | |     (org.apache.zookeeper.server.ZooKeeperServer)\n[2023-10-04 22:24:14,147] INFO  /_____|  \\___/   \\___/  |_|\\_\\  \\___|  \\___| | .__/   \\___| |_| (org.apache.zookeeper.server.ZooKeeperServer)\n[2023-10-04 22:24:14,148] INFO                                               | |                      (org.apache.zookeeper.server.ZooKeeperServer)\n[2023-10-04 22:24:14,148] INFO                                               |_|                      (org.apache.zookeeper.server.ZooKeeperServer)\n[2023-10-04 22:24:14,148] INFO  (org.apache.zookeeper.server.ZooKeeperServer)\n[2023-10-04 22:24:14,160] INFO Server environment:zookeeper.version=3.6.2--803c7f1a12f85978cb049af5e4ef23bd8b688715, built on 09/04/2020 12:44 GMT (org.apache.zookeeper.server.ZooKeeperServer)\n[2023-10-04 22:24:14,166] INFO Server environment:host.name=1004-220816-n9d493lx-10-172-230-18 (org.apache.zookeeper.server.ZooKeeperServer)\n[2023-10-04 22:24:14,167] INFO Server environment:java.version=1.8.0_362 (org.apache.zookeeper.server.ZooKeeperServer)\n[2023-10-04 22:24:14,167] INFO Server environment:java.vendor=Azul Systems, Inc. (org.apache.zookeeper.server.ZooKeeperServer)\n[2023-10-04 22:24:14,168] INFO Server environment:java.home=/usr/lib/jvm/zulu8-ca-amd64/jre (org.apache.zookeeper.server.ZooKeeperServer)\n[2023-10-04 22:24:14,168] INFO Server environment:java.class.path=/databricks/spark/dbconf/jets3t/:/databricks/spark/dbconf/log4j/driver:/databricks/hive/conf:/databricks/spark/dbconf/hadoop:/databricks/jars/----ws_3_3--mvn--hadoop3--org.slf4j--jcl-over-slf4j--org.slf4j__jcl-over-slf4j__1.7.36.jar:/databricks/jars/common--conf--log--log-spark_3.3_2.12_deploy.jar:/databricks/jars/common--shutdown-hook-manager--shutdown-hook-manager-spark_3.3_2.12_deploy.jar:/databricks/jars/common--encryption--cpk-deps-shaded---577814894--io.projectreactor.netty__reactor-netty-core__1.0.9.jar:/databricks/jars/third_party--hadoop-azure-2.7.3-abfs--hadoop-azure-2.7.3-abfs-external-shaded_20180625_3682417-spark_3.3_2.12--1908666790--com.squareup.retrofit2__converter-jackson__2.1.0.jar:/databricks/jars/proto--logs--activity--config-manager--config_manager_service_proto-spark_3.3_2.12-scalabp.jar:/databricks/jars/----ws_3_3--mvn--hadoop3--org.apache.arrow--arrow-vector--org.apache.arrow__arrow-vector__7.0.0.jar:/databricks/jars/----ws_3_3--mvn--hadoop3--io.prometheus--simpleclient_pushgateway--io.prometheus__simpleclient_pushgateway__0.7.0.jar:/databricks/jars/api-base--proto--error_code_proto-spark_3.3_2.12-scalabp.jar:/databricks/jars/----ws_3_3--mvn--hadoop3--org.apache.avro--avro-ipc--org.apache.avro__avro-ipc__1.11.0.jar:/databricks/jars/third_party--hadoop-azure-2.7.3-abfs--hadoop-azure-2.7.3-abfs-external-shaded_20180625_3682417-spark_3.3_2.12---1345432102--commons-codec__commons-codec__1.11.jar:/databricks/jars/----ws_3_3--mvn--hadoop3--org.glassfish.hk2.external--jakarta.inject--org.glassfish.hk2.external__jakarta.inject__2.6.1.jar:/databricks/jars/third_party--grpc-netty--grpc-netty_shaded---1083310950--io.netty__netty-codec-stomp__4.1.77.Final.jar:/databricks/jars/----ws_3_3--vendor--connect--server--spark_connect_proto_lib_shaded---578504376--com.google.j2objc__j2objc-annotations__1.3.jar:/databricks/jars/common--database--backoff-manager--backoff-manager-spark_3.3_2.12_deploy.jar:/databricks/jars/----ws_3_3--mvn--hadoop3--org.glassfish.jersey.core--jersey-server--org.glassfish.jersey.core__jersey-server__2.36.jar:/databricks/jars/----ws_3_3--mvn--hadoop3--com.google.guava--guava--com.google.guava__guava__15.0.jar:/databricks/jars/third_party--gcs-private--gcs-shaded_common--1823414462--io.grpc__grpc-protobuf-lite__1.37.0.jar:/databricks/jars/----ws_3_3--mvn--hadoop3--org.yaml--snakeyaml--org.yaml__snakeyaml__1.24.jar:/databricks/jars/third_party--armeria--armeria_shaded--1870423252--io.netty__netty-handler__4.1.77.Final.jar:/databricks/jars/----ws_3_3--common--network-common--network-common-hive-2.3__hadoop-3.2_2.12_deploy.jar:/databricks/jars/third_party--hadoop_gcs--hadoop-connectors--gcs-dependencies-shaded---2116212680--io.grpc__grpc-auth__1.37.0.jar:/databricks/jars/third_party--hadoop-azure-2.7.3-abfs--hadoop-azure-2.7.3-abfs-external-shaded_20180625_3682417-spark_3.3_2.12--2018709740--javax.xml.stream__stax-api__1.0-2.jar:/databricks/jars/third_party--opencensus-shaded--opencensus_shaded---439494304--io.opentracing__opentracing-noop__0.31.0.jar:/databricks/jars/common--chauffeur--testutil--testutil-spark_3.3_2.12_deploy.jar:/databricks/jars/----ws_3_3--third_party--mssql--mssql-hive-2.3__hadoop-3.2_2.12---412092703--io.projectreactor__reactor-core__3.4.19.jar:/databricks/jars/----ws_3_3--core--libcore_generated_resources.jar:/databricks/jars/third_party--grpc-netty--grpc-netty_shaded--899745566--io.netty__netty-codec-haproxy__4.1.77.Final.jar:/databricks/jars/third_party--gcp-java--gcp-java_shaded--1493944588--io.grpc__grpc-api__1.34.1.jar:/databricks/jars/common--util--execution-spark_3.3_2.12_deploy.jar:/databricks/jars/third_party--gcp-java--gcp-java_shaded---1661039946--com.google.apis__google-api-services-servicecontrol__v1-rev20201207-1.31.0.jar:/databricks/jars/third_party--gcs-private--gcs-shaded_common---1359320259--io.grpc__grpc-context__1.32.1.jar:/databricks/jars/----ws_3_3--third_party--mssql--mssql-hive-2.3__hadoop-3.2_2.12---613269126--com.nimbusds__content-type__2.2.jar:/databricks/jars/utils--process_utils-spark_3.3_2.12_deploy.jar:/databricks/jars/----ws_3_3--mvn--hadoop3--org.scala-sbt--test-interface--org.scala-sbt__test-interface__1.0.jar:/databricks/jars/common--testing--testing-spark_3.3_2.12_deploy.jar:/databricks/jars/third_party--armeria--armeria_shaded---924439155--net.bytebuddy__byte-buddy__1.12.6.jar:/databricks/jars/third_party--grpc-netty--grpc-netty_shaded---909875842--io.netty__netty-transport-native-unix-common__4.1.77.Final.jar:/databricks/jars/common--encryption--cpk-deps-shaded---577661061--io.projectreactor.netty__reactor-netty-http__1.0.9.jar:/databricks/jars/common--logging--audit--response-spark_3.3_2.12_deploy.jar:/databricks/jars/spark--sql-extension--sql-extension-spark_3.3_2.12_deploy.jar:/databricks/jars/third_party--hadoop_gcs--hadoop-connectors--gcs-dependencies-shaded--2140377771--com.google.guava__failureaccess__1.0.1.jar:/databricks/jars/----ws_3_3--third_party--mssql--mssql-hive-2.3__hadoop-3.2_2.12---407334024--io.projectreactor.netty__reactor-netty-core__1.0.20.jar:/databricks/jars/----ws_3_3--vendor--connect--server--spark_connect_proto_lib_shaded--2124703135--common-files-hive-2.3__hadoop-3.2_2.12_deploy.jar:/databricks/jars/common--logging--log4j--log4j-spark_3.3_2.12_deploy.jar:/databricks/jars/jsonutil--jsonutil-spark_3.3_2.12_deploy.jar:/databricks/jars/----ws_3_3--mvn--hadoop3--io.dropwizard.metrics--metrics-jvm--io.dropwizard.metrics__metrics-jvm__4.1.1.jar:/databricks/jars/----ws_3_3--third_party--kinesis-sdk--kinesis-sdk---2059345175--software.amazon.awssdk__third-party-jackson-core__2.17.190.jar:/databricks/jars/common--java-flight-recorder--java-flight-recorder-spark_3.3_2.12_deploy.jar:/databricks/jars/common--sisyphus--client--client-spark_3.3_2.12_deploy.jar:/databricks/jars/----ws_3_3--mvn--hadoop3--com.amazonaws--aws-java-sdk-opsworks--com.amazonaws__aws-java-sdk-opsworks__1.12.189.jar:/databricks/jars/third_party--gcp-java--gcp-java_shaded---1812183151--com.google.api-client__google-api-client__1.34.0.jar:/databricks/jars/third_party--gcs-private--gcs-shaded_common--1447657062--com.google.auth__google-auth-library-credentials__0.22.2.jar:/databricks/jars/common--instrumentation--info-service--info-service-spark_3.3_2.12_deploy.jar:/databricks/jars/----ws_3_3--mvn--hadoop3--org.apache.hive.shims--hive-shims-common--org.apache.hive.shims__hive-shims-common__2.3.9.jar:/databricks/jars/third_party--armeria--armeria_shaded--2134638174--io.micrometer__micrometer-registry-prometheus__1.8.5.jar:/databricks/jars/third_party--grpc-netty--grpc-netty_shaded---558670162--io.netty__netty-transport-rxtx__4.1.77.Final.jar:/databricks/jars/third_party--hadoop-azure-2.7.3-abfs--hadoop-azure-2.7.3-abfs-external-shaded_20180625_3682417-spark_3.3_2.12---772164550--org.apache.htrace__htrace-core__3.1.0-incubating.jar:/databricks/jars/libraries--libraries-spark_3.3_2.12_deploy.jar:/databricks/jars/common--encryption--cpk-deps-shaded---460269792--com.nimbusds__content-type__2.1.jar:/databricks/jars/common--jetty--request--request-spark_3.3_2.12_deploy.jar:/databricks/jars/----ws_3_3--mvn--hadoop3--com.amazonaws--aws-java-sdk-redshift--com.amazonaws__aws-java-sdk-redshift__1.12.189.jar:/databricks/jars/----ws_3_3--mvn--hadoop3--com.amazonaws--aws-java-sdk-ec2--com.amazonaws__aws-java-sdk-ec2__1.12.189.jar:/databricks/jars/cluster-common--future-utils-spark_3.3_2.12_deploy.jar:/databricks/jars/common--cluster--global-init-script--global-init-script-spark_3.3_2.12_deploy.jar:/databricks/jars/third_party--gcp-java--gcp-java_shaded--1574518989--commons-logging__commons-logging__1.2.jar:/databricks/jars/common--jws-data--jws-data-spark_3.3_2.12_deploy.jar:/databricks/jars/----ws_3_3--mvn--hadoop3--org.apache.parquet--parquet-column--org.apache.parquet__parquet-column__1.12.3-databricks-0008.jar:/databricks/jars/----ws_3_3--third_party--mssql--mssql-hive-2.3__hadoop-3.2_2.12---580136220--com.microsoft.sqlserver__mssql-jdbc__11.2.2.jre8.jar:/databricks/jars/----ws_3_3--vendor--connect--server--spark_connect_proto_lib_shaded--887644477--com.google.guava__listenablefuture__9999.0-empty-to-avoid-conflict-with-guava.jar:/databricks/jars/----ws_3_3--mvn--hadoop3--com.amazonaws--aws-java-sdk-cognitoidentity--com.amazonaws__aws-java-sdk-cognitoidentity__1.12.189.jar:/databricks/jars/third_party--gcp-java--gcp-java_shaded---1843136381--com.google.apis__google-api-services-networkmanagement__v1-rev20200505-1.30.10.jar:/databricks/jars/third_party--armeria--armeria_shaded---232817040--org.checkerframework__checker-compat-qual__2.5.5.jar:/databricks/jars/common--logging--stats--stats-spark_3.3_2.12_deploy.jar:/databricks/jars/----ws_3_3--mvn--hadoop3--org.glassfish.hk2--hk2-api--org.glassfish.hk2__hk2-api__2.6.1.jar:/databricks/jars/----ws_3_3--mvn--hadoop3--com.amazonaws--aws-java-sdk-machinelearning--com.amazonaws__aws-java-sdk-machinelearning__1.12.189.jar:/databricks/jars/third_party--jsonwebtoken--jsonwebtoken_shaded---1593727658--com.fasterxml.jackson.core__jackson-annotations__2.9.10.jar:/databricks/jars/common--rate-limiter--rate-limiter-spark_3.3_2.12_deploy.jar:/databricks/jars/----ws_3_3--vendor--spark-ganglia-lgpl--libmetrics-ganglia.jar:/databricks/jars/common--conf--materializer--materializer-spark_3.3_2.12_deploy.jar:/databricks/jars/third_party--gcs-private--gcs-shaded_common--388892605--io.grpc__grpc-protobuf__1.37.0.jar:/databricks/jars/common--database--exceptions--exceptions-spark_3.3_2.12_deploy.jar:/databricks/jars/third_party--grpc-netty--grpc-netty_shaded--1401295332--io.netty__netty-codec-memcache__4.1.77.Final.jar:/databricks/jars/proto--logs--activity--webapp--webapp_service_proto-spark_3.3_2.12-scalabp.jar:/databricks/jars/----ws_3_3--third_party--kinesis-sdk--kinesis-sdk--958489554--software.amazon.awssdk__aws-core__2.17.190.jar:/databricks/jars/proto--logs--test-usage-log--test_usage_log_proto-spark_3.3_2.12-scalabp.jar:/databricks/jars/third_party--hadoop_gcs--hadoop-connectors--gcs-dependencies-shaded--254935968--com.google.code.gson__gson__2.8.6.jar:/databricks/jars/log-sync--common--compress-utils-spark_3.3_2.12_deploy.jar:/databricks/jars/common--error-framework--libcommon_resources.jar:/databricks/jars/----ws_3_3--mvn--hadoop3--oro--oro--oro__oro__2.0.8.jar:/databricks/jars/third_party--jackson--shaded_dependencies---2005166618--com.google.guava__guava__15.0.jar:/databricks/jars/third_party--gcs-private--gcs-shaded_common---128656128--org.conscrypt__conscrypt-openjdk-uber__2.5.1.jar:/databricks/jars/feature-flag--client--experimentation_lib-spark_3.3_2.12_deploy.jar:/databricks/jars/third_party--armeria--armeria_shaded--619126430--io.perfmark__perfmark-api__0.23.0.jar:/databricks/jars/----ws_3_3--vendor--file-notification-common--libfile-notification-common_resources.jar:/databricks/jars/common--tracing--util--span_util-spark_3.3_2.12_deploy.jar:/databricks/jars/common--command-exceptions--command-exceptions-spark_3.3_2.12_deploy.jar:/databricks/jars/----ws_3_3--mvn--hadoop3--org.apache.hive--hive-serde--org.apache.hive__hive-serde__2.3.9.jar:/databricks/jars/common--rpc--checksum--checksum-spark_3.3_2.12_deploy.jar:/databricks/jars/----ws_3_3--mvn--hadoop3--com.amazonaws--aws-java-sdk-ecs--com.amazonaws__aws-java-sdk-ecs__1.12.189.jar:/databricks/jars/third_party--gcs-private--gcs-shaded_common---2029887853--com.google.errorprone__error_prone_annotations__2.3.4.jar:/databricks/jars/----ws_3_3--vendor--connect--server--spark_connect_proto_lib_shaded---233392612--io.grpc__grpc-netty__1.45.1.jar:/databricks/jars/----ws_3_3--vendor--connect--server--spark_connect_proto_lib_shaded--619126430--io.perfmark__perfmark-api__0.23.0.jar:/databricks/jars/common--encryption--azure_key_vault_validator-spark_3.3_2.12_deploy.jar:/databricks/jars/common--instrumentation--jmx-exporter--jmx-exporter-spark_3.3_2.12_deploy.jar:/databricks/jars/proto--logs--observability--log_daemon_event_log_proto-spark_3.3_2.12-scalabp.jar:/databricks/jars/----ws_3_3--mvn--hadoop3--org.apache.hadoop--hadoop-client-runtime--org.apache.hadoop__hadoop-client-runtime__3.3.4.jar:/databricks/jars/common--doughnut-buffer--doughnut-buffer-spark_3.3_2.12_deploy.jar:/databricks/jars/----ws_3_3--mvn--hadoop3--com.databricks.scalapb--compilerplugin_2.12--com.databricks.scalapb__compilerplugin_2.12__0.4.15-10.jar:/databricks/jars/----ws_3_3--mvn--hadoop3--com.jcraft--jsch--com.jcraft__jsch__0.1.50.jar:/databricks/jars/----ws_3_3--mvn--hadoop3--org.eclipse.jetty--jetty-server--org.eclipse.jetty__jetty-server__9.4.46.v20220331.jar:/databricks/jars/third_party--grpc-netty--grpc-netty_shaded--887644477--com.google.guava__listenablefuture__9999.0-empty-to-avoid-conflict-with-guava.jar:/databricks/jars/----ws_3_3--core--libcore_resources.jar:/databricks/jars/common--rpc--metrics--client-metrics-recorder-spark_3.3_2.12_deploy.jar:/databricks/jars/----ws_3_3--mvn--hadoop3--org.apache.hive--hive-beeline--org.apache.hive__hive-beeline__2.3.9.jar:/databricks/jars/common--jetty--server--server_deprecated-spark_3.3_2.12_deploy.jar:/databricks/jars/third_party--gcp-java--gcp-java_shaded--1821515031--com.google.oauth-client__google-oauth-client__1.33.3.jar:/databricks/jars/----ws_3_3--mvn--hadoop3--commons-dbcp--commons-dbcp--commons-dbcp__commons-dbcp__1.4.jar:/databricks/jars/common--rpc--validator--validator-spark_3.3_2.12_deploy.jar:/databricks/jars/----ws_3_3--mvn--hadoop3--org.eclipse.jetty--jetty-http--org.eclipse.jetty__jetty-http__9.4.46.v20220331.jar:/databricks/jars/----ws_3_3--vendor--kafka-0-10-hive-2.3__hadoop-3.2_2.12_shaded--1289704192--kafka-0-10-unshaded-hive-2.3__hadoop-3.2_2.12_deploy.jar:/databricks/jars/third_party--gcp-java--gcp-java_shaded---940791386--org.apache.httpcomponents__httpclient__4.5.13.jar:/databricks/jars/----ws_3_3--vendor--connect--server--spark_connect_proto_lib_shaded---1610319309--com.google.guava__listenablefuture__9999.0-empty-to-avoid-conflict-with-guava.jar:/databricks/jars/----ws_3_3--mvn--hadoop3--org.glassfish.jersey.containers--jersey-container-servlet--org.glassfish.jersey.containers__jersey-container-servlet__2.36.jar:/databricks/jars/----ws_3_3--vendor--protobuf--kafka-clients_only_shaded-for-protobuf-hive-2.3__hadoop-3.2---614483296--org.apache.kafka__kafka-clients__7.4.0-ccs.jar:/databricks/jars/common--chauffeur--messages--messages-spark_3.3_2.12_deploy.jar:/databricks/jars/chauffeur-api--api--endpoints--endpoints-spark_3.3_2.12_deploy.jar:/databricks/jars/----ws_3_3--third_party--kinesis-sdk--kinesis-sdk--1628838576--software.amazon.awssdk__aws-cbor-protocol__2.17.190.jar:/databricks/jars/acl--api--helpers--helpers-spark_3.3_2.12_deploy.jar:/databricks/jars/----ws_3_3--mvn--hadoop3--com.amazonaws--aws-java-sdk-elasticloadbalancing--com.amazonaws__aws-java-sdk-elasticloadbalancing__1.12.189.jar:/databricks/jars/third_party--opencensus-shaded--opencensus_shaded--1078737803--com.google.guava__failureaccess__1.0.1.jar:/databricks/jars/third_party--hadoop-azure-2.7.3-abfs--hadoop-azure-2.7.3-abfs-external-shaded_20180625_3682417-spark_3.3_2.12---602169413--org.apache.httpcomponents__httpcore__4.4.11.jar:/databricks/jars/----ws_3_3--mvn--hadoop3--io.netty--netty-transport-classes-kqueue--io.netty__netty-transport-classes-kqueue__4.1.74.Final.jar:/databricks/jars/----ws_3_3--mvn--hadoop3--org.antlr--ST4--org.antlr__ST4__4.0.4.jar:/databricks/jars/common--logging--service-request--logger-spark_3.3_2.12_deploy.jar:/databricks/jars/third_party--gcp-java--gcp-java_shaded---221577655--com.google.apis__google-api-services-compute__v1-rev20220526-1.32.1.jar:/databricks/jars/third_party--gcp-java--gcp-java_shaded--442951015--com.google.apis__google-api-services-iam__v1-rev316-1.25.0.jar:/databricks/jars/----ws_3_3--vendor--sql-gcp-connectors--sql-gcp-connectors-hive-2.3__hadoop-3.2_2.12_deploy.jar:/databricks/jars/third_party--hadoop_gcs--hadoop-connectors--gcs-dependencies-shaded---1673701305--com.google.guava__listenablefuture__9999.0-empty-to-avoid-conflict-with-guava.jar:/databricks/jars/common--login-credentials--login-credentials-spark_3.3_2.12_deploy.jar:/databricks/jars/----ws_3_3--mvn--hadoop3--com.twitter--util-app_2.12--com.twitter__util-app_2.12__7.1.0.jar:/databricks/jars/third_party--gcs-private--gcs-shaded-hadoop3---41769555--gcsio-hadoop3-2.2.2-databricks3.jar:/databricks/jars/third_party--opencensus-shaded--opencensus_shaded---1179144133--com.google.guava__guava__29.0-android.jar:/databricks/jars/daemon--data--client--conf--conf-spark_3.3_2.12_deploy.jar:/databricks/jars/third_party--grpc-netty--grpc-netty_shaded--103274271--io.netty__netty-codec-http__4.1.77.Final.jar:/databricks/jars/----ws_3_3--mvn--hadoop3--org.scala-lang--scala-library_2.12--org.scala-lang__scala-library__2.12.14.jar:/databricks/jars/common--ip-address--ip-address-spark_3.3_2.12_deploy.jar:/databricks/jars/----ws_3_3--mvn--hadoop3--org.apache.orc--orc-core--org.apache.orc__orc-core__1.7.8.jar:/databricks/jars/common--annotations--command-context-py4jwhitelist--command-context-py4jwhitelist-spark_3.3_2.12_deploy.jar:/databricks/jars/common--encryption--cpk-deps-shaded--1092596627--io.netty__netty-resolver__4.1.87.Final.jar:/databricks/jars/common--encryption--cpk-deps-shaded---1375035343--org.reactivestreams__reactive-streams__1.0.3.jar:/databricks/jars/----ws_3_3--mvn--hadoop3--com.amazonaws--aws-java-sdk-elasticbeanstalk--com.amazonaws__aws-java-sdk-elasticbeanstalk__1.12.189.jar:/databricks/jars/common--logging--metrics--data-monitoring--data-monitoring-spark_3.3_2.12_deploy.jar:/databricks/jars/third_party--armeria--armeria_shaded--989673232--io.netty__netty-tcnative-boringssl-static-osx-x86_64__2.0.52.Final.jar:/databricks/jars/----glue-catalog-spark3.3-client--glue-catalog-shim-common_2.12_deploy.jar:/databricks/jars/proto--logs--billableusage--types_proto-spark_3.3_2.12-scalabp.jar:/databricks/jars/----ws_3_3--third_party--mssql--mssql-hive-2.3__hadoop-3.2_2.12--1314783277--io.netty__netty-transport-native-epoll-linux-x86_64__4.1.74.Final.jar:/databricks/jars/third_party--grpc-netty--grpc-netty_shaded---1980141100--io.grpc__grpc-api__1.45.1.jar:/databricks/jars/common--driver-nfs--driver-nfs-spark_3.3_2.12_deploy.jar:/databricks/jars/common--database--migration--orchestration--orchestration-spark_3.3_2.12_deploy.jar:/databricks/jars/----ws_3_3--vendor--kafka-clients_only_shaded-for-kafka-0-10-hive-2.3__hadoop-3.2---614483296--org.apache.kafka__kafka-clients__7.4.0-ccs.jar:/databricks/jars/third_party--grpc-netty--grpc-netty_shaded---558660560--io.netty__netty-transport-sctp__4.1.77.Final.jar:/databricks/jars/----ws_3_3--mvn--hadoop3--org.apache.parquet--parquet-jackson--org.apache.parquet__parquet-jackson__1.12.3-databricks-0008.jar:/databricks/jars/----ws_3_3--third_party--kinesis-sdk--kinesis-sdk---1765228590--software.amazon.awssdk__netty-nio-client__2.17.190.jar:/databricks/jars/----ws_3_3--mvn--hadoop3--javax.transaction--jta--javax.transaction__jta__1.1.jar:/databricks/jars/common--cluster--info--info-spark_3.3_2.12_deploy.jar:/databricks/jars/third_party--armeria--armeria_shaded---1544760773--io.micrometer__micrometer-core__1.8.5.jar:/databricks/jars/common--util--remote-command-helper-spark_3.3_2.12_deploy.jar:/databricks/jars/----ws_3_3--vendor--protobuf--kafka-protobuf-types_only_shaded-for-protobuf-hive-2.3__hadoop-3.2---493333467--io.confluent__kafka-protobuf-types__7.3.0.jar:/databricks/jars/spark--hadoop-safety--filesystem_list_2.12_deploy.jar:/databricks/jars/----ws_3_3--common--tags--tags-hive-2.3__hadoop-3.2_2.12_deploy.jar:/databricks/jars/----ws_3_3--vendor--kafka-0-10-token-provider-unshaded-hive-2.3__hadoop-3.2_2.12_shaded-for-kafka-0-10-hive-2.3__hadoop-3.2---1311458080--kafka-0-10-token-provider-unshaded-hive-2.3__hadoop-3.2_2.12_deploy.jar:/databricks/jars/common--encryption--cpk-deps-shaded---1537675443--com.nimbusds__lang-tag_\n\n*** WARNING: max output size exceeded, skipping output. ***\n\nrk_3.3_2.12--440711912--lib-spark_3.3_2.12_deploy.jar:/databricks/jars/third_party--grpc-netty--grpc-netty_shaded---1210700315--io.netty__netty-resolver-dns-native-macos-osx-x86_64__4.1.77.Final.jar:/databricks/jars/----ws_3_3--mvn--hadoop3--com.twitter--chill-java--com.twitter__chill-java__0.10.0.jar:/databricks/jars/common--database--datasource--key-spark_3.3_2.12_deploy.jar:/databricks/jars/third_party--armeria--armeria_shaded---502712802--io.grpc__grpc-api__1.45.1.jar:/databricks/jars/feature-flag--client--experimentation_protos-spark_3.3_2.12-scalabp.jar:/databricks/jars/common--threading--future--future-spark_3.3_2.12_deploy.jar:/databricks/jars/common--instrumentation--stack-trace-reporter--stack-trace-reporter-spark_3.3_2.12_deploy.jar:/databricks/jars/common--database--config--config-spark_3.3_2.12_deploy.jar:/databricks/jars/third_party--hadoop_gcs--hadoop-connectors--gcs-dependencies-shaded---456122247--com.google.api-client__google-api-client-jackson2__1.31.3.jar:/databricks/jars/common--encryption--cpk-deps-shaded--509545276--com.azure__azure-identity__1.3.5.jar:/databricks/jars/----ws_3_3--streaming--streaming-hive-2.3__hadoop-3.2_2.12_deploy.jar:/databricks/jars/----ws_3_3--sql--catalyst--libcatalyst_resources.jar:/databricks/jars/----ws_3_3--mvn--hadoop3--com.ning--compress-lzf--com.ning__compress-lzf__1.1.jar:/databricks/jars/----ws_3_3--third_party--mssql--mssql-hive-2.3__hadoop-3.2_2.12--1296174628--io.netty__netty-handler-proxy__4.1.78.Final.jar:/databricks/jars/----ws_3_3--third_party--mssql--mssql-hive-2.3__hadoop-3.2_2.12--931805192--io.netty__netty-resolver-dns-classes-macos__4.1.77.Final.jar:/databricks/jars/----ws_3_3--third_party--mssql--mssql-hive-2.3__hadoop-3.2_2.12--68992652--io.netty__netty-resolver-dns-native-macos-osx-x86_64__4.1.77.Final.jar:/databricks/jars/----ws_3_3--vendor--sql-gcp-connectors--pubsub_scala_proto-hive-2.3__hadoop-3.2_2.12_deploy.jar:/databricks/jars/----ws_3_3--mvn--hadoop3--io.prometheus.jmx--collector--io.prometheus.jmx__collector__0.12.0.jar:/databricks/jars/common--jobs--action_id-spark_3.3_2.12_deploy.jar:/databricks/jars/third_party--gcp-java--gcp-java_shaded--1811380713--com.fasterxml.jackson.core__jackson-core__2.12.2.jar:/databricks/jars/----ws_3_3--mvn--hadoop3--com.amazonaws--aws-java-sdk-kms--com.amazonaws__aws-java-sdk-kms__1.12.189.jar:/databricks/jars/third_party--gcp-java--gcp-java_shaded---2146616199--com.google.http-client__google-http-client-apache-v2__1.36.0.jar:/databricks/jars/third_party--armeria--armeria_shaded---645991120--io.netty__netty-tcnative-boringssl-static-linux-x86_64__2.0.52.Final.jar:/databricks/jars/feature-flag--client--client-spark_3.3_2.12_deploy.jar:/databricks/jars/----ws_3_3--mvn--hadoop3--com.databricks--Rserve--com.databricks__Rserve__1.8-3.jar:/databricks/jars/third_party--grpc-netty--grpc-netty_shaded--557516722--io.netty__netty-codec-dns__4.1.77.Final.jar:/databricks/jars/----ws_3_3--patched-hive-with-glue--hive-common_filtered--1003103642--org.apache.hive__hive-common__2.3.9.jar:/databricks/jars/----ws_3_3--mvn--hadoop3--com.amazonaws--aws-java-sdk-autoscaling--com.amazonaws__aws-java-sdk-autoscaling__1.12.189.jar:/databricks/jars/----ws_3_3--mvn--hadoop3--org.spark-project.spark--unused--org.spark-project.spark__unused__1.0.0.jar:/databricks/jars/----ws_3_3--safespark--udf--common--udf_grpc-hive-2.3__hadoop-3.2_2.12_deploy.jar:/databricks/jars/third_party--gcs-private--gcs-shaded_common--613432029--org.codehaus.mojo__animal-sniffer-annotations__1.18.jar:/databricks/jars/common--database--trace-sql-log--trace-sql-log-spark_3.3_2.12_deploy.jar:/databricks/jars/common--util--path-spark_3.3_2.12_deploy.jar:/databricks/jars/common--conf--parser--parser-spark_3.3_2.12_deploy.jar:/databricks/jars/----ws_3_3--mvn--hadoop3--com.amazonaws--aws-java-sdk-cloudhsm--com.amazonaws__aws-java-sdk-cloudhsm__1.12.189.jar:/databricks/jars/common--rpc--hooks--require-user-context--require-user-context-spark_3.3_2.12_deploy.jar:/databricks/jars/common--rpc--error-details--error-details-spark_3.3_2.12_deploy.jar:/databricks/jars/third_party--armeria--armeria_shaded--1572094211--com.google.code.findbugs__jsr305__3.0.2.jar:/databricks/jars/third_party--gcs-private--libmeta-services.jar:/databricks/jars/third_party--hadoop-azure-2.7.3-abfs--hadoop-azure-2.7.3-abfs-external-shaded_20180625_3682417-spark_3.3_2.12--1428008859--com.fasterxml.jackson.core__jackson-annotations__2.7.0.jar:/databricks/jars/----ws_3_3--mvn--hadoop3--org.eclipse.jetty.websocket--websocket-client--org.eclipse.jetty.websocket__websocket-client__9.4.46.v20220331.jar:/databricks/jars/third_party--hadoop_gcs--hadoop-connectors--gcs-dependencies-shaded---1862825633--com.google.http-client__google-http-client-jackson2__1.38.0.jar:/databricks/jars/common--jetty--auth--auth-spark_3.3_2.12_deploy.jar:/databricks/jars/third_party--gcp-java--gcp-java_shaded--985403266--com.google.auth__google-auth-library-credentials__1.15.0.jar:/databricks/jars/----ws_3_3--vendor--connect--server--spark_connect_proto_lib_shaded--924162111--com.google.guava__failureaccess__1.0.1.jar:/databricks/jars/common--util--locks-spark_3.3_2.12_deploy.jar:/databricks/jars/----ws_3_3--vendor--protobuf--kafka-protobuf-provider_only_shaded-for-protobuf-hive-2.3__hadoop-3.2--168778437--io.confluent__kafka-protobuf-provider__7.3.0.jar:/databricks/jars/common--http--request--request-spark_3.3_2.12_deploy.jar:/databricks/jars/third_party--gcp-java--gcp-java_shaded--1718847404--io.opencensus__opencensus-api__0.28.0.jar:/databricks/jars/third_party--gcs-private--gcs-shaded_common---1672939599--commons-logging__commons-logging__1.2.jar:/databricks/jars/----ws_3_3--vendor--connect--server--spark_connect_proto_lib_shaded---1980141100--io.grpc__grpc-api__1.45.1.jar:/databricks/jars/cluster-common--storage-context-type-spark_3.3_2.12_deploy.jar:/databricks/jars/common--conf--common--common-spark_3.3_2.12_deploy.jar:/databricks/jars/----ws_3_3--mvn--hadoop3--com.uber--h3--com.uber__h3__3.7.0.jar:/databricks/jars/----ws_3_3--sql--core--core-hive-2.3__hadoop-3.2_2.12_deploy.jar:/databricks/jars/common--jetty--server--server-spark_3.3_2.12_deploy.jar:/databricks/jars/third_party--gcs-private--gcs-shaded_common---331997743--com.google.apis__google-api-services-iamcredentials__v1-rev20201022-1.31.0.jar:/databricks/jars/spark--versions--3.3--spark_2.12_deploy.jar:/databricks/jars/----ws_3_3--third_party--mssql--mssql-hive-2.3__hadoop-3.2_2.12--1458486268--io.netty__netty-handler__4.1.74.Final.jar:/databricks/jars/----ws_3_3--third_party--kinesis-sdk--kinesis-sdk--671438616--software.amazon.awssdk__glue__2.15.32.jar:/databricks/jars/----ws_3_3--mvn--hadoop3--com.fasterxml.jackson.datatype--jackson-datatype-joda--com.fasterxml.jackson.datatype__jackson-datatype-joda__2.13.4.jar:/databricks/jars/----ws_3_3--mvn--hadoop3--io.dropwizard.metrics--metrics-core--io.dropwizard.metrics__metrics-core__4.1.1.jar:/databricks/jars/third_party--opencensus-shaded--opencensus_shaded--1099657916--org.checkerframework__checker-compat-qual__2.5.5.jar:/databricks/jars/third_party--gcs-private--gcs-shaded_common---1203611685--com.google.flogger__google-extensions__0.5.1.jar:/databricks/jars/common--threading--timer--timer-spark_3.3_2.12_deploy.jar:/databricks/jars/third_party--gcp-java--gcp-java_shaded---1669683403--com.google.apis__google-api-services-iamcredentials__v1-rev20210813-1.32.1.jar:/databricks/jars/----ws_3_3--mvn--hadoop3--io.netty--netty-transport-native-unix-common--io.netty__netty-transport-native-unix-common__4.1.74.Final.jar:/databricks/jars/----ws_3_3--mvn--hadoop3--com.twitter--util-function_2.12--com.twitter__util-function_2.12__7.1.0.jar:/databricks/jars/----ws_3_3--mvn--hadoop3--org.eclipse.jetty--jetty-webapp--org.eclipse.jetty__jetty-webapp__9.4.46.v20220331.jar:/databricks/jars/----ws_3_3--mvn--hadoop3--com.github.ben-manes.caffeine--caffeine--com.github.ben-manes.caffeine__caffeine__2.3.4.jar:/databricks/jars/common--util--timestamp-spark_3.3_2.12_deploy.jar:/databricks/jars/----ws_3_3--third_party--kinesis-sdk--kinesis-sdk--1838674649--org.apache.kafka__kafka-streams__2.5.0.jar:/databricks/jars/extern--libaws-regions.jar:/databricks/jars/common--logging--tags--sqlgateway--sqlgateway-spark_3.3_2.12_deploy.jar:/databricks/jars/----ws_3_3--mvn--hadoop3--org.datanucleus--javax.jdo--org.datanucleus__javax.jdo__3.2.0-m3.jar:/databricks/jars/third_party--hadoop-azure-2.7.3-abfs--hadoop-azure-2.7.3-abfs-external-shaded_20180625_3682417-spark_3.3_2.12--776535976--joda-time__joda-time__2.4.jar:/databricks/jars/third_party--hadoop_gcs--hadoop-connectors--gcs-connector-all-shaded-spark_3.3_2.12--1009477437--gcs-connector-spark_3.3_2.12_deploy.jar:/databricks/jars/----ws_3_3--mvn--hadoop3--net.razorvine--pickle--net.razorvine__pickle__1.2.jar:/databricks/jars/common--encryption--cpk-deps-shaded--2084285423--io.netty__netty-resolver-dns__4.1.65.Final.jar:/databricks/jars/----ws_3_3--mvn--hadoop3--javax.activation--activation--javax.activation__activation__1.1.1.jar:/databricks/jars/----ws_3_3--mvn--hadoop3--stax--stax-api--stax__stax-api__1.0.1.jar:/databricks/jars/----ws_3_3--third_party--mssql--mssql-hive-2.3__hadoop-3.2_2.12--819614115--io.netty__netty-transport-native-kqueue-osx-x86_64__4.1.74.Final.jar:/databricks/jars/workflow--workflow-spark_3.3_2.12_deploy.jar:/databricks/jars/----ws_3_3--mvn--hadoop3--com.amazonaws--aws-java-sdk-sqs--com.amazonaws__aws-java-sdk-sqs__1.12.189.jar:/databricks/jars/----ws_3_3--third_party--kinesis-sdk--kinesis-sdk--788213295--software.amazon.awssdk__json-utils__2.17.190.jar:/databricks/jars/third_party--armeria--armeria_shaded---370299530--io.netty__netty-buffer__4.1.77.Final.jar:/databricks/jars/common--threading--idle-indicator--idle-indicator-spark_3.3_2.12_deploy.jar:/databricks/jars/secret-manager--api--api-spark_3.3_2.12_deploy.jar:/databricks/jars/third_party--gcp-java--gcp-java_shaded---1661035408--io.grpc__grpc-netty-shaded__1.34.1.jar:/databricks/jars/common--logging--log-level-control--log-level-control-spark_3.3_2.12_deploy.jar:/databricks/jars/common--util--named-spark_3.3_2.12_deploy.jar:/databricks/jars/common--logging--metrics--combined--relevant-spark_3.3_2.12_deploy.jar:/databricks/jars/----ws_3_3--vendor--connect--server--spark_connect_proto_lib_shaded--1928460320--io.netty__netty-codec__4.1.77.Final.jar:/databricks/jars/third_party--armeria--armeria_shaded--14135965--com.google.api.grpc__proto-google-common-protos__2.0.1.jar:/databricks/jars/common--instrumentation_utils--instrumentation_utils-spark_3.3_2.12_deploy.jar:/databricks/driver/kafka_2.12-3.5.1/bin/../libs/activation-1.1.1.jar:/databricks/driver/kafka_2.12-3.5.1/bin/../libs/aopalliance-repackaged-2.6.1.jar:/databricks/driver/kafka_2.12-3.5.1/bin/../libs/argparse4j-0.7.0.jar:/databricks/driver/kafka_2.12-3.5.1/bin/../libs/audience-annotations-0.13.0.jar:/databricks/driver/kafka_2.12-3.5.1/bin/../libs/commons-cli-1.4.jar:/databricks/driver/kafka_2.12-3.5.1/bin/../libs/commons-lang3-3.8.1.jar:/databricks/driver/kafka_2.12-3.5.1/bin/../libs/connect-api-3.5.1.jar:/databricks/driver/kafka_2.12-3.5.1/bin/../libs/connect-basic-auth-extension-3.5.1.jar:/databricks/driver/kafka_2.12-3.5.1/bin/../libs/connect-json-3.5.1.jar:/databricks/driver/kafka_2.12-3.5.1/bin/../libs/connect-mirror-3.5.1.jar:/databricks/driver/kafka_2.12-3.5.1/bin/../libs/connect-mirror-client-3.5.1.jar:/databricks/driver/kafka_2.12-3.5.1/bin/../libs/connect-runtime-3.5.1.jar:/databricks/driver/kafka_2.12-3.5.1/bin/../libs/connect-transforms-3.5.1.jar:/databricks/driver/kafka_2.12-3.5.1/bin/../libs/hk2-api-2.6.1.jar:/databricks/driver/kafka_2.12-3.5.1/bin/../libs/hk2-locator-2.6.1.jar:/databricks/driver/kafka_2.12-3.5.1/bin/../libs/hk2-utils-2.6.1.jar:/databricks/driver/kafka_2.12-3.5.1/bin/../libs/jackson-annotations-2.13.5.jar:/databricks/driver/kafka_2.12-3.5.1/bin/../libs/jackson-core-2.13.5.jar:/databricks/driver/kafka_2.12-3.5.1/bin/../libs/jackson-databind-2.13.5.jar:/databricks/driver/kafka_2.12-3.5.1/bin/../libs/jackson-dataformat-csv-2.13.5.jar:/databricks/driver/kafka_2.12-3.5.1/bin/../libs/jackson-datatype-jdk8-2.13.5.jar:/databricks/driver/kafka_2.12-3.5.1/bin/../libs/jackson-jaxrs-base-2.13.5.jar:/databricks/driver/kafka_2.12-3.5.1/bin/../libs/jackson-jaxrs-json-provider-2.13.5.jar:/databricks/driver/kafka_2.12-3.5.1/bin/../libs/jackson-module-jaxb-annotations-2.13.5.jar:/databricks/driver/kafka_2.12-3.5.1/bin/../libs/jackson-module-scala_2.12-2.13.5.jar:/databricks/driver/kafka_2.12-3.5.1/bin/../libs/jakarta.activation-api-1.2.2.jar:/databricks/driver/kafka_2.12-3.5.1/bin/../libs/jakarta.annotation-api-1.3.5.jar:/databricks/driver/kafka_2.12-3.5.1/bin/../libs/jakarta.inject-2.6.1.jar:/databricks/driver/kafka_2.12-3.5.1/bin/../libs/jakarta.validation-api-2.0.2.jar:/databricks/driver/kafka_2.12-3.5.1/bin/../libs/jakarta.ws.rs-api-2.1.6.jar:/databricks/driver/kafka_2.12-3.5.1/bin/../libs/jakarta.xml.bind-api-2.3.3.jar:/databricks/driver/kafka_2.12-3.5.1/bin/../libs/javassist-3.29.2-GA.jar:/databricks/driver/kafka_2.12-3.5.1/bin/../libs/javax.activation-api-1.2.0.jar:/databricks/driver/kafka_2.12-3.5.1/bin/../libs/javax.annotation-api-1.3.2.jar:/databricks/driver/kafka_2.12-3.5.1/bin/../libs/javax.servlet-api-3.1.0.jar:/databricks/driver/kafka_2.12-3.5.1/bin/../libs/javax.ws.rs-api-2.1.1.jar:/databricks/driver/kafka_2.12-3.5.1/bin/../libs/jaxb-api-2.3.1.jar:/databricks/driver/kafka_2.12-3.5.1/bin/../libs/jersey-client-2.39.1.jar:/databricks/driver/kafka_2.12-3.5.1/bin/../libs/jersey-common-2.39.1.jar:/databricks/driver/kafka_2.12-3.5.1/bin/../libs/jersey-container-servlet-2.39.1.jar:/databricks/driver/kafka_2.12-3.5.1/bin/../libs/jersey-container-servlet-core-2.39.1.jar:/databricks/driver/kafka_2.12-3.5.1/bin/../libs/jersey-hk2-2.39.1.jar:/databricks/driver/kafka_2.12-3.5.1/bin/../libs/jersey-server-2.39.1.jar:/databricks/driver/kafka_2.12-3.5.1/bin/../libs/jetty-client-9.4.51.v20230217.jar:/databricks/driver/kafka_2.12-3.5.1/bin/../libs/jetty-continuation-9.4.51.v20230217.jar:/databricks/driver/kafka_2.12-3.5.1/bin/../libs/jetty-http-9.4.51.v20230217.jar:/databricks/driver/kafka_2.12-3.5.1/bin/../libs/jetty-io-9.4.51.v20230217.jar:/databricks/driver/kafka_2.12-3.5.1/bin/../libs/jetty-security-9.4.51.v20230217.jar:/databricks/driver/kafka_2.12-3.5.1/bin/../libs/jetty-server-9.4.51.v20230217.jar:/databricks/driver/kafka_2.12-3.5.1/bin/../libs/jetty-servlet-9.4.51.v20230217.jar:/databricks/driver/kafka_2.12-3.5.1/bin/../libs/jetty-servlets-9.4.51.v20230217.jar:/databricks/driver/kafka_2.12-3.5.1/bin/../libs/jetty-util-9.4.51.v20230217.jar:/databricks/driver/kafka_2.12-3.5.1/bin/../libs/jetty-util-ajax-9.4.51.v20230217.jar:/databricks/driver/kafka_2.12-3.5.1/bin/../libs/jline-3.22.0.jar:/databricks/driver/kafka_2.12-3.5.1/bin/../libs/jopt-simple-5.0.4.jar:/databricks/driver/kafka_2.12-3.5.1/bin/../libs/jose4j-0.9.3.jar:/databricks/driver/kafka_2.12-3.5.1/bin/../libs/kafka-clients-3.5.1.jar:/databricks/driver/kafka_2.12-3.5.1/bin/../libs/kafka-group-coordinator-3.5.1.jar:/databricks/driver/kafka_2.12-3.5.1/bin/../libs/kafka-log4j-appender-3.5.1.jar:/databricks/driver/kafka_2.12-3.5.1/bin/../libs/kafka-metadata-3.5.1.jar:/databricks/driver/kafka_2.12-3.5.1/bin/../libs/kafka-raft-3.5.1.jar:/databricks/driver/kafka_2.12-3.5.1/bin/../libs/kafka-server-common-3.5.1.jar:/databricks/driver/kafka_2.12-3.5.1/bin/../libs/kafka-shell-3.5.1.jar:/databricks/driver/kafka_2.12-3.5.1/bin/../libs/kafka-storage-3.5.1.jar:/databricks/driver/kafka_2.12-3.5.1/bin/../libs/kafka-storage-api-3.5.1.jar:/databricks/driver/kafka_2.12-3.5.1/bin/../libs/kafka-streams-3.5.1.jar:/databricks/driver/kafka_2.12-3.5.1/bin/../libs/kafka-streams-examples-3.5.1.jar:/databricks/driver/kafka_2.12-3.5.1/bin/../libs/kafka-streams-scala_2.12-3.5.1.jar:/databricks/driver/kafka_2.12-3.5.1/bin/../libs/kafka-streams-test-utils-3.5.1.jar:/databricks/driver/kafka_2.12-3.5.1/bin/../libs/kafka-tools-3.5.1.jar:/databricks/driver/kafka_2.12-3.5.1/bin/../libs/kafka-tools-api-3.5.1.jar:/databricks/driver/kafka_2.12-3.5.1/bin/../libs/kafka_2.12-3.5.1.jar:/databricks/driver/kafka_2.12-3.5.1/bin/../libs/lz4-java-1.8.0.jar:/databricks/driver/kafka_2.12-3.5.1/bin/../libs/maven-artifact-3.8.8.jar:/databricks/driver/kafka_2.12-3.5.1/bin/../libs/metrics-core-2.2.0.jar:/databricks/driver/kafka_2.12-3.5.1/bin/../libs/metrics-core-4.1.12.1.jar:/databricks/driver/kafka_2.12-3.5.1/bin/../libs/netty-buffer-4.1.94.Final.jar:/databricks/driver/kafka_2.12-3.5.1/bin/../libs/netty-codec-4.1.94.Final.jar:/databricks/driver/kafka_2.12-3.5.1/bin/../libs/netty-common-4.1.94.Final.jar:/databricks/driver/kafka_2.12-3.5.1/bin/../libs/netty-handler-4.1.94.Final.jar:/databricks/driver/kafka_2.12-3.5.1/bin/../libs/netty-resolver-4.1.94.Final.jar:/databricks/driver/kafka_2.12-3.5.1/bin/../libs/netty-transport-4.1.94.Final.jar:/databricks/driver/kafka_2.12-3.5.1/bin/../libs/netty-transport-classes-epoll-4.1.94.Final.jar:/databricks/driver/kafka_2.12-3.5.1/bin/../libs/netty-transport-native-epoll-4.1.94.Final.jar:/databricks/driver/kafka_2.12-3.5.1/bin/../libs/netty-transport-native-unix-common-4.1.94.Final.jar:/databricks/driver/kafka_2.12-3.5.1/bin/../libs/osgi-resource-locator-1.0.3.jar:/databricks/driver/kafka_2.12-3.5.1/bin/../libs/paranamer-2.8.jar:/databricks/driver/kafka_2.12-3.5.1/bin/../libs/plexus-utils-3.3.1.jar:/databricks/driver/kafka_2.12-3.5.1/bin/../libs/reflections-0.9.12.jar:/databricks/driver/kafka_2.12-3.5.1/bin/../libs/reload4j-1.2.25.jar:/databricks/driver/kafka_2.12-3.5.1/bin/../libs/rocksdbjni-7.1.2.jar:/databricks/driver/kafka_2.12-3.5.1/bin/../libs/scala-collection-compat_2.12-2.10.0.jar:/databricks/driver/kafka_2.12-3.5.1/bin/../libs/scala-java8-compat_2.12-1.0.2.jar:/databricks/driver/kafka_2.12-3.5.1/bin/../libs/scala-library-2.12.15.jar:/databricks/driver/kafka_2.12-3.5.1/bin/../libs/scala-logging_2.12-3.9.4.jar:/databricks/driver/kafka_2.12-3.5.1/bin/../libs/scala-reflect-2.12.15.jar:/databricks/driver/kafka_2.12-3.5.1/bin/../libs/slf4j-api-1.7.36.jar:/databricks/driver/kafka_2.12-3.5.1/bin/../libs/slf4j-reload4j-1.7.36.jar:/databricks/driver/kafka_2.12-3.5.1/bin/../libs/snappy-java-1.1.10.1.jar:/databricks/driver/kafka_2.12-3.5.1/bin/../libs/swagger-annotations-2.2.8.jar:/databricks/driver/kafka_2.12-3.5.1/bin/../libs/trogdor-3.5.1.jar:/databricks/driver/kafka_2.12-3.5.1/bin/../libs/zookeeper-3.6.4.jar:/databricks/driver/kafka_2.12-3.5.1/bin/../libs/zookeeper-jute-3.6.4.jar:/databricks/driver/kafka_2.12-3.5.1/bin/../libs/zstd-jni-1.5.5-1.jar (org.apache.zookeeper.server.ZooKeeperServer)\n[2023-10-04 22:24:14,191] INFO Server environment:java.library.path=/usr/java/packages/lib/amd64:/usr/lib64:/lib64:/lib:/usr/lib (org.apache.zookeeper.server.ZooKeeperServer)\n[2023-10-04 22:24:14,192] INFO Server environment:java.io.tmpdir=/tmp (org.apache.zookeeper.server.ZooKeeperServer)\n[2023-10-04 22:24:14,193] INFO Server environment:java.compiler=<NA> (org.apache.zookeeper.server.ZooKeeperServer)\n[2023-10-04 22:24:14,193] INFO Server environment:os.name=Linux (org.apache.zookeeper.server.ZooKeeperServer)\n[2023-10-04 22:24:14,193] INFO Server environment:os.arch=amd64 (org.apache.zookeeper.server.ZooKeeperServer)\n[2023-10-04 22:24:14,193] INFO Server environment:os.version=5.15.0-1043-aws (org.apache.zookeeper.server.ZooKeeperServer)\n[2023-10-04 22:24:14,193] INFO Server environment:user.name=root (org.apache.zookeeper.server.ZooKeeperServer)\n[2023-10-04 22:24:14,193] INFO Server environment:user.home=/root (org.apache.zookeeper.server.ZooKeeperServer)\n[2023-10-04 22:24:14,193] INFO Server environment:user.dir=/databricks/driver (org.apache.zookeeper.server.ZooKeeperServer)\n[2023-10-04 22:24:14,194] INFO Server environment:os.memory.free=437MB (org.apache.zookeeper.server.ZooKeeperServer)\n[2023-10-04 22:24:14,194] INFO Server environment:os.memory.max=512MB (org.apache.zookeeper.server.ZooKeeperServer)\n[2023-10-04 22:24:14,194] INFO Server environment:os.memory.total=512MB (org.apache.zookeeper.server.ZooKeeperServer)\n[2023-10-04 22:24:14,194] INFO zookeeper.enableEagerACLCheck = false (org.apache.zookeeper.server.ZooKeeperServer)\n[2023-10-04 22:24:14,194] INFO zookeeper.digest.enabled = true (org.apache.zookeeper.server.ZooKeeperServer)\n[2023-10-04 22:24:14,196] INFO zookeeper.closeSessionTxn.enabled = true (org.apache.zookeeper.server.ZooKeeperServer)\n[2023-10-04 22:24:14,196] INFO zookeeper.flushDelay=0 (org.apache.zookeeper.server.ZooKeeperServer)\n[2023-10-04 22:24:14,196] INFO zookeeper.maxWriteQueuePollTime=0 (org.apache.zookeeper.server.ZooKeeperServer)\n[2023-10-04 22:24:14,197] INFO zookeeper.maxBatchSize=1000 (org.apache.zookeeper.server.ZooKeeperServer)\n[2023-10-04 22:24:14,198] INFO zookeeper.intBufferStartingSizeBytes = 1024 (org.apache.zookeeper.server.ZooKeeperServer)\n[2023-10-04 22:24:14,213] INFO Weighed connection throttling is disabled (org.apache.zookeeper.server.BlueThrottle)\n[2023-10-04 22:24:14,230] INFO minSessionTimeout set to 6000 (org.apache.zookeeper.server.ZooKeeperServer)\n[2023-10-04 22:24:14,230] INFO maxSessionTimeout set to 60000 (org.apache.zookeeper.server.ZooKeeperServer)\n[2023-10-04 22:24:14,240] INFO Response cache size is initialized with value 400. (org.apache.zookeeper.server.ResponseCache)\n[2023-10-04 22:24:14,240] INFO Response cache size is initialized with value 400. (org.apache.zookeeper.server.ResponseCache)\n[2023-10-04 22:24:14,250] INFO zookeeper.pathStats.slotCapacity = 60 (org.apache.zookeeper.server.util.RequestPathMetricsCollector)\n[2023-10-04 22:24:14,250] INFO zookeeper.pathStats.slotDuration = 15 (org.apache.zookeeper.server.util.RequestPathMetricsCollector)\n[2023-10-04 22:24:14,250] INFO zookeeper.pathStats.maxDepth = 6 (org.apache.zookeeper.server.util.RequestPathMetricsCollector)\n[2023-10-04 22:24:14,251] INFO zookeeper.pathStats.initialDelay = 5 (org.apache.zookeeper.server.util.RequestPathMetricsCollector)\n[2023-10-04 22:24:14,252] INFO zookeeper.pathStats.delay = 5 (org.apache.zookeeper.server.util.RequestPathMetricsCollector)\n[2023-10-04 22:24:14,253] INFO zookeeper.pathStats.enabled = false (org.apache.zookeeper.server.util.RequestPathMetricsCollector)\n[2023-10-04 22:24:14,262] INFO The max bytes for all large requests are set to 104857600 (org.apache.zookeeper.server.ZooKeeperServer)\n[2023-10-04 22:24:14,262] INFO The large request threshold is set to -1 (org.apache.zookeeper.server.ZooKeeperServer)\n[2023-10-04 22:24:14,262] INFO Created server with tickTime 3000 minSessionTimeout 6000 maxSessionTimeout 60000 clientPortListenBacklog -1 datadir /tmp/zookeeper/version-2 snapdir /tmp/zookeeper/version-2 (org.apache.zookeeper.server.ZooKeeperServer)\n[2023-10-04 22:24:14,308] INFO Using org.apache.zookeeper.server.NIOServerCnxnFactory as server connection factory (org.apache.zookeeper.server.ServerCnxnFactory)\n[2023-10-04 22:24:14,310] WARN maxCnxns is not configured, using default value 0. (org.apache.zookeeper.server.ServerCnxnFactory)\n[2023-10-04 22:24:14,322] INFO Configuring NIO connection handler with 10s sessionless connection timeout, 1 selector thread(s), 4 worker threads, and 64 kB direct buffers. (org.apache.zookeeper.server.NIOServerCnxnFactory)\n[2023-10-04 22:24:14,343] INFO binding to port 0.0.0.0/0.0.0.0:2181 (org.apache.zookeeper.server.NIOServerCnxnFactory)\n[2023-10-04 22:24:14,454] INFO Using org.apache.zookeeper.server.watch.WatchManager as watch manager (org.apache.zookeeper.server.watch.WatchManagerFactory)\n[2023-10-04 22:24:14,454] INFO Using org.apache.zookeeper.server.watch.WatchManager as watch manager (org.apache.zookeeper.server.watch.WatchManagerFactory)\n[2023-10-04 22:24:14,455] INFO zookeeper.snapshotSizeFactor = 0.33 (org.apache.zookeeper.server.ZKDatabase)\n[2023-10-04 22:24:14,455] INFO zookeeper.commitLogCount=500 (org.apache.zookeeper.server.ZKDatabase)\n[2023-10-04 22:24:14,499] INFO zookeeper.snapshot.compression.method = CHECKED (org.apache.zookeeper.server.persistence.SnapStream)\n[2023-10-04 22:24:14,499] INFO Snapshotting: 0x0 to /tmp/zookeeper/version-2/snapshot.0 (org.apache.zookeeper.server.persistence.FileTxnSnapLog)\n[2023-10-04 22:24:14,559] INFO Snapshot loaded in 104 ms, highest zxid is 0x0, digest is 1371985504 (org.apache.zookeeper.server.ZKDatabase)\n[2023-10-04 22:24:14,561] INFO Snapshotting: 0x0 to /tmp/zookeeper/version-2/snapshot.0 (org.apache.zookeeper.server.persistence.FileTxnSnapLog)\n[2023-10-04 22:24:14,563] INFO Snapshot taken in 2 ms (org.apache.zookeeper.server.ZooKeeperServer)\n[2023-10-04 22:24:14,632] INFO PrepRequestProcessor (sid:0) started, reconfigEnabled=false (org.apache.zookeeper.server.PrepRequestProcessor)\n[2023-10-04 22:24:14,635] INFO zookeeper.request_throttler.shutdownTimeout = 10000 (org.apache.zookeeper.server.RequestThrottler)\n[2023-10-04 22:24:14,677] INFO Using checkIntervalMs=60000 maxPerMinute=10000 maxNeverUsedIntervalMs=0 (org.apache.zookeeper.server.ContainerManager)\n[2023-10-04 22:24:14,680] INFO ZooKeeper audit is disabled. (org.apache.zookeeper.audit.ZKAuditProvider)\n"
     ]
    },
    {
     "output_type": "display_data",
     "data": {
      "text/html": [
       "<style scoped>\n",
       "  .ansiout {\n",
       "    display: block;\n",
       "    unicode-bidi: embed;\n",
       "    white-space: pre-wrap;\n",
       "    word-wrap: break-word;\n",
       "    word-break: break-all;\n",
       "    font-family: \"Source Code Pro\", \"Menlo\", monospace;;\n",
       "    font-size: 13px;\n",
       "    color: #555;\n",
       "    margin-left: 4px;\n",
       "    line-height: 19px;\n",
       "  }\n",
       "</style>"
      ]
     },
     "metadata": {
      "application/vnd.databricks.v1+output": {
       "arguments": {},
       "data": "",
       "errorSummary": "Cancelled",
       "errorTraceType": "html",
       "metadata": {},
       "type": "ipynbError"
      }
     },
     "output_type": "display_data"
    }
   ],
   "source": [
    "%sh\n",
    "./kafka_2.12-3.5.1/bin/zookeeper-server-start.sh ./kafka_2.12-3.5.1/config/zookeeper.properties"
   ]
  },
  {
   "cell_type": "markdown",
   "metadata": {
    "application/vnd.databricks.v1+cell": {
     "cellMetadata": {},
     "inputWidgets": {},
     "nuid": "992e0974-ac5b-4dd6-ba60-bdf9c9d4a841",
     "showTitle": false,
     "title": ""
    }
   },
   "source": [
    "Chamada do Server do Kafka"
   ]
  },
  {
   "cell_type": "code",
   "execution_count": 0,
   "metadata": {
    "application/vnd.databricks.v1+cell": {
     "cellMetadata": {
      "byteLimit": 2048000,
      "rowLimit": 10000
     },
     "inputWidgets": {},
     "nuid": "e3100d1e-0089-4650-a777-734b5ab36a17",
     "showTitle": false,
     "title": ""
    }
   },
   "outputs": [
    {
     "output_type": "stream",
     "name": "stdout",
     "output_type": "stream",
     "text": [
      "SLF4J: Class path contains multiple SLF4J bindings.\nSLF4J: Found binding in [jar:file:/databricks/jars/----ws_3_3--mvn--hadoop3--org.apache.logging.log4j--log4j-slf4j-impl--org.apache.logging.log4j__log4j-slf4j-impl__2.18.0.jar!/org/slf4j/impl/StaticLoggerBinder.class]\nSLF4J: Found binding in [jar:file:/databricks/driver/kafka_2.12-3.5.1/libs/slf4j-reload4j-1.7.36.jar!/org/slf4j/impl/StaticLoggerBinder.class]\nSLF4J: See http://www.slf4j.org/codes.html#multiple_bindings for an explanation.\nSLF4J: Actual binding is of type [org.apache.logging.slf4j.Log4jLoggerFactory]\n[2023-10-04 22:25:38,613] INFO Registered kafka:type=kafka.Log4jController MBean (kafka.utils.Log4jControllerRegistration$)\n[2023-10-04 22:25:39,604] INFO Setting -D jdk.tls.rejectClientInitiatedRenegotiation=true to disable client-initiated TLS renegotiation (org.apache.zookeeper.common.X509Util)\n[2023-10-04 22:25:39,902] INFO Registered signal handlers for TERM, INT, HUP (org.apache.kafka.common.utils.LoggingSignalHandler)\n[2023-10-04 22:25:39,908] INFO starting (kafka.server.KafkaServer)\n[2023-10-04 22:25:39,909] INFO Connecting to zookeeper on localhost:2181 (kafka.server.KafkaServer)\n[2023-10-04 22:25:39,981] INFO [ZooKeeperClient Kafka server] Initializing a new session to localhost:2181. (kafka.zookeeper.ZooKeeperClient)\n[2023-10-04 22:25:40,001] INFO Client environment:zookeeper.version=3.6.2--803c7f1a12f85978cb049af5e4ef23bd8b688715, built on 09/04/2020 12:44 GMT (org.apache.zookeeper.ZooKeeper)\n[2023-10-04 22:25:40,001] INFO Client environment:host.name=1004-220816-n9d493lx-10-172-230-18 (org.apache.zookeeper.ZooKeeper)\n[2023-10-04 22:25:40,001] INFO Client environment:java.version=1.8.0_362 (org.apache.zookeeper.ZooKeeper)\n[2023-10-04 22:25:40,001] INFO Client environment:java.vendor=Azul Systems, Inc. (org.apache.zookeeper.ZooKeeper)\n[2023-10-04 22:25:40,001] INFO Client environment:java.home=/usr/lib/jvm/zulu8-ca-amd64/jre (org.apache.zookeeper.ZooKeeper)\n[2023-10-04 22:25:40,002] INFO Client environment:java.class.path=/databricks/spark/dbconf/jets3t/:/databricks/spark/dbconf/log4j/driver:/databricks/hive/conf:/databricks/spark/dbconf/hadoop:/databricks/jars/----ws_3_3--mvn--hadoop3--org.slf4j--jcl-over-slf4j--org.slf4j__jcl-over-slf4j__1.7.36.jar:/databricks/jars/common--conf--log--log-spark_3.3_2.12_deploy.jar:/databricks/jars/common--shutdown-hook-manager--shutdown-hook-manager-spark_3.3_2.12_deploy.jar:/databricks/jars/common--encryption--cpk-deps-shaded---577814894--io.projectreactor.netty__reactor-netty-core__1.0.9.jar:/databricks/jars/third_party--hadoop-azure-2.7.3-abfs--hadoop-azure-2.7.3-abfs-external-shaded_20180625_3682417-spark_3.3_2.12--1908666790--com.squareup.retrofit2__converter-jackson__2.1.0.jar:/databricks/jars/proto--logs--activity--config-manager--config_manager_service_proto-spark_3.3_2.12-scalabp.jar:/databricks/jars/----ws_3_3--mvn--hadoop3--org.apache.arrow--arrow-vector--org.apache.arrow__arrow-vector__7.0.0.jar:/databricks/jars/----ws_3_3--mvn--hadoop3--io.prometheus--simpleclient_pushgateway--io.prometheus__simpleclient_pushgateway__0.7.0.jar:/databricks/jars/api-base--proto--error_code_proto-spark_3.3_2.12-scalabp.jar:/databricks/jars/----ws_3_3--mvn--hadoop3--org.apache.avro--avro-ipc--org.apache.avro__avro-ipc__1.11.0.jar:/databricks/jars/third_party--hadoop-azure-2.7.3-abfs--hadoop-azure-2.7.3-abfs-external-shaded_20180625_3682417-spark_3.3_2.12---1345432102--commons-codec__commons-codec__1.11.jar:/databricks/jars/----ws_3_3--mvn--hadoop3--org.glassfish.hk2.external--jakarta.inject--org.glassfish.hk2.external__jakarta.inject__2.6.1.jar:/databricks/jars/third_party--grpc-netty--grpc-netty_shaded---1083310950--io.netty__netty-codec-stomp__4.1.77.Final.jar:/databricks/jars/----ws_3_3--vendor--connect--server--spark_connect_proto_lib_shaded---578504376--com.google.j2objc__j2objc-annotations__1.3.jar:/databricks/jars/common--database--backoff-manager--backoff-manager-spark_3.3_2.12_deploy.jar:/databricks/jars/----ws_3_3--mvn--hadoop3--org.glassfish.jersey.core--jersey-server--org.glassfish.jersey.core__jersey-server__2.36.jar:/databricks/jars/----ws_3_3--mvn--hadoop3--com.google.guava--guava--com.google.guava__guava__15.0.jar:/databricks/jars/third_party--gcs-private--gcs-shaded_common--1823414462--io.grpc__grpc-protobuf-lite__1.37.0.jar:/databricks/jars/----ws_3_3--mvn--hadoop3--org.yaml--snakeyaml--org.yaml__snakeyaml__1.24.jar:/databricks/jars/third_party--armeria--armeria_shaded--1870423252--io.netty__netty-handler__4.1.77.Final.jar:/databricks/jars/----ws_3_3--common--network-common--network-common-hive-2.3__hadoop-3.2_2.12_deploy.jar:/databricks/jars/third_party--hadoop_gcs--hadoop-connectors--gcs-dependencies-shaded---2116212680--io.grpc__grpc-auth__1.37.0.jar:/databricks/jars/third_party--hadoop-azure-2.7.3-abfs--hadoop-azure-2.7.3-abfs-external-shaded_20180625_3682417-spark_3.3_2.12--2018709740--javax.xml.stream__stax-api__1.0-2.jar:/databricks/jars/third_party--opencensus-shaded--opencensus_shaded---439494304--io.opentracing__opentracing-noop__0.31.0.jar:/databricks/jars/common--chauffeur--testutil--testutil-spark_3.3_2.12_deploy.jar:/databricks/jars/----ws_3_3--third_party--mssql--mssql-hive-2.3__hadoop-3.2_2.12---412092703--io.projectreactor__reactor-core__3.4.19.jar:/databricks/jars/----ws_3_3--core--libcore_generated_resources.jar:/databricks/jars/third_party--grpc-netty--grpc-netty_shaded--899745566--io.netty__netty-codec-haproxy__4.1.77.Final.jar:/databricks/jars/third_party--gcp-java--gcp-java_shaded--1493944588--io.grpc__grpc-api__1.34.1.jar:/databricks/jars/common--util--execution-spark_3.3_2.12_deploy.jar:/databricks/jars/third_party--gcp-java--gcp-java_shaded---1661039946--com.google.apis__google-api-services-servicecontrol__v1-rev20201207-1.31.0.jar:/databricks/jars/third_party--gcs-private--gcs-shaded_common---1359320259--io.grpc__grpc-context__1.32.1.jar:/databricks/jars/----ws_3_3--third_party--mssql--mssql-hive-2.3__hadoop-3.2_2.12---613269126--com.nimbusds__content-type__2.2.jar:/databricks/jars/utils--process_utils-spark_3.3_2.12_deploy.jar:/databricks/jars/----ws_3_3--mvn--hadoop3--org.scala-sbt--test-interface--org.scala-sbt__test-interface__1.0.jar:/databricks/jars/common--testing--testing-spark_3.3_2.12_deploy.jar:/databricks/jars/third_party--armeria--armeria_shaded---924439155--net.bytebuddy__byte-buddy__1.12.6.jar:/databricks/jars/third_party--grpc-netty--grpc-netty_shaded---909875842--io.netty__netty-transport-native-unix-common__4.1.77.Final.jar:/databricks/jars/common--encryption--cpk-deps-shaded---577661061--io.projectreactor.netty__reactor-netty-http__1.0.9.jar:/databricks/jars/common--logging--audit--response-spark_3.3_2.12_deploy.jar:/databricks/jars/spark--sql-extension--sql-extension-spark_3.3_2.12_deploy.jar:/databricks/jars/third_party--hadoop_gcs--hadoop-connectors--gcs-dependencies-shaded--2140377771--com.google.guava__failureaccess__1.0.1.jar:/databricks/jars/----ws_3_3--third_party--mssql--mssql-hive-2.3__hadoop-3.2_2.12---407334024--io.projectreactor.netty__reactor-netty-core__1.0.20.jar:/databricks/jars/----ws_3_3--vendor--connect--server--spark_connect_proto_lib_shaded--2124703135--common-files-hive-2.3__hadoop-3.2_2.12_deploy.jar:/databricks/jars/common--logging--log4j--log4j-spark_3.3_2.12_deploy.jar:/databricks/jars/jsonutil--jsonutil-spark_3.3_2.12_deploy.jar:/databricks/jars/----ws_3_3--mvn--hadoop3--io.dropwizard.metrics--metrics-jvm--io.dropwizard.metrics__metrics-jvm__4.1.1.jar:/databricks/jars/----ws_3_3--third_party--kinesis-sdk--kinesis-sdk---2059345175--software.amazon.awssdk__third-party-jackson-core__2.17.190.jar:/databricks/jars/common--java-flight-recorder--java-flight-recorder-spark_3.3_2.12_deploy.jar:/databricks/jars/common--sisyphus--client--client-spark_3.3_2.12_deploy.jar:/databricks/jars/----ws_3_3--mvn--hadoop3--com.amazonaws--aws-java-sdk-opsworks--com.amazonaws__aws-java-sdk-opsworks__1.12.189.jar:/databricks/jars/third_party--gcp-java--gcp-java_shaded---1812183151--com.google.api-client__google-api-client__1.34.0.jar:/databricks/jars/third_party--gcs-private--gcs-shaded_common--1447657062--com.google.auth__google-auth-library-credentials__0.22.2.jar:/databricks/jars/common--instrumentation--info-service--info-service-spark_3.3_2.12_deploy.jar:/databricks/jars/----ws_3_3--mvn--hadoop3--org.apache.hive.shims--hive-shims-common--org.apache.hive.shims__hive-shims-common__2.3.9.jar:/databricks/jars/third_party--armeria--armeria_shaded--2134638174--io.micrometer__micrometer-registry-prometheus__1.8.5.jar:/databricks/jars/third_party--grpc-netty--grpc-netty_shaded---558670162--io.netty__netty-transport-rxtx__4.1.77.Final.jar:/databricks/jars/third_party--hadoop-azure-2.7.3-abfs--hadoop-azure-2.7.3-abfs-external-shaded_20180625_3682417-spark_3.3_2.12---772164550--org.apache.htrace__htrace-core__3.1.0-incubating.jar:/databricks/jars/libraries--libraries-spark_3.3_2.12_deploy.jar:/databricks/jars/common--encryption--cpk-deps-shaded---460269792--com.nimbusds__content-type__2.1.jar:/databricks/jars/common--jetty--request--request-spark_3.3_2.12_deploy.jar:/databricks/jars/----ws_3_3--mvn--hadoop3--com.amazonaws--aws-java-sdk-redshift--com.amazonaws__aws-java-sdk-redshift__1.12.189.jar:/databricks/jars/----ws_3_3--mvn--hadoop3--com.amazonaws--aws-java-sdk-ec2--com.amazonaws__aws-java-sdk-ec2__1.12.189.jar:/databricks/jars/cluster-common--future-utils-spark_3.3_2.12_deploy.jar:/databricks/jars/common--cluster--global-init-script--global-init-script-spark_3.3_2.12_deploy.jar:/databricks/jars/third_party--gcp-java--gcp-java_shaded--1574518989--commons-logging__commons-logging__1.2.jar:/databricks/jars/common--jws-data--jws-data-spark_3.3_2.12_deploy.jar:/databricks/jars/----ws_3_3--mvn--hadoop3--org.apache.parquet--parquet-column--org.apache.parquet__parquet-column__1.12.3-databricks-0008.jar:/databricks/jars/----ws_3_3--third_party--mssql--mssql-hive-2.3__hadoop-3.2_2.12---580136220--com.microsoft.sqlserver__mssql-jdbc__11.2.2.jre8.jar:/databricks/jars/----ws_3_3--vendor--connect--server--spark_connect_proto_lib_shaded--887644477--com.google.guava__listenablefuture__9999.0-empty-to-avoid-conflict-with-guava.jar:/databricks/jars/----ws_3_3--mvn--hadoop3--com.amazonaws--aws-java-sdk-cognitoidentity--com.amazonaws__aws-java-sdk-cognitoidentity__1.12.189.jar:/databricks/jars/third_party--gcp-java--gcp-java_shaded---1843136381--com.google.apis__google-api-services-networkmanagement__v1-rev20200505-1.30.10.jar:/databricks/jars/third_party--armeria--armeria_shaded---232817040--org.checkerframework__checker-compat-qual__2.5.5.jar:/databricks/jars/common--logging--stats--stats-spark_3.3_2.12_deploy.jar:/databricks/jars/----ws_3_3--mvn--hadoop3--org.glassfish.hk2--hk2-api--org.glassfish.hk2__hk2-api__2.6.1.jar:/databricks/jars/----ws_3_3--mvn--hadoop3--com.amazonaws--aws-java-sdk-machinelearning--com.amazonaws__aws-java-sdk-machinelearning__1.12.189.jar:/databricks/jars/third_party--jsonwebtoken--jsonwebtoken_shaded---1593727658--com.fasterxml.jackson.core__jackson-annotations__2.9.10.jar:/databricks/jars/common--rate-limiter--rate-limiter-spark_3.3_2.12_deploy.jar:/databricks/jars/----ws_3_3--vendor--spark-ganglia-lgpl--libmetrics-ganglia.jar:/databricks/jars/common--conf--materializer--materializer-spark_3.3_2.12_deploy.jar:/databricks/jars/third_party--gcs-private--gcs-shaded_common--388892605--io.grpc__grpc-protobuf__1.37.0.jar:/databricks/jars/common--database--exceptions--exceptions-spark_3.3_2.12_deploy.jar:/databricks/jars/third_party--grpc-netty--grpc-netty_shaded--1401295332--io.netty__netty-codec-memcache__4.1.77.Final.jar:/databricks/jars/proto--logs--activity--webapp--webapp_service_proto-spark_3.3_2.12-scalabp.jar:/databricks/jars/----ws_3_3--third_party--kinesis-sdk--kinesis-sdk--958489554--software.amazon.awssdk__aws-core__2.17.190.jar:/databricks/jars/proto--logs--test-usage-log--test_usage_log_proto-spark_3.3_2.12-scalabp.jar:/databricks/jars/third_party--hadoop_gcs--hadoop-connectors--gcs-dependencies-shaded--254935968--com.google.code.gson__gson__2.8.6.jar:/databricks/jars/log-sync--common--compress-utils-spark_3.3_2.12_deploy.jar:/databricks/jars/common--error-framework--libcommon_resources.jar:/databricks/jars/----ws_3_3--mvn--hadoop3--oro--oro--oro__oro__2.0.8.jar:/databricks/jars/third_party--jackson--shaded_dependencies---2005166618--com.google.guava__guava__15.0.jar:/databricks/jars/third_party--gcs-private--gcs-shaded_common---128656128--org.conscrypt__conscrypt-openjdk-uber__2.5.1.jar:/databricks/jars/feature-flag--client--experimentation_lib-spark_3.3_2.12_deploy.jar:/databricks/jars/third_party--armeria--armeria_shaded--619126430--io.perfmark__perfmark-api__0.23.0.jar:/databricks/jars/----ws_3_3--vendor--file-notification-common--libfile-notification-common_resources.jar:/databricks/jars/common--tracing--util--span_util-spark_3.3_2.12_deploy.jar:/databricks/jars/common--command-exceptions--command-exceptions-spark_3.3_2.12_deploy.jar:/databricks/jars/----ws_3_3--mvn--hadoop3--org.apache.hive--hive-serde--org.apache.hive__hive-serde__2.3.9.jar:/databricks/jars/common--rpc--checksum--checksum-spark_3.3_2.12_deploy.jar:/databricks/jars/----ws_3_3--mvn--hadoop3--com.amazonaws--aws-java-sdk-ecs--com.amazonaws__aws-java-sdk-ecs__1.12.189.jar:/databricks/jars/third_party--gcs-private--gcs-shaded_common---2029887853--com.google.errorprone__error_prone_annotations__2.3.4.jar:/databricks/jars/----ws_3_3--vendor--connect--server--spark_connect_proto_lib_shaded---233392612--io.grpc__grpc-netty__1.45.1.jar:/databricks/jars/----ws_3_3--vendor--connect--server--spark_connect_proto_lib_shaded--619126430--io.perfmark__perfmark-api__0.23.0.jar:/databricks/jars/common--encryption--azure_key_vault_validator-spark_3.3_2.12_deploy.jar:/databricks/jars/common--instrumentation--jmx-exporter--jmx-exporter-spark_3.3_2.12_deploy.jar:/databricks/jars/proto--logs--observability--log_daemon_event_log_proto-spark_3.3_2.12-scalabp.jar:/databricks/jars/----ws_3_3--mvn--hadoop3--org.apache.hadoop--hadoop-client-runtime--org.apache.hadoop__hadoop-client-runtime__3.3.4.jar:/databricks/jars/common--doughnut-buffer--doughnut-buffer-spark_3.3_2.12_deploy.jar:/databricks/jars/----ws_3_3--mvn--hadoop3--com.databricks.scalapb--compilerplugin_2.12--com.databricks.scalapb__compilerplugin_2.12__0.4.15-10.jar:/databricks/jars/----ws_3_3--mvn--hadoop3--com.jcraft--jsch--com.jcraft__jsch__0.1.50.jar:/databricks/jars/----ws_3_3--mvn--hadoop3--org.eclipse.jetty--jetty-server--org.eclipse.jetty__jetty-server__9.4.46.v20220331.jar:/databricks/jars/third_party--grpc-netty--grpc-netty_shaded--887644477--com.google.guava__listenablefuture__9999.0-empty-to-avoid-conflict-with-guava.jar:/databricks/jars/----ws_3_3--core--libcore_resources.jar:/databricks/jars/common--rpc--metrics--client-metrics-recorder-spark_3.3_2.12_deploy.jar:/databricks/jars/----ws_3_3--mvn--hadoop3--org.apache.hive--hive-beeline--org.apache.hive__hive-beeline__2.3.9.jar:/databricks/jars/common--jetty--server--server_deprecated-spark_3.3_2.12_deploy.jar:/databricks/jars/third_party--gcp-java--gcp-java_shaded--1821515031--com.google.oauth-client__google-oauth-client__1.33.3.jar:/databricks/jars/----ws_3_3--mvn--hadoop3--commons-dbcp--commons-dbcp--commons-dbcp__commons-dbcp__1.4.jar:/databricks/jars/common--rpc--validator--validator-spark_3.3_2.12_deploy.jar:/databricks/jars/----ws_3_3--mvn--hadoop3--org.eclipse.jetty--jetty-http--org.eclipse.jetty__jetty-http__9.4.46.v20220331.jar:/databricks/jars/----ws_3_3--vendor--kafka-0-10-hive-2.3__hadoop-3.2_2.12_shaded--1289704192--kafka-0-10-unshaded-hive-2.3__hadoop-3.2_2.12_deploy.jar:/databricks/jars/third_party--gcp-java--gcp-java_shaded---940791386--org.apache.httpcomponents__httpclient__4.5.13.jar:/databricks/jars/----ws_3_3--vendor--connect--server--spark_connect_proto_lib_shaded---1610319309--com.google.guava__listenablefuture__9999.0-empty-to-avoid-conflict-with-guava.jar:/databricks/jars/----ws_3_3--mvn--hadoop3--org.glassfish.jersey.containers--jersey-container-servlet--org.glassfish.jersey.containers__jersey-container-servlet__2.36.jar:/databricks/jars/----ws_3_3--vendor--protobuf--kafka-clients_only_shaded-for-protobuf-hive-2.3__hadoop-3.2---614483296--org.apache.kafka__kafka-clients__7.4.0-ccs.jar:/databricks/jars/common--chauffeur--messages--messages-spark_3.3_2.12_deploy.jar:/databricks/jars/chauffeur-api--api--endpoints--endpoints-spark_3.3_2.12_deploy.jar:/databricks/jars/----ws_3_3--third_party--kinesis-sdk--kinesis-sdk--1628838576--software.amazon.awssdk__aws-cbor-protocol__2.17.190.jar:/databricks/jars/acl--api--helpers--helpers-spark_3.3_2.12_deploy.jar:/databricks/jars/----ws_3_3--mvn--hadoop3--com.amazonaws--aws-java-sdk-elasticloadbalancing--com.amazonaws__aws-java-sdk-elasticloadbalancing__1.12.189.jar:/databricks/jars/third_party--opencensus-shaded--opencensus_shaded--1078737803--com.google.guava__failureaccess__1.0.1.jar:/databricks/jars/third_party--hadoop-azure-2.7.3-abfs--hadoop-azure-2.7.3-abfs-external-shaded_20180625_3682417-spark_3.3_2.12---602169413--org.apache.httpcomponents__httpcore__4.4.11.jar:/databricks/jars/----ws_3_3--mvn--hadoop3--io.netty--netty-transport-classes-kqueue--io.netty__netty-transport-classes-kqueue__4.1.74.Final.jar:/databricks/jars/----ws_3_3--mvn--hadoop3--org.antlr--ST4--org.antlr__ST4__4.0.4.jar:/databricks/jars/common--logging--service-request--logger-spark_3.3_2.12_deploy.jar:/databricks/jars/third_party--gcp-java--gcp-java_shaded---221577655--com.google.apis__google-api-services-compute__v1-rev20220526-1.32.1.jar:/databricks/jars/third_party--gcp-java--gcp-java_shaded--442951015--com.google.apis__google-api-services-iam__v1-rev316-1.25.0.jar:/databricks/jars/----ws_3_3--vendor--sql-gcp-connectors--sql-gcp-connectors-hive-2.3__hadoop-3.2_2.12_deploy.jar:/databricks/jars/third_party--hadoop_gcs--hadoop-connectors--gcs-dependencies-shaded---1673701305--com.google.guava__listenablefuture__9999.0-empty-to-avoid-conflict-with-guava.jar:/databricks/jars/common--login-credentials--login-credentials-spark_3.3_2.12_deploy.jar:/databricks/jars/----ws_3_3--mvn--hadoop3--com.twitter--util-app_2.12--com.twitter__util-app_2.12__7.1.0.jar:/databricks/jars/third_party--gcs-private--gcs-shaded-hadoop3---41769555--gcsio-hadoop3-2.2.2-databricks3.jar:/databricks/jars/third_party--opencensus-shaded--opencensus_shaded---1179144133--com.google.guava__guava__29.0-android.jar:/databricks/jars/daemon--data--client--conf--conf-spark_3.3_2.12_deploy.jar:/databricks/jars/third_party--grpc-netty--grpc-netty_shaded--103274271--io.netty__netty-codec-http__4.1.77.Final.jar:/databricks/jars/----ws_3_3--mvn--hadoop3--org.scala-lang--scala-library_2.12--org.scala-lang__scala-library__2.12.14.jar:/databricks/jars/common--ip-address--ip-address-spark_3.3_2.12_deploy.jar:/databricks/jars/----ws_3_3--mvn--hadoop3--org.apache.orc--orc-core--org.apache.orc__orc-core__1.7.8.jar:/databricks/jars/common--annotations--command-context-py4jwhitelist--command-context-py4jwhitelist-spark_3.3_2.12_deploy.jar:/databricks/jars/common--encryption--cpk-deps-shaded--1092596627--io.netty__netty-resolver__4.1.87.Final.jar:/databricks/jars/common--encryption--cpk-deps-shaded---1375035343--org.reactivestreams__reactive-streams__1.0.3.jar:/databricks/jars/----ws_3_3--mvn--hadoop3--com.amazonaws--aws-java-sdk-elasticbeanstalk--com.amazonaws__aws-java-sdk-elasticbeanstalk__1.12.189.jar:/databricks/jars/common--logging--metrics--data-monitoring--data-monitoring-spark_3.3_2.12_deploy.jar:/databricks/jars/third_party--armeria--armeria_shaded--989673232--io.netty__netty-tcnative-boringssl-static-osx-x86_64__2.0.52.Final.jar:/databricks/jars/----glue-catalog-spark3.3-client--glue-catalog-shim-common_2.12_deploy.jar:/databricks/jars/proto--logs--billableusage--types_proto-spark_3.3_2.12-scalabp.jar:/databricks/jars/----ws_3_3--third_party--mssql--mssql-hive-2.3__hadoop-3.2_2.12--1314783277--io.netty__netty-transport-native-epoll-linux-x86_64__4.1.74.Final.jar:/databricks/jars/third_party--grpc-netty--grpc-netty_shaded---1980141100--io.grpc__grpc-api__1.45.1.jar:/databricks/jars/common--driver-nfs--driver-nfs-spark_3.3_2.12_deploy.jar:/databricks/jars/common--database--migration--orchestration--orchestration-spark_3.3_2.12_deploy.jar:/databricks/jars/----ws_3_3--vendor--kafka-clients_only_shaded-for-kafka-0-10-hive-2.3__hadoop-3.2---614483296--org.apache.kafka__kafka-clients__7.4.0-ccs.jar:/databricks/jars/third_party--grpc-netty--grpc-netty_shaded---558660560--io.netty__netty-transport-sctp__4.1.77.Final.jar:/databricks/jars/----ws_3_3--mvn--hadoop3--org.apache.parquet--parquet-jackson--org.apache.parquet__parquet-jackson__1.12.3-databricks-0008.jar:/databricks/jars/----ws_3_3--third_party--kinesis-sdk--kinesis-sdk---1765228590--software.amazon.awssdk__netty-nio-client__2.17.190.jar:/databricks/jars/----ws_3_3--mvn--hadoop3--javax.transaction--jta--javax.transaction__jta__1.1.jar:/databricks/jars/common--cluster--info--info-spark_3.3_2.12_deploy.jar:/databricks/jars/third_party--armeria--armeria_shaded---1544760773--io.micrometer__micrometer-core__1.8.5.jar:/databricks/jars/common--util--remote-command-helper-spark_3.3_2.12_deploy.jar:/databricks/jars/----ws_3_3--vendor--protobuf--kafka-protobuf-types_only_shaded-for-protobuf-hive-2.3__hadoop-3.2---493333467--io.confluent__kafka-protobuf-types__7.3.0.jar:/databricks/jars/spark--hadoop-safety--filesystem_list_2.12_deploy.jar:/databricks/jars/----ws_3_3--common--tags--tags-hive-2.3__hadoop-3.2_2.12_deploy.jar:/databricks/jars/----ws_3_3--vendor--kafka-0-10-token-provider-unshaded-hive-2.3__hadoop-3.2_2.12_shaded-for-kafka-0-10-hive-2.3__hadoop-3.2---1311458080--kafka-0-10-token-provider-unshaded-hive-2.3__hadoop-3.2_2.12_deploy.jar:/databricks/jars/common--encryption--cpk-deps-shaded---1537675443--com.nimbusds__lang-tag__1.5.jar:/databricks/jars/third_party--scalapb-090--grpc_shaded_scala_2.12---578719156--com.lihaoyi__sourcecode_2.12__0.1.7.jar:/databricks/jars/common--log-entry--log-entry-spark_3.3_2.12_deploy.jar:/databricks/jars/third_party--armeria--armeria_shaded---432071151--com.google.protobuf__protobuf-java-util__3.19.2.jar:/databricks/jars/third_party--gcs-private--gcs-shaded_common--1860799066--com.google.flogger__flogger-system-backend__0.5.1.jar:/databricks/jars/----ws_3_3--mvn--hadoop3--com.amazonaws--aws-java-sdk-cloudsearch--com.amazonaws__aws-java-sdk-cloudsearch__1.12.189.jar:/databricks/jars/----ws_3_3--mvn--hadoop3--org.xerial.snappy--snappy-java--org.xerial.snappy__snappy-java__1.1.8.4.jar:/databricks/jars/secret-manager--libsecret-manager-crypto.jar:/databricks/jars/----ws_3_3--mvn--hadoop3--org.json4s--json4s-core_2.12--org.json4s__json4s-core_2.12__3.7.0-M11.jar:/databricks/jars/common--rpc--rpc-spark_3.3_2.12_deploy.jar:/databricks/jars/third_party--armeria--armeria_shaded--602666073--org.checkerframework__checker-qual__3.12.0.jar:/databricks/jars/----ws_3_3--vendor--avro--kafka-schema-registry-client_only_shaded-for-avro-hive-2.3__hadoop-3.2--257528913--io.confluent__kafka-schema-registry-client__7.3.0.jar:/databricks/jars/----ws_3_3--mvn--hadoop3--io.netty--netty-transport-native-epoll-linux-x86_64--io.netty__netty-transport-native-epoll-linux-x86_64__4.1.74.Final.jar:/databricks/jars/third_party--armeria--armeria_shaded---941717663--org.joda__joda-convert__2.2.1.jar:/databricks/jars/third_party--gcs-private--gcs-shaded_common--666933597--com.google.http-client__google-http-client-apache-v2__1.39.0.jar:/databricks/jars/third_party--hadoop_gcs--hadoop-connectors--gcs-dependencies-shaded---963829473--io.grpc__grpc-context__1.37.0.jar:/databricks/jars/----ws_3_3--mvn--hadoop3--com.github.fommil.netlib--netlib-native_system-linux-x86_64-natives--com.github.fommil.netlib__netlib-native_system-linux-x86_64-natives__1.1.jar:/databricks/jars/common--conf--global--global-spark_3.3_2.12_deploy.jar:/databricks/jars/spark--driver--safespark-spark_3.3_2.12_deploy.jar:/databricks/jars/third_party--armeria--armeria_shaded--2127711412--io.grpc__grpc-protobuf-lite__1.45.1.jar:/databricks/jars/third_party--grpc-netty--grpc-netty_shaded--1224885051--io.netty__netty-transport-native-epoll-linux-x86_64__4.1.77.Final.jar:/databricks/jars/common--database--utils--time-spark_3.3_2.12_deploy.jar:/databricks/jars/common--logging--redactor--usage_log_redaction_config_proto-spark_3.3_2.12-scalabp.jar:/databricks/jars/----ws_3_3--mvn--hadoop3--com.amazonaws--aws-java-sdk-directconnect--com.amazonaws__aws-java-sdk-directconnect__1.12.189.jar:/databricks/jars/common--conf--constants--constants-spark_3.3_2.12_deploy.jar:/databricks/jars/third_party--hadoop-azure-2.7.3-abfs--hadoop-azure-2.7.3-abfs-external-shaded_20180625_3682417-spark_3.3_2.12---1209607956--commons-logging__commons-logging__1.2.jar:/databricks/jars/common--encryption--cpk-deps-shaded---847415947--com.fasterxml.jackson.core__jackson-annotations__2.12.7.jar:/databricks/jars/----ws_3_3--mvn--hadoop3--commons-collections--commons-collections--commons-collections__com\n\n*** WARNING: max output size exceeded, skipping output. ***\n\nibs/jetty-continuation-9.4.51.v20230217.jar:/databricks/driver/kafka_2.12-3.5.1/bin/../libs/jetty-http-9.4.51.v20230217.jar:/databricks/driver/kafka_2.12-3.5.1/bin/../libs/jetty-io-9.4.51.v20230217.jar:/databricks/driver/kafka_2.12-3.5.1/bin/../libs/jetty-security-9.4.51.v20230217.jar:/databricks/driver/kafka_2.12-3.5.1/bin/../libs/jetty-server-9.4.51.v20230217.jar:/databricks/driver/kafka_2.12-3.5.1/bin/../libs/jetty-servlet-9.4.51.v20230217.jar:/databricks/driver/kafka_2.12-3.5.1/bin/../libs/jetty-servlets-9.4.51.v20230217.jar:/databricks/driver/kafka_2.12-3.5.1/bin/../libs/jetty-util-9.4.51.v20230217.jar:/databricks/driver/kafka_2.12-3.5.1/bin/../libs/jetty-util-ajax-9.4.51.v20230217.jar:/databricks/driver/kafka_2.12-3.5.1/bin/../libs/jline-3.22.0.jar:/databricks/driver/kafka_2.12-3.5.1/bin/../libs/jopt-simple-5.0.4.jar:/databricks/driver/kafka_2.12-3.5.1/bin/../libs/jose4j-0.9.3.jar:/databricks/driver/kafka_2.12-3.5.1/bin/../libs/kafka-clients-3.5.1.jar:/databricks/driver/kafka_2.12-3.5.1/bin/../libs/kafka-group-coordinator-3.5.1.jar:/databricks/driver/kafka_2.12-3.5.1/bin/../libs/kafka-log4j-appender-3.5.1.jar:/databricks/driver/kafka_2.12-3.5.1/bin/../libs/kafka-metadata-3.5.1.jar:/databricks/driver/kafka_2.12-3.5.1/bin/../libs/kafka-raft-3.5.1.jar:/databricks/driver/kafka_2.12-3.5.1/bin/../libs/kafka-server-common-3.5.1.jar:/databricks/driver/kafka_2.12-3.5.1/bin/../libs/kafka-shell-3.5.1.jar:/databricks/driver/kafka_2.12-3.5.1/bin/../libs/kafka-storage-3.5.1.jar:/databricks/driver/kafka_2.12-3.5.1/bin/../libs/kafka-storage-api-3.5.1.jar:/databricks/driver/kafka_2.12-3.5.1/bin/../libs/kafka-streams-3.5.1.jar:/databricks/driver/kafka_2.12-3.5.1/bin/../libs/kafka-streams-examples-3.5.1.jar:/databricks/driver/kafka_2.12-3.5.1/bin/../libs/kafka-streams-scala_2.12-3.5.1.jar:/databricks/driver/kafka_2.12-3.5.1/bin/../libs/kafka-streams-test-utils-3.5.1.jar:/databricks/driver/kafka_2.12-3.5.1/bin/../libs/kafka-tools-3.5.1.jar:/databricks/driver/kafka_2.12-3.5.1/bin/../libs/kafka-tools-api-3.5.1.jar:/databricks/driver/kafka_2.12-3.5.1/bin/../libs/kafka_2.12-3.5.1.jar:/databricks/driver/kafka_2.12-3.5.1/bin/../libs/lz4-java-1.8.0.jar:/databricks/driver/kafka_2.12-3.5.1/bin/../libs/maven-artifact-3.8.8.jar:/databricks/driver/kafka_2.12-3.5.1/bin/../libs/metrics-core-2.2.0.jar:/databricks/driver/kafka_2.12-3.5.1/bin/../libs/metrics-core-4.1.12.1.jar:/databricks/driver/kafka_2.12-3.5.1/bin/../libs/netty-buffer-4.1.94.Final.jar:/databricks/driver/kafka_2.12-3.5.1/bin/../libs/netty-codec-4.1.94.Final.jar:/databricks/driver/kafka_2.12-3.5.1/bin/../libs/netty-common-4.1.94.Final.jar:/databricks/driver/kafka_2.12-3.5.1/bin/../libs/netty-handler-4.1.94.Final.jar:/databricks/driver/kafka_2.12-3.5.1/bin/../libs/netty-resolver-4.1.94.Final.jar:/databricks/driver/kafka_2.12-3.5.1/bin/../libs/netty-transport-4.1.94.Final.jar:/databricks/driver/kafka_2.12-3.5.1/bin/../libs/netty-transport-classes-epoll-4.1.94.Final.jar:/databricks/driver/kafka_2.12-3.5.1/bin/../libs/netty-transport-native-epoll-4.1.94.Final.jar:/databricks/driver/kafka_2.12-3.5.1/bin/../libs/netty-transport-native-unix-common-4.1.94.Final.jar:/databricks/driver/kafka_2.12-3.5.1/bin/../libs/osgi-resource-locator-1.0.3.jar:/databricks/driver/kafka_2.12-3.5.1/bin/../libs/paranamer-2.8.jar:/databricks/driver/kafka_2.12-3.5.1/bin/../libs/plexus-utils-3.3.1.jar:/databricks/driver/kafka_2.12-3.5.1/bin/../libs/reflections-0.9.12.jar:/databricks/driver/kafka_2.12-3.5.1/bin/../libs/reload4j-1.2.25.jar:/databricks/driver/kafka_2.12-3.5.1/bin/../libs/rocksdbjni-7.1.2.jar:/databricks/driver/kafka_2.12-3.5.1/bin/../libs/scala-collection-compat_2.12-2.10.0.jar:/databricks/driver/kafka_2.12-3.5.1/bin/../libs/scala-java8-compat_2.12-1.0.2.jar:/databricks/driver/kafka_2.12-3.5.1/bin/../libs/scala-library-2.12.15.jar:/databricks/driver/kafka_2.12-3.5.1/bin/../libs/scala-logging_2.12-3.9.4.jar:/databricks/driver/kafka_2.12-3.5.1/bin/../libs/scala-reflect-2.12.15.jar:/databricks/driver/kafka_2.12-3.5.1/bin/../libs/slf4j-api-1.7.36.jar:/databricks/driver/kafka_2.12-3.5.1/bin/../libs/slf4j-reload4j-1.7.36.jar:/databricks/driver/kafka_2.12-3.5.1/bin/../libs/snappy-java-1.1.10.1.jar:/databricks/driver/kafka_2.12-3.5.1/bin/../libs/swagger-annotations-2.2.8.jar:/databricks/driver/kafka_2.12-3.5.1/bin/../libs/trogdor-3.5.1.jar:/databricks/driver/kafka_2.12-3.5.1/bin/../libs/zookeeper-3.6.4.jar:/databricks/driver/kafka_2.12-3.5.1/bin/../libs/zookeeper-jute-3.6.4.jar:/databricks/driver/kafka_2.12-3.5.1/bin/../libs/zstd-jni-1.5.5-1.jar (org.apache.zookeeper.ZooKeeper)\n[2023-10-04 22:25:40,022] INFO Client environment:java.library.path=/usr/java/packages/lib/amd64:/usr/lib64:/lib64:/lib:/usr/lib (org.apache.zookeeper.ZooKeeper)\n[2023-10-04 22:25:40,022] INFO Client environment:java.io.tmpdir=/tmp (org.apache.zookeeper.ZooKeeper)\n[2023-10-04 22:25:40,022] INFO Client environment:java.compiler=<NA> (org.apache.zookeeper.ZooKeeper)\n[2023-10-04 22:25:40,022] INFO Client environment:os.name=Linux (org.apache.zookeeper.ZooKeeper)\n[2023-10-04 22:25:40,022] INFO Client environment:os.arch=amd64 (org.apache.zookeeper.ZooKeeper)\n[2023-10-04 22:25:40,022] INFO Client environment:os.version=5.15.0-1043-aws (org.apache.zookeeper.ZooKeeper)\n[2023-10-04 22:25:40,023] INFO Client environment:user.name=root (org.apache.zookeeper.ZooKeeper)\n[2023-10-04 22:25:40,023] INFO Client environment:user.home=/root (org.apache.zookeeper.ZooKeeper)\n[2023-10-04 22:25:40,023] INFO Client environment:user.dir=/databricks/driver (org.apache.zookeeper.ZooKeeper)\n[2023-10-04 22:25:40,023] INFO Client environment:os.memory.free=991MB (org.apache.zookeeper.ZooKeeper)\n[2023-10-04 22:25:40,023] INFO Client environment:os.memory.max=1024MB (org.apache.zookeeper.ZooKeeper)\n[2023-10-04 22:25:40,023] INFO Client environment:os.memory.total=1024MB (org.apache.zookeeper.ZooKeeper)\n[2023-10-04 22:25:40,054] INFO Initiating client connection, connectString=localhost:2181 sessionTimeout=18000 watcher=kafka.zookeeper.ZooKeeperClient$ZooKeeperClientWatcher$@1edb61b1 (org.apache.zookeeper.ZooKeeper)\n[2023-10-04 22:25:40,081] INFO jute.maxbuffer value is 4194304 Bytes (org.apache.zookeeper.ClientCnxnSocket)\n[2023-10-04 22:25:40,098] INFO zookeeper.request.timeout value is 0. feature enabled=false (org.apache.zookeeper.ClientCnxn)\n[2023-10-04 22:25:40,106] INFO [ZooKeeperClient Kafka server] Waiting until connected. (kafka.zookeeper.ZooKeeperClient)\n[2023-10-04 22:25:40,114] INFO Opening socket connection to server localhost/127.0.0.1:2181. (org.apache.zookeeper.ClientCnxn)\n[2023-10-04 22:25:40,121] INFO Socket connection established, initiating session, client: /127.0.0.1:46526, server: localhost/127.0.0.1:2181 (org.apache.zookeeper.ClientCnxn)\n[2023-10-04 22:25:40,186] INFO Session establishment complete on server localhost/127.0.0.1:2181, session id = 0x10001086abf0000, negotiated timeout = 18000 (org.apache.zookeeper.ClientCnxn)\n[2023-10-04 22:25:40,203] INFO [ZooKeeperClient Kafka server] Connected. (kafka.zookeeper.ZooKeeperClient)\n[2023-10-04 22:25:41,477] INFO Cluster ID = CkF1_oYsSnSvXlDgK5zXCA (kafka.server.KafkaServer)\n[2023-10-04 22:25:41,493] WARN No meta.properties file under dir /tmp/kafka-logs/meta.properties (kafka.server.BrokerMetadataCheckpoint)\n[2023-10-04 22:25:41,663] INFO KafkaConfig values: \n\tadvertised.listeners = null\n\talter.config.policy.class.name = null\n\talter.log.dirs.replication.quota.window.num = 11\n\talter.log.dirs.replication.quota.window.size.seconds = 1\n\tauthorizer.class.name = \n\tauto.create.topics.enable = true\n\tauto.include.jmx.reporter = true\n\tauto.leader.rebalance.enable = true\n\tbackground.threads = 10\n\tbroker.heartbeat.interval.ms = 2000\n\tbroker.id = 0\n\tbroker.id.generation.enable = true\n\tbroker.rack = null\n\tbroker.session.timeout.ms = 9000\n\tclient.quota.callback.class = null\n\tcompression.type = producer\n\tconnection.failed.authentication.delay.ms = 100\n\tconnections.max.idle.ms = 600000\n\tconnections.max.reauth.ms = 0\n\tcontrol.plane.listener.name = null\n\tcontrolled.shutdown.enable = true\n\tcontrolled.shutdown.max.retries = 3\n\tcontrolled.shutdown.retry.backoff.ms = 5000\n\tcontroller.listener.names = null\n\tcontroller.quorum.append.linger.ms = 25\n\tcontroller.quorum.election.backoff.max.ms = 1000\n\tcontroller.quorum.election.timeout.ms = 1000\n\tcontroller.quorum.fetch.timeout.ms = 2000\n\tcontroller.quorum.request.timeout.ms = 2000\n\tcontroller.quorum.retry.backoff.ms = 20\n\tcontroller.quorum.voters = []\n\tcontroller.quota.window.num = 11\n\tcontroller.quota.window.size.seconds = 1\n\tcontroller.socket.timeout.ms = 30000\n\tcreate.topic.policy.class.name = null\n\tdefault.replication.factor = 1\n\tdelegation.token.expiry.check.interval.ms = 3600000\n\tdelegation.token.expiry.time.ms = 86400000\n\tdelegation.token.master.key = null\n\tdelegation.token.max.lifetime.ms = 604800000\n\tdelegation.token.secret.key = null\n\tdelete.records.purgatory.purge.interval.requests = 1\n\tdelete.topic.enable = true\n\tearly.start.listeners = null\n\tfetch.max.bytes = 57671680\n\tfetch.purgatory.purge.interval.requests = 1000\n\tgroup.consumer.assignors = []\n\tgroup.consumer.heartbeat.interval.ms = 5000\n\tgroup.consumer.max.heartbeat.interval.ms = 15000\n\tgroup.consumer.max.session.timeout.ms = 60000\n\tgroup.consumer.max.size = 2147483647\n\tgroup.consumer.min.heartbeat.interval.ms = 5000\n\tgroup.consumer.min.session.timeout.ms = 45000\n\tgroup.consumer.session.timeout.ms = 45000\n\tgroup.coordinator.new.enable = false\n\tgroup.coordinator.threads = 1\n\tgroup.initial.rebalance.delay.ms = 0\n\tgroup.max.session.timeout.ms = 1800000\n\tgroup.max.size = 2147483647\n\tgroup.min.session.timeout.ms = 6000\n\tinitial.broker.registration.timeout.ms = 60000\n\tinter.broker.listener.name = null\n\tinter.broker.protocol.version = 3.5-IV2\n\tkafka.metrics.polling.interval.secs = 10\n\tkafka.metrics.reporters = []\n\tleader.imbalance.check.interval.seconds = 300\n\tleader.imbalance.per.broker.percentage = 10\n\tlistener.security.protocol.map = PLAINTEXT:PLAINTEXT,SSL:SSL,SASL_PLAINTEXT:SASL_PLAINTEXT,SASL_SSL:SASL_SSL\n\tlisteners = PLAINTEXT://:9092\n\tlog.cleaner.backoff.ms = 15000\n\tlog.cleaner.dedupe.buffer.size = 134217728\n\tlog.cleaner.delete.retention.ms = 86400000\n\tlog.cleaner.enable = true\n\tlog.cleaner.io.buffer.load.factor = 0.9\n\tlog.cleaner.io.buffer.size = 524288\n\tlog.cleaner.io.max.bytes.per.second = 1.7976931348623157E308\n\tlog.cleaner.max.compaction.lag.ms = 9223372036854775807\n\tlog.cleaner.min.cleanable.ratio = 0.5\n\tlog.cleaner.min.compaction.lag.ms = 0\n\tlog.cleaner.threads = 1\n\tlog.cleanup.policy = [delete]\n\tlog.dir = /tmp/kafka-logs\n\tlog.dirs = /tmp/kafka-logs\n\tlog.flush.interval.messages = 9223372036854775807\n\tlog.flush.interval.ms = null\n\tlog.flush.offset.checkpoint.interval.ms = 60000\n\tlog.flush.scheduler.interval.ms = 9223372036854775807\n\tlog.flush.start.offset.checkpoint.interval.ms = 60000\n\tlog.index.interval.bytes = 4096\n\tlog.index.size.max.bytes = 10485760\n\tlog.message.downconversion.enable = true\n\tlog.message.format.version = 3.0-IV1\n\tlog.message.timestamp.difference.max.ms = 9223372036854775807\n\tlog.message.timestamp.type = CreateTime\n\tlog.preallocate = false\n\tlog.retention.bytes = -1\n\tlog.retention.check.interval.ms = 300000\n\tlog.retention.hours = 168\n\tlog.retention.minutes = null\n\tlog.retention.ms = null\n\tlog.roll.hours = 168\n\tlog.roll.jitter.hours = 0\n\tlog.roll.jitter.ms = null\n\tlog.roll.ms = null\n\tlog.segment.bytes = 1073741824\n\tlog.segment.delete.delay.ms = 60000\n\tmax.connection.creation.rate = 2147483647\n\tmax.connections = 2147483647\n\tmax.connections.per.ip = 2147483647\n\tmax.connections.per.ip.overrides = \n\tmax.incremental.fetch.session.cache.slots = 1000\n\tmessage.max.bytes = 1048588\n\tmetadata.log.dir = null\n\tmetadata.log.max.record.bytes.between.snapshots = 20971520\n\tmetadata.log.max.snapshot.interval.ms = 3600000\n\tmetadata.log.segment.bytes = 1073741824\n\tmetadata.log.segment.min.bytes = 8388608\n\tmetadata.log.segment.ms = 604800000\n\tmetadata.max.idle.interval.ms = 500\n\tmetadata.max.retention.bytes = 104857600\n\tmetadata.max.retention.ms = 604800000\n\tmetric.reporters = []\n\tmetrics.num.samples = 2\n\tmetrics.recording.level = INFO\n\tmetrics.sample.window.ms = 30000\n\tmin.insync.replicas = 1\n\tnode.id = 0\n\tnum.io.threads = 8\n\tnum.network.threads = 3\n\tnum.partitions = 1\n\tnum.recovery.threads.per.data.dir = 1\n\tnum.replica.alter.log.dirs.threads = null\n\tnum.replica.fetchers = 1\n\toffset.metadata.max.bytes = 4096\n\toffsets.commit.required.acks = -1\n\toffsets.commit.timeout.ms = 5000\n\toffsets.load.buffer.size = 5242880\n\toffsets.retention.check.interval.ms = 600000\n\toffsets.retention.minutes = 10080\n\toffsets.topic.compression.codec = 0\n\toffsets.topic.num.partitions = 50\n\toffsets.topic.replication.factor = 1\n\toffsets.topic.segment.bytes = 104857600\n\tpassword.encoder.cipher.algorithm = AES/CBC/PKCS5Padding\n\tpassword.encoder.iterations = 4096\n\tpassword.encoder.key.length = 128\n\tpassword.encoder.keyfactory.algorithm = null\n\tpassword.encoder.old.secret = null\n\tpassword.encoder.secret = null\n\tprincipal.builder.class = class org.apache.kafka.common.security.authenticator.DefaultKafkaPrincipalBuilder\n\tprocess.roles = []\n\tproducer.id.expiration.check.interval.ms = 600000\n\tproducer.id.expiration.ms = 86400000\n\tproducer.purgatory.purge.interval.requests = 1000\n\tqueued.max.request.bytes = -1\n\tqueued.max.requests = 500\n\tquota.window.num = 11\n\tquota.window.size.seconds = 1\n\tremote.log.index.file.cache.total.size.bytes = 1073741824\n\tremote.log.manager.task.interval.ms = 30000\n\tremote.log.manager.task.retry.backoff.max.ms = 30000\n\tremote.log.manager.task.retry.backoff.ms = 500\n\tremote.log.manager.task.retry.jitter = 0.2\n\tremote.log.manager.thread.pool.size = 10\n\tremote.log.metadata.manager.class.name = null\n\tremote.log.metadata.manager.class.path = null\n\tremote.log.metadata.manager.impl.prefix = null\n\tremote.log.metadata.manager.listener.name = null\n\tremote.log.reader.max.pending.tasks = 100\n\tremote.log.reader.threads = 10\n\tremote.log.storage.manager.class.name = null\n\tremote.log.storage.manager.class.path = null\n\tremote.log.storage.manager.impl.prefix = null\n\tremote.log.storage.system.enable = false\n\treplica.fetch.backoff.ms = 1000\n\treplica.fetch.max.bytes = 1048576\n\treplica.fetch.min.bytes = 1\n\treplica.fetch.response.max.bytes = 10485760\n\treplica.fetch.wait.max.ms = 500\n\treplica.high.watermark.checkpoint.interval.ms = 5000\n\treplica.lag.time.max.ms = 30000\n\treplica.selector.class = null\n\treplica.socket.receive.buffer.bytes = 65536\n\treplica.socket.timeout.ms = 30000\n\treplication.quota.window.num = 11\n\treplication.quota.window.size.seconds = 1\n\trequest.timeout.ms = 30000\n\treserved.broker.max.id = 1000\n\tsasl.client.callback.handler.class = null\n\tsasl.enabled.mechanisms = [GSSAPI]\n\tsasl.jaas.config = null\n\tsasl.kerberos.kinit.cmd = /usr/bin/kinit\n\tsasl.kerberos.min.time.before.relogin = 60000\n\tsasl.kerberos.principal.to.local.rules = [DEFAULT]\n\tsasl.kerberos.service.name = null\n\tsasl.kerberos.ticket.renew.jitter = 0.05\n\tsasl.kerberos.ticket.renew.window.factor = 0.8\n\tsasl.login.callback.handler.class = null\n\tsasl.login.class = null\n\tsasl.login.connect.timeout.ms = null\n\tsasl.login.read.timeout.ms = null\n\tsasl.login.refresh.buffer.seconds = 300\n\tsasl.login.refresh.min.period.seconds = 60\n\tsasl.login.refresh.window.factor = 0.8\n\tsasl.login.refresh.window.jitter = 0.05\n\tsasl.login.retry.backoff.max.ms = 10000\n\tsasl.login.retry.backoff.ms = 100\n\tsasl.mechanism.controller.protocol = GSSAPI\n\tsasl.mechanism.inter.broker.protocol = GSSAPI\n\tsasl.oauthbearer.clock.skew.seconds = 30\n\tsasl.oauthbearer.expected.audience = null\n\tsasl.oauthbearer.expected.issuer = null\n\tsasl.oauthbearer.jwks.endpoint.refresh.ms = 3600000\n\tsasl.oauthbearer.jwks.endpoint.retry.backoff.max.ms = 10000\n\tsasl.oauthbearer.jwks.endpoint.retry.backoff.ms = 100\n\tsasl.oauthbearer.jwks.endpoint.url = null\n\tsasl.oauthbearer.scope.claim.name = scope\n\tsasl.oauthbearer.sub.claim.name = sub\n\tsasl.oauthbearer.token.endpoint.url = null\n\tsasl.server.callback.handler.class = null\n\tsasl.server.max.receive.size = 524288\n\tsecurity.inter.broker.protocol = PLAINTEXT\n\tsecurity.providers = null\n\tserver.max.startup.time.ms = 9223372036854775807\n\tsocket.connection.setup.timeout.max.ms = 30000\n\tsocket.connection.setup.timeout.ms = 10000\n\tsocket.listen.backlog.size = 50\n\tsocket.receive.buffer.bytes = 102400\n\tsocket.request.max.bytes = 104857600\n\tsocket.send.buffer.bytes = 102400\n\tssl.cipher.suites = []\n\tssl.client.auth = none\n\tssl.enabled.protocols = [TLSv1.2]\n\tssl.endpoint.identification.algorithm = https\n\tssl.engine.factory.class = null\n\tssl.key.password = null\n\tssl.keymanager.algorithm = SunX509\n\tssl.keystore.certificate.chain = null\n\tssl.keystore.key = null\n\tssl.keystore.location = null\n\tssl.keystore.password = null\n\tssl.keystore.type = JKS\n\tssl.principal.mapping.rules = DEFAULT\n\tssl.protocol = TLSv1.2\n\tssl.provider = null\n\tssl.secure.random.implementation = null\n\tssl.trustmanager.algorithm = PKIX\n\tssl.truststore.certificates = null\n\tssl.truststore.location = null\n\tssl.truststore.password = null\n\tssl.truststore.type = JKS\n\ttransaction.abort.timed.out.transaction.cleanup.interval.ms = 10000\n\ttransaction.max.timeout.ms = 900000\n\ttransaction.remove.expired.transaction.cleanup.interval.ms = 3600000\n\ttransaction.state.log.load.buffer.size = 5242880\n\ttransaction.state.log.min.isr = 1\n\ttransaction.state.log.num.partitions = 50\n\ttransaction.state.log.replication.factor = 1\n\ttransaction.state.log.segment.bytes = 104857600\n\ttransactional.id.expiration.ms = 604800000\n\tunclean.leader.election.enable = false\n\tunstable.api.versions.enable = false\n\tzookeeper.clientCnxnSocket = null\n\tzookeeper.connect = localhost:2181\n\tzookeeper.connection.timeout.ms = 18000\n\tzookeeper.max.in.flight.requests = 10\n\tzookeeper.metadata.migration.enable = false\n\tzookeeper.session.timeout.ms = 18000\n\tzookeeper.set.acl = false\n\tzookeeper.ssl.cipher.suites = null\n\tzookeeper.ssl.client.enable = false\n\tzookeeper.ssl.crl.enable = false\n\tzookeeper.ssl.enabled.protocols = null\n\tzookeeper.ssl.endpoint.identification.algorithm = HTTPS\n\tzookeeper.ssl.keystore.location = null\n\tzookeeper.ssl.keystore.password = null\n\tzookeeper.ssl.keystore.type = null\n\tzookeeper.ssl.ocsp.enable = false\n\tzookeeper.ssl.protocol = TLSv1.2\n\tzookeeper.ssl.truststore.location = null\n\tzookeeper.ssl.truststore.password = null\n\tzookeeper.ssl.truststore.type = null\n (kafka.server.KafkaConfig)\n[2023-10-04 22:25:41,899] INFO [ThrottledChannelReaper-Fetch]: Starting (kafka.server.ClientQuotaManager$ThrottledChannelReaper)\n[2023-10-04 22:25:41,911] INFO [ThrottledChannelReaper-Produce]: Starting (kafka.server.ClientQuotaManager$ThrottledChannelReaper)\n[2023-10-04 22:25:41,928] INFO [ThrottledChannelReaper-Request]: Starting (kafka.server.ClientQuotaManager$ThrottledChannelReaper)\n[2023-10-04 22:25:41,974] INFO [ThrottledChannelReaper-ControllerMutation]: Starting (kafka.server.ClientQuotaManager$ThrottledChannelReaper)\n[2023-10-04 22:25:42,222] INFO Log directory /tmp/kafka-logs not found, creating it. (kafka.log.LogManager)\n[2023-10-04 22:25:42,344] INFO Loading logs from log dirs ArrayBuffer(/tmp/kafka-logs) (kafka.log.LogManager)\n[2023-10-04 22:25:42,374] INFO No logs found to be loaded in /tmp/kafka-logs (kafka.log.LogManager)\n[2023-10-04 22:25:42,426] INFO Loaded 0 logs in 78ms (kafka.log.LogManager)\n[2023-10-04 22:25:42,447] INFO Starting log cleanup with a period of 300000 ms. (kafka.log.LogManager)\n[2023-10-04 22:25:42,450] INFO Starting log flusher with a default period of 9223372036854775807 ms. (kafka.log.LogManager)\n[2023-10-04 22:25:42,645] INFO [kafka-log-cleaner-thread-0]: Starting (kafka.log.LogCleaner$CleanerThread)\n[2023-10-04 22:25:42,709] INFO [feature-zk-node-event-process-thread]: Starting (kafka.server.FinalizedFeatureChangeListener$ChangeNotificationProcessorThread)\n[2023-10-04 22:25:42,742] INFO Feature ZK node at path: /feature does not exist (kafka.server.FinalizedFeatureChangeListener)\n[2023-10-04 22:25:42,856] INFO [zk-broker-0-to-controller-forwarding-channel-manager]: Starting (kafka.server.BrokerToControllerRequestThread)\n[2023-10-04 22:25:44,619] INFO Updated connection-accept-rate max connection creation rate to 2147483647 (kafka.network.ConnectionQuotas)\n[2023-10-04 22:25:44,689] INFO [SocketServer listenerType=ZK_BROKER, nodeId=0] Created data-plane acceptor and processors for endpoint : ListenerName(PLAINTEXT) (kafka.network.SocketServer)\n[2023-10-04 22:25:44,711] INFO [zk-broker-0-to-controller-alter-partition-channel-manager]: Starting (kafka.server.BrokerToControllerRequestThread)\n[2023-10-04 22:25:44,793] INFO [ExpirationReaper-0-Produce]: Starting (kafka.server.DelayedOperationPurgatory$ExpiredOperationReaper)\n[2023-10-04 22:25:44,795] INFO [ExpirationReaper-0-Fetch]: Starting (kafka.server.DelayedOperationPurgatory$ExpiredOperationReaper)\n[2023-10-04 22:25:44,798] INFO [ExpirationReaper-0-DeleteRecords]: Starting (kafka.server.DelayedOperationPurgatory$ExpiredOperationReaper)\n[2023-10-04 22:25:44,800] INFO [ExpirationReaper-0-ElectLeader]: Starting (kafka.server.DelayedOperationPurgatory$ExpiredOperationReaper)\n[2023-10-04 22:25:44,869] INFO [LogDirFailureHandler]: Starting (kafka.server.ReplicaManager$LogDirFailureHandler)\n[2023-10-04 22:25:44,925] INFO Creating /brokers/ids/0 (is it secure? false) (kafka.zk.KafkaZkClient)\n[2023-10-04 22:25:45,037] INFO Stat of the created znode at /brokers/ids/0 is: 25,25,1696458344991,1696458344991,1,0,0,72058729700196352,252,0,25\n (kafka.zk.KafkaZkClient)\n[2023-10-04 22:25:45,043] INFO Registered broker 0 at path /brokers/ids/0 with addresses: PLAINTEXT://1004-220816-n9d493lx-10-172-230-18:9092, czxid (broker epoch): 25 (kafka.zk.KafkaZkClient)\n[2023-10-04 22:25:45,297] INFO [ExpirationReaper-0-topic]: Starting (kafka.server.DelayedOperationPurgatory$ExpiredOperationReaper)\n[2023-10-04 22:25:45,343] INFO [ExpirationReaper-0-Heartbeat]: Starting (kafka.server.DelayedOperationPurgatory$ExpiredOperationReaper)\n[2023-10-04 22:25:45,354] INFO [ExpirationReaper-0-Rebalance]: Starting (kafka.server.DelayedOperationPurgatory$ExpiredOperationReaper)\n[2023-10-04 22:25:45,359] INFO Successfully created /controller_epoch with initial epoch 0 (kafka.zk.KafkaZkClient)\n[2023-10-04 22:25:45,424] INFO [GroupCoordinator 0]: Starting up. (kafka.coordinator.group.GroupCoordinator)\n[2023-10-04 22:25:45,433] INFO Feature ZK node created at path: /feature (kafka.server.FinalizedFeatureChangeListener)\n[2023-10-04 22:25:45,461] INFO [GroupCoordinator 0]: Startup complete. (kafka.coordinator.group.GroupCoordinator)\n[2023-10-04 22:25:45,557] INFO [TransactionCoordinator id=0] Starting up. (kafka.coordinator.transaction.TransactionCoordinator)\n[2023-10-04 22:25:45,565] INFO [TransactionCoordinator id=0] Startup complete. (kafka.coordinator.transaction.TransactionCoordinator)\n[2023-10-04 22:25:45,569] INFO [TxnMarkerSenderThread-0]: Starting (kafka.coordinator.transaction.TransactionMarkerChannelManager)\n[2023-10-04 22:25:45,628] INFO [MetadataCache brokerId=0] Updated cache from existing <empty> to latest FinalizedFeaturesAndEpoch(features=Map(), epoch=0). (kafka.server.metadata.ZkMetadataCache)\n[2023-10-04 22:25:45,834] INFO [ExpirationReaper-0-AlterAcls]: Starting (kafka.server.DelayedOperationPurgatory$ExpiredOperationReaper)\n[2023-10-04 22:25:46,007] INFO [Controller id=0, targetBrokerId=0] Node 0 disconnected. (org.apache.kafka.clients.NetworkClient)\n[2023-10-04 22:25:46,023] WARN [Controller id=0, targetBrokerId=0] Connection to node 0 (1004-220816-n9d493lx-10-172-230-18/127.0.1.1:9092) could not be established. Broker may not be available. (org.apache.kafka.clients.NetworkClient)\n[2023-10-04 22:25:46,061] INFO [Controller id=0, targetBrokerId=0] Client requested connection close from node 0 (org.apache.kafka.clients.NetworkClient)\n[2023-10-04 22:25:46,062] INFO [/config/changes-event-process-thread]: Starting (kafka.common.ZkNodeChangeNotificationListener$ChangeEventProcessThread)\n[2023-10-04 22:25:46,082] INFO [SocketServer listenerType=ZK_BROKER, nodeId=0] Enabling request processing. (kafka.network.SocketServer)\n[2023-10-04 22:25:46,092] INFO Awaiting socket connections on 0.0.0.0:9092. (kafka.network.DataPlaneAcceptor)\n[2023-10-04 22:25:46,141] INFO Kafka version: 7.4.0-ccs (org.apache.kafka.common.utils.AppInfoParser)\n[2023-10-04 22:25:46,142] INFO Kafka commitId: 30969fa33c185e88 (org.apache.kafka.common.utils.AppInfoParser)\n[2023-10-04 22:25:46,142] INFO Kafka startTimeMs: 1696458346134 (org.apache.kafka.common.utils.AppInfoParser)\n[2023-10-04 22:25:46,153] INFO [KafkaServer id=0] started (kafka.server.KafkaServer)\n[2023-10-04 22:25:46,432] INFO [zk-broker-0-to-controller-alter-partition-channel-manager]: Recorded new controller, from now on will use node 1004-220816-n9d493lx-10-172-230-18:9092 (id: 0 rack: null) (kafka.server.BrokerToControllerRequestThread)\n[2023-10-04 22:25:46,463] INFO [zk-broker-0-to-controller-forwarding-channel-manager]: Recorded new controller, from now on will use node 1004-220816-n9d493lx-10-172-230-18:9092 (id: 0 rack: null) (kafka.server.BrokerToControllerRequestThread)\n"
     ]
    },
    {
     "output_type": "display_data",
     "data": {
      "text/html": [
       "<style scoped>\n",
       "  .ansiout {\n",
       "    display: block;\n",
       "    unicode-bidi: embed;\n",
       "    white-space: pre-wrap;\n",
       "    word-wrap: break-word;\n",
       "    word-break: break-all;\n",
       "    font-family: \"Source Code Pro\", \"Menlo\", monospace;;\n",
       "    font-size: 13px;\n",
       "    color: #555;\n",
       "    margin-left: 4px;\n",
       "    line-height: 19px;\n",
       "  }\n",
       "</style>"
      ]
     },
     "metadata": {
      "application/vnd.databricks.v1+output": {
       "arguments": {},
       "data": "",
       "errorSummary": "Cancelled",
       "errorTraceType": "html",
       "metadata": {},
       "type": "ipynbError"
      }
     },
     "output_type": "display_data"
    }
   ],
   "source": [
    "%sh\n",
    "./kafka_2.12-3.5.1/bin/kafka-server-start.sh ./kafka_2.12-3.5.1/config/server.properties"
   ]
  },
  {
   "cell_type": "markdown",
   "metadata": {
    "application/vnd.databricks.v1+cell": {
     "cellMetadata": {},
     "inputWidgets": {},
     "nuid": "c01dd3a6-d3ef-4c24-9ec7-a79456fb8ba2",
     "showTitle": false,
     "title": ""
    }
   },
   "source": [
    "Criando um tópico no Kafka"
   ]
  },
  {
   "cell_type": "code",
   "execution_count": 0,
   "metadata": {
    "application/vnd.databricks.v1+cell": {
     "cellMetadata": {
      "byteLimit": 2048000,
      "rowLimit": 10000
     },
     "inputWidgets": {},
     "nuid": "65f8c3ef-812b-43ae-b67c-1acf1efb7cb4",
     "showTitle": false,
     "title": ""
    }
   },
   "outputs": [
    {
     "output_type": "stream",
     "name": "stdout",
     "output_type": "stream",
     "text": [
      "SLF4J: Class path contains multiple SLF4J bindings.\nSLF4J: Found binding in [jar:file:/databricks/jars/----ws_3_3--mvn--hadoop3--org.apache.logging.log4j--log4j-slf4j-impl--org.apache.logging.log4j__log4j-slf4j-impl__2.18.0.jar!/org/slf4j/impl/StaticLoggerBinder.class]\nSLF4J: Found binding in [jar:file:/databricks/driver/kafka_2.12-3.5.1/libs/slf4j-reload4j-1.7.36.jar!/org/slf4j/impl/StaticLoggerBinder.class]\nSLF4J: See http://www.slf4j.org/codes.html#multiple_bindings for an explanation.\nSLF4J: Actual binding is of type [org.apache.logging.slf4j.Log4jLoggerFactory]\nWARNING: Due to limitations in metric names, topics with a period ('.') or underscore ('_') could collide. To avoid issues it is best to use either, but not both.\nCreated topic primeiro_topico.\n"
     ]
    }
   ],
   "source": [
    "%sh\n",
    "./kafka_2.12-3.5.1/bin/kafka-topics.sh --bootstrap-server localhost:9092 --create --topic primeiro_topico --partitions 1 --replication-factor 1"
   ]
  },
  {
   "cell_type": "markdown",
   "metadata": {
    "application/vnd.databricks.v1+cell": {
     "cellMetadata": {},
     "inputWidgets": {},
     "nuid": "f39f6398-7345-40fb-9db5-aa42754aaff1",
     "showTitle": false,
     "title": ""
    }
   },
   "source": [
    "Executando o console para consumir os dados do tópico criado"
   ]
  },
  {
   "cell_type": "code",
   "execution_count": 0,
   "metadata": {
    "application/vnd.databricks.v1+cell": {
     "cellMetadata": {
      "byteLimit": 2048000,
      "rowLimit": 10000
     },
     "inputWidgets": {},
     "nuid": "c61f3916-481a-4b14-90fc-c7a42735b361",
     "showTitle": false,
     "title": ""
    }
   },
   "outputs": [
    {
     "output_type": "stream",
     "name": "stdout",
     "output_type": "stream",
     "text": [
      "SLF4J: Class path contains multiple SLF4J bindings.\nSLF4J: Found binding in [jar:file:/databricks/jars/----ws_3_3--mvn--hadoop3--org.apache.logging.log4j--log4j-slf4j-impl--org.apache.logging.log4j__log4j-slf4j-impl__2.18.0.jar!/org/slf4j/impl/StaticLoggerBinder.class]\nSLF4J: Found binding in [jar:file:/databricks/driver/kafka_2.12-3.5.1/libs/slf4j-reload4j-1.7.36.jar!/org/slf4j/impl/StaticLoggerBinder.class]\nSLF4J: See http://www.slf4j.org/codes.html#multiple_bindings for an explanation.\nSLF4J: Actual binding is of type [org.apache.logging.slf4j.Log4jLoggerFactory]\n"
     ]
    },
    {
     "output_type": "display_data",
     "data": {
      "text/html": [
       "<style scoped>\n",
       "  .ansiout {\n",
       "    display: block;\n",
       "    unicode-bidi: embed;\n",
       "    white-space: pre-wrap;\n",
       "    word-wrap: break-word;\n",
       "    word-break: break-all;\n",
       "    font-family: \"Source Code Pro\", \"Menlo\", monospace;;\n",
       "    font-size: 13px;\n",
       "    color: #555;\n",
       "    margin-left: 4px;\n",
       "    line-height: 19px;\n",
       "  }\n",
       "</style>"
      ]
     },
     "metadata": {
      "application/vnd.databricks.v1+output": {
       "arguments": {},
       "data": "",
       "errorSummary": "Cancelled",
       "errorTraceType": "html",
       "metadata": {},
       "type": "ipynbError"
      }
     },
     "output_type": "display_data"
    }
   ],
   "source": [
    "%sh\n",
    "./kafka_2.12-3.5.1/bin/kafka-console-consumer.sh --bootstrap-server localhost:9092 --topic primeiro_topico --from-beginning"
   ]
  },
  {
   "cell_type": "markdown",
   "metadata": {
    "application/vnd.databricks.v1+cell": {
     "cellMetadata": {},
     "inputWidgets": {},
     "nuid": "0f8bee77-80a3-4235-8a21-7bba250985fb",
     "showTitle": false,
     "title": ""
    }
   },
   "source": [
    "Instalação da biblioteca \"kafka-python\""
   ]
  },
  {
   "cell_type": "code",
   "execution_count": 0,
   "metadata": {
    "application/vnd.databricks.v1+cell": {
     "cellMetadata": {
      "byteLimit": 2048000,
      "rowLimit": 10000
     },
     "inputWidgets": {},
     "nuid": "0e48184e-fab6-4928-b531-fef81ab72711",
     "showTitle": false,
     "title": ""
    }
   },
   "outputs": [
    {
     "output_type": "stream",
     "name": "stdout",
     "output_type": "stream",
     "text": [
      "Requirement already satisfied: pip in /local_disk0/.ephemeral_nfs/envs/pythonEnv-19775a7e-8c32-4ed2-bcfd-ca5555aa074f/lib/python3.9/site-packages (21.2.4)\nCollecting pip\n  Using cached pip-23.2.1-py3-none-any.whl (2.1 MB)\nInstalling collected packages: pip\n  Attempting uninstall: pip\n    Found existing installation: pip 21.2.4\n    Uninstalling pip-21.2.4:\n      Successfully uninstalled pip-21.2.4\nSuccessfully installed pip-23.2.1\nCollecting kafka-python\n  Using cached kafka_python-2.0.2-py2.py3-none-any.whl (246 kB)\nInstalling collected packages: kafka-python\nSuccessfully installed kafka-python-2.0.2\n"
     ]
    }
   ],
   "source": [
    "%sh\n",
    "pip install --upgrade pip\n",
    "pip install kafka-python"
   ]
  },
  {
   "cell_type": "markdown",
   "metadata": {
    "application/vnd.databricks.v1+cell": {
     "cellMetadata": {},
     "inputWidgets": {},
     "nuid": "da364aa0-c98c-4aa8-b490-3ffb98a913fd",
     "showTitle": false,
     "title": ""
    }
   },
   "source": [
    "Criando o produto para o tópico criado anteriormente - Kafka Producer"
   ]
  },
  {
   "cell_type": "code",
   "execution_count": 0,
   "metadata": {
    "application/vnd.databricks.v1+cell": {
     "cellMetadata": {
      "byteLimit": 2048000,
      "rowLimit": 10000
     },
     "inputWidgets": {},
     "nuid": "9b92eebc-2eb1-499b-88b5-17c6e8a295ad",
     "showTitle": false,
     "title": ""
    }
   },
   "outputs": [],
   "source": [
    "import json\n",
    "\n",
    "from kafka import KafkaProducer"
   ]
  },
  {
   "cell_type": "code",
   "execution_count": 0,
   "metadata": {
    "application/vnd.databricks.v1+cell": {
     "cellMetadata": {
      "byteLimit": 2048000,
      "rowLimit": 10000
     },
     "inputWidgets": {},
     "nuid": "198687c2-a645-49bf-b69c-d273715ecc6e",
     "showTitle": false,
     "title": ""
    }
   },
   "outputs": [],
   "source": [
    "def streaming(df: DataFrame) -> None:\n",
    "    producer = KafkaProducer(bootstrap_servers=[\"localhost:9092\"])\n",
    "    topic = \"primeiro_topico\"\n",
    "\n",
    "    # json_data = df.toJSON().collect()\n",
    "    json_data = df\n",
    "    mensagem = json.dumps(json_data[0]).encode('utf-8')\n",
    "\n",
    "    producer.send(topic, mensagem)"
   ]
  },
  {
   "cell_type": "code",
   "execution_count": 0,
   "metadata": {
    "application/vnd.databricks.v1+cell": {
     "cellMetadata": {
      "byteLimit": 2048000,
      "rowLimit": 10000
     },
     "inputWidgets": {},
     "nuid": "82bc6053-a658-4a10-9310-7a4f1ae35671",
     "showTitle": false,
     "title": ""
    }
   },
   "outputs": [],
   "source": [
    "df = extract()\n",
    "for index in range(1, len(df.collect()) + 1):\n",
    "    linha_selecionada = df.head(index)\n",
    "    streaming(linha_selecionada)"
   ]
  },
  {
   "cell_type": "markdown",
   "metadata": {
    "application/vnd.databricks.v1+cell": {
     "cellMetadata": {},
     "inputWidgets": {},
     "nuid": "6482db20-df1d-4824-b953-c7396b5e0b3d",
     "showTitle": false,
     "title": ""
    }
   },
   "source": [
    "Consumindo os arquivos do Spark Streaming"
   ]
  },
  {
   "cell_type": "code",
   "execution_count": 0,
   "metadata": {
    "application/vnd.databricks.v1+cell": {
     "cellMetadata": {
      "byteLimit": 2048000,
      "rowLimit": 10000
     },
     "inputWidgets": {},
     "nuid": "195637a7-1871-4ba4-bedb-9d55288dc035",
     "showTitle": false,
     "title": ""
    }
   },
   "outputs": [
    {
     "output_type": "stream",
     "name": "stdout",
     "output_type": "stream",
     "text": [
      "Out[79]: [FileInfo(path='dbfs:/FileStore/streaming_data/data/', name='data/', size=0, modificationTime=0),\n FileInfo(path='dbfs:/FileStore/streaming_data/data.parquet/', name='data.parquet/', size=0, modificationTime=0)]"
     ]
    }
   ],
   "source": [
    "dbutils.fs.ls(\"/FileStore/streaming_data/\")"
   ]
  },
  {
   "cell_type": "code",
   "execution_count": 0,
   "metadata": {
    "application/vnd.databricks.v1+cell": {
     "cellMetadata": {
      "byteLimit": 2048000,
      "rowLimit": 10000
     },
     "inputWidgets": {},
     "nuid": "9a602f09-6534-4838-be5f-30ccb26a4094",
     "showTitle": false,
     "title": ""
    }
   },
   "outputs": [
    {
     "output_type": "display_data",
     "data": {
      "text/plain": [
       "\u001B[0;31m---------------------------------------------------------------------------\u001B[0m\n",
       "\u001B[0;31mAnalysisException\u001B[0m                         Traceback (most recent call last)\n",
       "File \u001B[0;32m<command-4215692481192687>:1\u001B[0m\n",
       "\u001B[0;32m----> 1\u001B[0m data_streaming \u001B[38;5;241m=\u001B[39m \u001B[43mspark\u001B[49m\u001B[38;5;241;43m.\u001B[39;49m\u001B[43mread\u001B[49m\u001B[38;5;241;43m.\u001B[39;49m\u001B[43mparquet\u001B[49m\u001B[43m(\u001B[49m\u001B[38;5;124;43m\"\u001B[39;49m\u001B[38;5;124;43m/FileStore/streaming_data/data\u001B[39;49m\u001B[38;5;124;43m\"\u001B[39;49m\u001B[43m)\u001B[49m\n",
       "\n",
       "File \u001B[0;32m/databricks/spark/python/pyspark/instrumentation_utils.py:48\u001B[0m, in \u001B[0;36m_wrap_function.<locals>.wrapper\u001B[0;34m(*args, **kwargs)\u001B[0m\n",
       "\u001B[1;32m     46\u001B[0m start \u001B[38;5;241m=\u001B[39m time\u001B[38;5;241m.\u001B[39mperf_counter()\n",
       "\u001B[1;32m     47\u001B[0m \u001B[38;5;28;01mtry\u001B[39;00m:\n",
       "\u001B[0;32m---> 48\u001B[0m     res \u001B[38;5;241m=\u001B[39m \u001B[43mfunc\u001B[49m\u001B[43m(\u001B[49m\u001B[38;5;241;43m*\u001B[39;49m\u001B[43margs\u001B[49m\u001B[43m,\u001B[49m\u001B[43m \u001B[49m\u001B[38;5;241;43m*\u001B[39;49m\u001B[38;5;241;43m*\u001B[39;49m\u001B[43mkwargs\u001B[49m\u001B[43m)\u001B[49m\n",
       "\u001B[1;32m     49\u001B[0m     logger\u001B[38;5;241m.\u001B[39mlog_success(\n",
       "\u001B[1;32m     50\u001B[0m         module_name, class_name, function_name, time\u001B[38;5;241m.\u001B[39mperf_counter() \u001B[38;5;241m-\u001B[39m start, signature\n",
       "\u001B[1;32m     51\u001B[0m     )\n",
       "\u001B[1;32m     52\u001B[0m     \u001B[38;5;28;01mreturn\u001B[39;00m res\n",
       "\n",
       "File \u001B[0;32m/databricks/spark/python/pyspark/sql/readwriter.py:533\u001B[0m, in \u001B[0;36mDataFrameReader.parquet\u001B[0;34m(self, *paths, **options)\u001B[0m\n",
       "\u001B[1;32m    522\u001B[0m int96RebaseMode \u001B[38;5;241m=\u001B[39m options\u001B[38;5;241m.\u001B[39mget(\u001B[38;5;124m\"\u001B[39m\u001B[38;5;124mint96RebaseMode\u001B[39m\u001B[38;5;124m\"\u001B[39m, \u001B[38;5;28;01mNone\u001B[39;00m)\n",
       "\u001B[1;32m    523\u001B[0m \u001B[38;5;28mself\u001B[39m\u001B[38;5;241m.\u001B[39m_set_opts(\n",
       "\u001B[1;32m    524\u001B[0m     mergeSchema\u001B[38;5;241m=\u001B[39mmergeSchema,\n",
       "\u001B[1;32m    525\u001B[0m     pathGlobFilter\u001B[38;5;241m=\u001B[39mpathGlobFilter,\n",
       "\u001B[0;32m   (...)\u001B[0m\n",
       "\u001B[1;32m    530\u001B[0m     int96RebaseMode\u001B[38;5;241m=\u001B[39mint96RebaseMode,\n",
       "\u001B[1;32m    531\u001B[0m )\n",
       "\u001B[0;32m--> 533\u001B[0m \u001B[38;5;28;01mreturn\u001B[39;00m \u001B[38;5;28mself\u001B[39m\u001B[38;5;241m.\u001B[39m_df(\u001B[38;5;28;43mself\u001B[39;49m\u001B[38;5;241;43m.\u001B[39;49m\u001B[43m_jreader\u001B[49m\u001B[38;5;241;43m.\u001B[39;49m\u001B[43mparquet\u001B[49m\u001B[43m(\u001B[49m\u001B[43m_to_seq\u001B[49m\u001B[43m(\u001B[49m\u001B[38;5;28;43mself\u001B[39;49m\u001B[38;5;241;43m.\u001B[39;49m\u001B[43m_spark\u001B[49m\u001B[38;5;241;43m.\u001B[39;49m\u001B[43m_sc\u001B[49m\u001B[43m,\u001B[49m\u001B[43m \u001B[49m\u001B[43mpaths\u001B[49m\u001B[43m)\u001B[49m\u001B[43m)\u001B[49m)\n",
       "\n",
       "File \u001B[0;32m/databricks/spark/python/lib/py4j-0.10.9.5-src.zip/py4j/java_gateway.py:1321\u001B[0m, in \u001B[0;36mJavaMember.__call__\u001B[0;34m(self, *args)\u001B[0m\n",
       "\u001B[1;32m   1315\u001B[0m command \u001B[38;5;241m=\u001B[39m proto\u001B[38;5;241m.\u001B[39mCALL_COMMAND_NAME \u001B[38;5;241m+\u001B[39m\\\n",
       "\u001B[1;32m   1316\u001B[0m     \u001B[38;5;28mself\u001B[39m\u001B[38;5;241m.\u001B[39mcommand_header \u001B[38;5;241m+\u001B[39m\\\n",
       "\u001B[1;32m   1317\u001B[0m     args_command \u001B[38;5;241m+\u001B[39m\\\n",
       "\u001B[1;32m   1318\u001B[0m     proto\u001B[38;5;241m.\u001B[39mEND_COMMAND_PART\n",
       "\u001B[1;32m   1320\u001B[0m answer \u001B[38;5;241m=\u001B[39m \u001B[38;5;28mself\u001B[39m\u001B[38;5;241m.\u001B[39mgateway_client\u001B[38;5;241m.\u001B[39msend_command(command)\n",
       "\u001B[0;32m-> 1321\u001B[0m return_value \u001B[38;5;241m=\u001B[39m \u001B[43mget_return_value\u001B[49m\u001B[43m(\u001B[49m\n",
       "\u001B[1;32m   1322\u001B[0m \u001B[43m    \u001B[49m\u001B[43manswer\u001B[49m\u001B[43m,\u001B[49m\u001B[43m \u001B[49m\u001B[38;5;28;43mself\u001B[39;49m\u001B[38;5;241;43m.\u001B[39;49m\u001B[43mgateway_client\u001B[49m\u001B[43m,\u001B[49m\u001B[43m \u001B[49m\u001B[38;5;28;43mself\u001B[39;49m\u001B[38;5;241;43m.\u001B[39;49m\u001B[43mtarget_id\u001B[49m\u001B[43m,\u001B[49m\u001B[43m \u001B[49m\u001B[38;5;28;43mself\u001B[39;49m\u001B[38;5;241;43m.\u001B[39;49m\u001B[43mname\u001B[49m\u001B[43m)\u001B[49m\n",
       "\u001B[1;32m   1324\u001B[0m \u001B[38;5;28;01mfor\u001B[39;00m temp_arg \u001B[38;5;129;01min\u001B[39;00m temp_args:\n",
       "\u001B[1;32m   1325\u001B[0m     temp_arg\u001B[38;5;241m.\u001B[39m_detach()\n",
       "\n",
       "File \u001B[0;32m/databricks/spark/python/pyspark/errors/exceptions.py:234\u001B[0m, in \u001B[0;36mcapture_sql_exception.<locals>.deco\u001B[0;34m(*a, **kw)\u001B[0m\n",
       "\u001B[1;32m    230\u001B[0m converted \u001B[38;5;241m=\u001B[39m convert_exception(e\u001B[38;5;241m.\u001B[39mjava_exception)\n",
       "\u001B[1;32m    231\u001B[0m \u001B[38;5;28;01mif\u001B[39;00m \u001B[38;5;129;01mnot\u001B[39;00m \u001B[38;5;28misinstance\u001B[39m(converted, UnknownException):\n",
       "\u001B[1;32m    232\u001B[0m     \u001B[38;5;66;03m# Hide where the exception came from that shows a non-Pythonic\u001B[39;00m\n",
       "\u001B[1;32m    233\u001B[0m     \u001B[38;5;66;03m# JVM exception message.\u001B[39;00m\n",
       "\u001B[0;32m--> 234\u001B[0m     \u001B[38;5;28;01mraise\u001B[39;00m converted \u001B[38;5;28;01mfrom\u001B[39;00m \u001B[38;5;28mNone\u001B[39m\n",
       "\u001B[1;32m    235\u001B[0m \u001B[38;5;28;01melse\u001B[39;00m:\n",
       "\u001B[1;32m    236\u001B[0m     \u001B[38;5;28;01mraise\u001B[39;00m\n",
       "\n",
       "\u001B[0;31mAnalysisException\u001B[0m: Unable to infer schema for Parquet. It must be specified manually."
      ]
     },
     "metadata": {
      "application/vnd.databricks.v1+output": {
       "arguments": {},
       "data": "\u001B[0;31m---------------------------------------------------------------------------\u001B[0m\n\u001B[0;31mAnalysisException\u001B[0m                         Traceback (most recent call last)\nFile \u001B[0;32m<command-4215692481192687>:1\u001B[0m\n\u001B[0;32m----> 1\u001B[0m data_streaming \u001B[38;5;241m=\u001B[39m \u001B[43mspark\u001B[49m\u001B[38;5;241;43m.\u001B[39;49m\u001B[43mread\u001B[49m\u001B[38;5;241;43m.\u001B[39;49m\u001B[43mparquet\u001B[49m\u001B[43m(\u001B[49m\u001B[38;5;124;43m\"\u001B[39;49m\u001B[38;5;124;43m/FileStore/streaming_data/data\u001B[39;49m\u001B[38;5;124;43m\"\u001B[39;49m\u001B[43m)\u001B[49m\n\nFile \u001B[0;32m/databricks/spark/python/pyspark/instrumentation_utils.py:48\u001B[0m, in \u001B[0;36m_wrap_function.<locals>.wrapper\u001B[0;34m(*args, **kwargs)\u001B[0m\n\u001B[1;32m     46\u001B[0m start \u001B[38;5;241m=\u001B[39m time\u001B[38;5;241m.\u001B[39mperf_counter()\n\u001B[1;32m     47\u001B[0m \u001B[38;5;28;01mtry\u001B[39;00m:\n\u001B[0;32m---> 48\u001B[0m     res \u001B[38;5;241m=\u001B[39m \u001B[43mfunc\u001B[49m\u001B[43m(\u001B[49m\u001B[38;5;241;43m*\u001B[39;49m\u001B[43margs\u001B[49m\u001B[43m,\u001B[49m\u001B[43m \u001B[49m\u001B[38;5;241;43m*\u001B[39;49m\u001B[38;5;241;43m*\u001B[39;49m\u001B[43mkwargs\u001B[49m\u001B[43m)\u001B[49m\n\u001B[1;32m     49\u001B[0m     logger\u001B[38;5;241m.\u001B[39mlog_success(\n\u001B[1;32m     50\u001B[0m         module_name, class_name, function_name, time\u001B[38;5;241m.\u001B[39mperf_counter() \u001B[38;5;241m-\u001B[39m start, signature\n\u001B[1;32m     51\u001B[0m     )\n\u001B[1;32m     52\u001B[0m     \u001B[38;5;28;01mreturn\u001B[39;00m res\n\nFile \u001B[0;32m/databricks/spark/python/pyspark/sql/readwriter.py:533\u001B[0m, in \u001B[0;36mDataFrameReader.parquet\u001B[0;34m(self, *paths, **options)\u001B[0m\n\u001B[1;32m    522\u001B[0m int96RebaseMode \u001B[38;5;241m=\u001B[39m options\u001B[38;5;241m.\u001B[39mget(\u001B[38;5;124m\"\u001B[39m\u001B[38;5;124mint96RebaseMode\u001B[39m\u001B[38;5;124m\"\u001B[39m, \u001B[38;5;28;01mNone\u001B[39;00m)\n\u001B[1;32m    523\u001B[0m \u001B[38;5;28mself\u001B[39m\u001B[38;5;241m.\u001B[39m_set_opts(\n\u001B[1;32m    524\u001B[0m     mergeSchema\u001B[38;5;241m=\u001B[39mmergeSchema,\n\u001B[1;32m    525\u001B[0m     pathGlobFilter\u001B[38;5;241m=\u001B[39mpathGlobFilter,\n\u001B[0;32m   (...)\u001B[0m\n\u001B[1;32m    530\u001B[0m     int96RebaseMode\u001B[38;5;241m=\u001B[39mint96RebaseMode,\n\u001B[1;32m    531\u001B[0m )\n\u001B[0;32m--> 533\u001B[0m \u001B[38;5;28;01mreturn\u001B[39;00m \u001B[38;5;28mself\u001B[39m\u001B[38;5;241m.\u001B[39m_df(\u001B[38;5;28;43mself\u001B[39;49m\u001B[38;5;241;43m.\u001B[39;49m\u001B[43m_jreader\u001B[49m\u001B[38;5;241;43m.\u001B[39;49m\u001B[43mparquet\u001B[49m\u001B[43m(\u001B[49m\u001B[43m_to_seq\u001B[49m\u001B[43m(\u001B[49m\u001B[38;5;28;43mself\u001B[39;49m\u001B[38;5;241;43m.\u001B[39;49m\u001B[43m_spark\u001B[49m\u001B[38;5;241;43m.\u001B[39;49m\u001B[43m_sc\u001B[49m\u001B[43m,\u001B[49m\u001B[43m \u001B[49m\u001B[43mpaths\u001B[49m\u001B[43m)\u001B[49m\u001B[43m)\u001B[49m)\n\nFile \u001B[0;32m/databricks/spark/python/lib/py4j-0.10.9.5-src.zip/py4j/java_gateway.py:1321\u001B[0m, in \u001B[0;36mJavaMember.__call__\u001B[0;34m(self, *args)\u001B[0m\n\u001B[1;32m   1315\u001B[0m command \u001B[38;5;241m=\u001B[39m proto\u001B[38;5;241m.\u001B[39mCALL_COMMAND_NAME \u001B[38;5;241m+\u001B[39m\\\n\u001B[1;32m   1316\u001B[0m     \u001B[38;5;28mself\u001B[39m\u001B[38;5;241m.\u001B[39mcommand_header \u001B[38;5;241m+\u001B[39m\\\n\u001B[1;32m   1317\u001B[0m     args_command \u001B[38;5;241m+\u001B[39m\\\n\u001B[1;32m   1318\u001B[0m     proto\u001B[38;5;241m.\u001B[39mEND_COMMAND_PART\n\u001B[1;32m   1320\u001B[0m answer \u001B[38;5;241m=\u001B[39m \u001B[38;5;28mself\u001B[39m\u001B[38;5;241m.\u001B[39mgateway_client\u001B[38;5;241m.\u001B[39msend_command(command)\n\u001B[0;32m-> 1321\u001B[0m return_value \u001B[38;5;241m=\u001B[39m \u001B[43mget_return_value\u001B[49m\u001B[43m(\u001B[49m\n\u001B[1;32m   1322\u001B[0m \u001B[43m    \u001B[49m\u001B[43manswer\u001B[49m\u001B[43m,\u001B[49m\u001B[43m \u001B[49m\u001B[38;5;28;43mself\u001B[39;49m\u001B[38;5;241;43m.\u001B[39;49m\u001B[43mgateway_client\u001B[49m\u001B[43m,\u001B[49m\u001B[43m \u001B[49m\u001B[38;5;28;43mself\u001B[39;49m\u001B[38;5;241;43m.\u001B[39;49m\u001B[43mtarget_id\u001B[49m\u001B[43m,\u001B[49m\u001B[43m \u001B[49m\u001B[38;5;28;43mself\u001B[39;49m\u001B[38;5;241;43m.\u001B[39;49m\u001B[43mname\u001B[49m\u001B[43m)\u001B[49m\n\u001B[1;32m   1324\u001B[0m \u001B[38;5;28;01mfor\u001B[39;00m temp_arg \u001B[38;5;129;01min\u001B[39;00m temp_args:\n\u001B[1;32m   1325\u001B[0m     temp_arg\u001B[38;5;241m.\u001B[39m_detach()\n\nFile \u001B[0;32m/databricks/spark/python/pyspark/errors/exceptions.py:234\u001B[0m, in \u001B[0;36mcapture_sql_exception.<locals>.deco\u001B[0;34m(*a, **kw)\u001B[0m\n\u001B[1;32m    230\u001B[0m converted \u001B[38;5;241m=\u001B[39m convert_exception(e\u001B[38;5;241m.\u001B[39mjava_exception)\n\u001B[1;32m    231\u001B[0m \u001B[38;5;28;01mif\u001B[39;00m \u001B[38;5;129;01mnot\u001B[39;00m \u001B[38;5;28misinstance\u001B[39m(converted, UnknownException):\n\u001B[1;32m    232\u001B[0m     \u001B[38;5;66;03m# Hide where the exception came from that shows a non-Pythonic\u001B[39;00m\n\u001B[1;32m    233\u001B[0m     \u001B[38;5;66;03m# JVM exception message.\u001B[39;00m\n\u001B[0;32m--> 234\u001B[0m     \u001B[38;5;28;01mraise\u001B[39;00m converted \u001B[38;5;28;01mfrom\u001B[39;00m \u001B[38;5;28mNone\u001B[39m\n\u001B[1;32m    235\u001B[0m \u001B[38;5;28;01melse\u001B[39;00m:\n\u001B[1;32m    236\u001B[0m     \u001B[38;5;28;01mraise\u001B[39;00m\n\n\u001B[0;31mAnalysisException\u001B[0m: Unable to infer schema for Parquet. It must be specified manually.",
       "errorSummary": "<span class='ansi-red-fg'>AnalysisException</span>: Unable to infer schema for Parquet. It must be specified manually.",
       "errorTraceType": "ansi",
       "metadata": {},
       "type": "ipynbError"
      }
     },
     "output_type": "display_data"
    }
   ],
   "source": [
    "data_streaming = spark.read.parquet(\"/FileStore/streaming_data/\")"
   ]
  },
  {
   "cell_type": "code",
   "execution_count": 0,
   "metadata": {
    "application/vnd.databricks.v1+cell": {
     "cellMetadata": {
      "byteLimit": 2048000,
      "rowLimit": 10000
     },
     "inputWidgets": {},
     "nuid": "04855d4f-99ed-48ff-8c24-8b14774be2e6",
     "showTitle": false,
     "title": ""
    }
   },
   "outputs": [
    {
     "output_type": "stream",
     "name": "stdout",
     "output_type": "stream",
     "text": [
      "Out[143]: [Row(id='1', name=None, author=None, title=None, description=None, url=None, urlToImage=None, publishedAt=None, content=None),\n Row(id='1', name=None, author=None, title=None, description=None, url=None, urlToImage=None, publishedAt=None, content=None),\n Row(id='1', name=None, author=None, title=None, description=None, url=None, urlToImage=None, publishedAt=None, content=None),\n Row(id='1', name=None, author=None, title=None, description=None, url=None, urlToImage=None, publishedAt=None, content=None),\n Row(id='1', name=None, author=None, title=None, description=None, url=None, urlToImage=None, publishedAt=None, content=None)]"
     ]
    }
   ],
   "source": [
    "data_streaming.head(5)"
   ]
  }
 ],
 "metadata": {
  "application/vnd.databricks.v1+notebook": {
   "dashboards": [],
   "language": "python",
   "notebookMetadata": {
    "mostRecentlyExecutedCommandWithImplicitDF": {
     "commandId": 4215692481192715,
     "dataframes": [
      "_sqldf"
     ]
    },
    "pythonIndentUnit": 4
   },
   "notebookName": "Projeto_Extracao_de_Dados_I",
   "widgets": {}
  }
 },
 "nbformat": 4,
 "nbformat_minor": 0
}
